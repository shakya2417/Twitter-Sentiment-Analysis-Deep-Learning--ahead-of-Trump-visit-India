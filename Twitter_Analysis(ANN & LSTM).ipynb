{
  "nbformat": 4,
  "nbformat_minor": 0,
  "metadata": {
    "colab": {
      "name": "Twitter Analysis.ipynb",
      "provenance": [],
      "collapsed_sections": []
    },
    "kernelspec": {
      "name": "python3",
      "display_name": "Python 3"
    }
  },
  "cells": [
    {
      "cell_type": "markdown",
      "metadata": {
        "id": "9W4ag-K4iGrH",
        "colab_type": "text"
      },
      "source": [
        "#**Importing Libraries**"
      ]
    },
    {
      "cell_type": "code",
      "metadata": {
        "id": "Bkpe0lEFv2ib",
        "colab_type": "code",
        "colab": {}
      },
      "source": [
        "import tweepy\n",
        "import re\n",
        "import pickle\n",
        "import pandas as pd\n",
        "import seaborn as sns\n",
        "import matplotlib.pyplot as plt\n",
        "import time\n",
        "sns.set_style('whitegrid')\n",
        "sns.set_palette('GnBu_d')"
      ],
      "execution_count": 0,
      "outputs": []
    },
    {
      "cell_type": "code",
      "metadata": {
        "id": "xKiaYAtlnpEm",
        "colab_type": "code",
        "outputId": "641f8879-afec-49b4-8d02-88b7710d6c08",
        "colab": {
          "base_uri": "https://localhost:8080/",
          "height": 102
        }
      },
      "source": [
        "import nltk\n",
        "from nltk.corpus import stopwords\n",
        "from sklearn.datasets import load_files\n",
        "nltk.download('stopwords')\n",
        "nltk.download('punkt')"
      ],
      "execution_count": 0,
      "outputs": [
        {
          "output_type": "stream",
          "text": [
            "[nltk_data] Downloading package stopwords to /root/nltk_data...\n",
            "[nltk_data]   Unzipping corpora/stopwords.zip.\n",
            "[nltk_data] Downloading package punkt to /root/nltk_data...\n",
            "[nltk_data]   Unzipping tokenizers/punkt.zip.\n"
          ],
          "name": "stdout"
        },
        {
          "output_type": "execute_result",
          "data": {
            "text/plain": [
              "True"
            ]
          },
          "metadata": {
            "tags": []
          },
          "execution_count": 2
        }
      ]
    },
    {
      "cell_type": "code",
      "metadata": {
        "id": "eX5t35hAv68S",
        "colab_type": "code",
        "colab": {}
      },
      "source": [
        "from tweepy import OAuthHandler"
      ],
      "execution_count": 0,
      "outputs": []
    },
    {
      "cell_type": "markdown",
      "metadata": {
        "id": "ICdCRB6IiXue",
        "colab_type": "text"
      },
      "source": [
        "#**Changing Working Directory**"
      ]
    },
    {
      "cell_type": "code",
      "metadata": {
        "id": "0aibbeMdv9Na",
        "colab_type": "code",
        "colab": {}
      },
      "source": [
        "import os"
      ],
      "execution_count": 0,
      "outputs": []
    },
    {
      "cell_type": "code",
      "metadata": {
        "id": "pMTAAfX4v_ys",
        "colab_type": "code",
        "outputId": "17f6e1c0-6a93-4d02-b73a-8abadb07ea0e",
        "colab": {
          "base_uri": "https://localhost:8080/",
          "height": 34
        }
      },
      "source": [
        "os.getcwd()"
      ],
      "execution_count": 0,
      "outputs": [
        {
          "output_type": "execute_result",
          "data": {
            "text/plain": [
              "'/content'"
            ]
          },
          "metadata": {
            "tags": []
          },
          "execution_count": 5
        }
      ]
    },
    {
      "cell_type": "code",
      "metadata": {
        "id": "da59v4iiwC5M",
        "colab_type": "code",
        "colab": {}
      },
      "source": [
        "os.chdir('/content/drive/My Drive/Colab Notebooks/Twitter Sentiment Analysis')"
      ],
      "execution_count": 0,
      "outputs": []
    },
    {
      "cell_type": "markdown",
      "metadata": {
        "id": "9_rByx7eiiBe",
        "colab_type": "text"
      },
      "source": [
        "#**Authentication Details**"
      ]
    },
    {
      "cell_type": "code",
      "metadata": {
        "id": "pYpSQz-swOZI",
        "colab_type": "code",
        "colab": {}
      },
      "source": [
        "consumer_key = 'yoIwFkjZGYDa49aO16XqSNqcN'\n",
        "consumer_secret = 'gl4LQOItV7Z1aFwNrlvaiKJ3t8o8h99blMIAmnmdHxYjzjRAxO' \n",
        "access_token = '624310916-E7fDF2IE8P6bfY1oVFglASf6F8RnxMd3vgSXFqnZ'\n",
        "access_secret ='ID9JcoXHsDcKtvNcnmBGcCQhUlO0wmwAxBJ6LCesiUAas'\n"
      ],
      "execution_count": 0,
      "outputs": []
    },
    {
      "cell_type": "code",
      "metadata": {
        "id": "4oVlcYbuwXkY",
        "colab_type": "code",
        "colab": {}
      },
      "source": [
        "auth = OAuthHandler(consumer_key, consumer_secret)\n",
        "auth.set_access_token(access_token, access_secret)\n",
        "api = tweepy.API(auth,timeout=15)\n"
      ],
      "execution_count": 0,
      "outputs": []
    },
    {
      "cell_type": "code",
      "metadata": {
        "id": "Z8KU4OhlUZYe",
        "colab_type": "code",
        "colab": {}
      },
      "source": [
        "places = api.geo_search(query=\"INDIA\", granularity=\"country\")"
      ],
      "execution_count": 0,
      "outputs": []
    },
    {
      "cell_type": "code",
      "metadata": {
        "id": "kmwmc-ITUZVp",
        "colab_type": "code",
        "outputId": "bd49a456-d24e-4735-edf6-87044285e2ac",
        "colab": {
          "base_uri": "https://localhost:8080/",
          "height": 34
        }
      },
      "source": [
        "place_id = places[0].id\n",
        "print('india id is: ',place_id)"
      ],
      "execution_count": 0,
      "outputs": [
        {
          "output_type": "stream",
          "text": [
            "india id is:  b850c1bfd38f30e0\n"
          ],
          "name": "stdout"
        }
      ]
    },
    {
      "cell_type": "code",
      "metadata": {
        "id": "00lHzaH0UZSg",
        "colab_type": "code",
        "outputId": "5a0e3771-93d9-4ca3-936a-7fb36f1138b3",
        "colab": {
          "base_uri": "https://localhost:8080/",
          "height": 71
        }
      },
      "source": [
        "places"
      ],
      "execution_count": 0,
      "outputs": [
        {
          "output_type": "execute_result",
          "data": {
            "text/plain": [
              "[Place(_api=<tweepy.api.API object at 0x7fbc5b61a400>, id='b850c1bfd38f30e0', url='https://api.twitter.com/1.1/geo/id/b850c1bfd38f30e0.json', place_type='country', name='India', full_name='India', country_code='IN', country='India', contained_within=[], centroid=[79.91569416233017, 20.568453], bounding_box=BoundingBox(_api=<tweepy.api.API object at 0x7fbc5b61a400>, type='Polygon', coordinates=[[[67.997691, 6.622513], [67.997691, 33.254896], [97.170672, 33.254896], [97.170672, 6.622513], [67.997691, 6.622513]]]), attributes={}),\n",
              " Place(_api=<tweepy.api.API object at 0x7fbc5b61a400>, id='88f6c97979c5c22d', url='https://api.twitter.com/1.1/geo/id/88f6c97979c5c22d.json', place_type='country', name='British Indian Ocean Territory', full_name='British Indian Ocean Territory', country_code='IO', country='British Indian Ocean Territory', contained_within=[], centroid=[71.3834071192206, -6.684143000000001], bounding_box=BoundingBox(_api=<tweepy.api.API object at 0x7fbc5b61a400>, type='Polygon', coordinates=[[[71.2377863, -7.4439504], [71.2377863, -5.2356813], [72.4952313, -5.2356813], [72.4952313, -7.4439504], [71.2377863, -7.4439504]]]), attributes={})]"
            ]
          },
          "metadata": {
            "tags": []
          },
          "execution_count": 11
        }
      ]
    },
    {
      "cell_type": "markdown",
      "metadata": {
        "id": "nckhefimiqso",
        "colab_type": "text"
      },
      "source": [
        "#**Collecting Tweets from Twitter**"
      ]
    },
    {
      "cell_type": "code",
      "metadata": {
        "id": "_A-T7vmexNVN",
        "colab_type": "code",
        "colab": {}
      },
      "source": [
        "args = ['trump visit delhi']\n",
        "delhi_tweets={}\n",
        "query = args[0]\n",
        "if len(args) == 1:\n",
        "    for status in tweepy.Cursor(api.search,q=query+\" -filter:retweets\",tweet_mode=\"extended\",lang='en',locale='ja',result_type='recent',geocode=\"28.61309,77.209211,500km\",truncated=False).items():\n",
        "\n",
        "         delhi_tweets[status.created_at]=status.full_text    "
      ],
      "execution_count": 0,
      "outputs": []
    },
    {
      "cell_type": "code",
      "metadata": {
        "id": "5czXdGXeTPmc",
        "colab_type": "code",
        "colab": {}
      },
      "source": [
        "delhi_tweets=pd.DataFrame(delhi_tweets.items(),columns=['Time_stamp','Text'])"
      ],
      "execution_count": 0,
      "outputs": []
    },
    {
      "cell_type": "code",
      "metadata": {
        "id": "EFmjm0BwAVe2",
        "colab_type": "code",
        "outputId": "7c73c86f-ee6b-444f-f40b-cdcbf315bda1",
        "colab": {
          "base_uri": "https://localhost:8080/",
          "height": 204
        }
      },
      "source": [
        "delhi_tweets_copy=delhi_tweets.copy()\n",
        "delhi_tweets.tail()"
      ],
      "execution_count": 0,
      "outputs": [
        {
          "output_type": "execute_result",
          "data": {
            "text/html": [
              "<div>\n",
              "<style scoped>\n",
              "    .dataframe tbody tr th:only-of-type {\n",
              "        vertical-align: middle;\n",
              "    }\n",
              "\n",
              "    .dataframe tbody tr th {\n",
              "        vertical-align: top;\n",
              "    }\n",
              "\n",
              "    .dataframe thead th {\n",
              "        text-align: right;\n",
              "    }\n",
              "</style>\n",
              "<table border=\"1\" class=\"dataframe\">\n",
              "  <thead>\n",
              "    <tr style=\"text-align: right;\">\n",
              "      <th></th>\n",
              "      <th>Time_stamp</th>\n",
              "      <th>Text</th>\n",
              "    </tr>\n",
              "  </thead>\n",
              "  <tbody>\n",
              "    <tr>\n",
              "      <th>911</th>\n",
              "      <td>2020-02-17 12:49:22</td>\n",
              "      <td>Cost of Trump's \"3 hour\" visit in Ahmedabad eq...</td>\n",
              "    </tr>\n",
              "    <tr>\n",
              "      <th>912</th>\n",
              "      <td>2020-02-17 06:53:49</td>\n",
              "      <td>Garibi Chhupao : Sena mocks BJP for constructi...</td>\n",
              "    </tr>\n",
              "    <tr>\n",
              "      <th>913</th>\n",
              "      <td>2020-02-17 06:06:43</td>\n",
              "      <td>\"Namaste Trump\" : India embraces national flav...</td>\n",
              "    </tr>\n",
              "    <tr>\n",
              "      <th>914</th>\n",
              "      <td>2020-02-16 19:21:49</td>\n",
              "      <td>New Delhi,17 February, 2020\\nHearty welcome to...</td>\n",
              "    </tr>\n",
              "    <tr>\n",
              "      <th>915</th>\n",
              "      <td>2020-02-16 16:09:43</td>\n",
              "      <td>Building walls to hide slums in Gujarat for Tr...</td>\n",
              "    </tr>\n",
              "  </tbody>\n",
              "</table>\n",
              "</div>"
            ],
            "text/plain": [
              "             Time_stamp                                               Text\n",
              "911 2020-02-17 12:49:22  Cost of Trump's \"3 hour\" visit in Ahmedabad eq...\n",
              "912 2020-02-17 06:53:49  Garibi Chhupao : Sena mocks BJP for constructi...\n",
              "913 2020-02-17 06:06:43  \"Namaste Trump\" : India embraces national flav...\n",
              "914 2020-02-16 19:21:49  New Delhi,17 February, 2020\\nHearty welcome to...\n",
              "915 2020-02-16 16:09:43  Building walls to hide slums in Gujarat for Tr..."
            ]
          },
          "metadata": {
            "tags": []
          },
          "execution_count": 14
        }
      ]
    },
    {
      "cell_type": "code",
      "metadata": {
        "id": "L83fnAcPnRje",
        "colab_type": "code",
        "outputId": "d2a97da0-4603-41a2-9b41-a00581fd5924",
        "colab": {
          "base_uri": "https://localhost:8080/",
          "height": 136
        }
      },
      "source": [
        "delhi_tweets.info()"
      ],
      "execution_count": 0,
      "outputs": [
        {
          "output_type": "stream",
          "text": [
            "<class 'pandas.core.frame.DataFrame'>\n",
            "RangeIndex: 916 entries, 0 to 915\n",
            "Data columns (total 2 columns):\n",
            "Time_stamp    916 non-null datetime64[ns]\n",
            "Text          916 non-null object\n",
            "dtypes: datetime64[ns](1), object(1)\n",
            "memory usage: 14.4+ KB\n"
          ],
          "name": "stdout"
        }
      ]
    },
    {
      "cell_type": "code",
      "metadata": {
        "id": "ZwRnseVIaTR3",
        "colab_type": "code",
        "outputId": "c73ce4bd-e6c3-4755-e5bb-7fe5299f29a2",
        "colab": {
          "base_uri": "https://localhost:8080/",
          "height": 54
        }
      },
      "source": [
        "delhi_tweets['Text'][5]"
      ],
      "execution_count": 0,
      "outputs": [
        {
          "output_type": "execute_result",
          "data": {
            "text/plain": [
              "\"#DelhiViolence\\n\\nTheCitizen's timeline of the events so far: https://t.co/0CheSUSjVk\\n#TCEditorial - Delhi is burning, evoking visions of 1984: https://t.co/OCWr2aqnr6 \\nHow the international media has covered the violence in Delhi: https://t.co/As8V4wniDl https://t.co/PpfPT9EWRU\""
            ]
          },
          "metadata": {
            "tags": []
          },
          "execution_count": 16
        }
      ]
    },
    {
      "cell_type": "code",
      "metadata": {
        "id": "aRKEIOpOWnCl",
        "colab_type": "code",
        "colab": {}
      },
      "source": [
        "args = ['trump agra']\n",
        "agra_tweets={}\n",
        "query = args[0]\n",
        "if len(args) == 1:\n",
        "    for status in tweepy.Cursor(api.search,q=query+\" -filter:retweets\",tweet_mode=\"extended\",lang='en',locale='ja',result_type='recent',geocode=\"27.174754,78.042244,200km\").items():\n",
        "\n",
        "         agra_tweets[status.created_at]=status.full_text      "
      ],
      "execution_count": 0,
      "outputs": []
    },
    {
      "cell_type": "code",
      "metadata": {
        "id": "ljR8r6QFYQlR",
        "colab_type": "code",
        "colab": {}
      },
      "source": [
        "agra_tweets=pd.DataFrame(agra_tweets.items(),columns=['Time_stamp','Text'])\n",
        "agra_tweets.head()\n",
        "agra_tweets_copy=agra_tweets.copy()"
      ],
      "execution_count": 0,
      "outputs": []
    },
    {
      "cell_type": "code",
      "metadata": {
        "id": "MEv-zvlsYjUC",
        "colab_type": "code",
        "outputId": "3a34f350-f992-40d9-b85a-35b07c8bf9ba",
        "colab": {
          "base_uri": "https://localhost:8080/",
          "height": 136
        }
      },
      "source": [
        "agra_tweets.info()"
      ],
      "execution_count": 0,
      "outputs": [
        {
          "output_type": "stream",
          "text": [
            "<class 'pandas.core.frame.DataFrame'>\n",
            "RangeIndex: 646 entries, 0 to 645\n",
            "Data columns (total 2 columns):\n",
            "Time_stamp    646 non-null datetime64[ns]\n",
            "Text          646 non-null object\n",
            "dtypes: datetime64[ns](1), object(1)\n",
            "memory usage: 10.2+ KB\n"
          ],
          "name": "stdout"
        }
      ]
    },
    {
      "cell_type": "code",
      "metadata": {
        "id": "QTnJsTL1YuiJ",
        "colab_type": "code",
        "colab": {}
      },
      "source": [
        "args = ['namaste trump']\n",
        "ahem_tweets={}\n",
        "query = args[0]\n",
        "if len(args) == 1:\n",
        "    for status in tweepy.Cursor(api.search,q=query+\" -filter:retweets\",tweet_mode=\"extended\",lang='en',locale='ja',result_type='recent',geocode=\"23.056363,72.575153,500km\").items():\n",
        "\n",
        "         ahem_tweets[status.created_at]=status.full_text  "
      ],
      "execution_count": 0,
      "outputs": []
    },
    {
      "cell_type": "code",
      "metadata": {
        "id": "jyUoEMlsbls5",
        "colab_type": "code",
        "outputId": "b95bfd45-c1ed-4e67-dc35-e24e35c7228f",
        "colab": {
          "base_uri": "https://localhost:8080/",
          "height": 204
        }
      },
      "source": [
        "ahem_tweets=pd.DataFrame(ahem_tweets.items(),columns=['Time_stamp','Text'])\n",
        "ahem_tweets_copy=ahem_tweets.copy()\n",
        "ahem_tweets.head()"
      ],
      "execution_count": 0,
      "outputs": [
        {
          "output_type": "execute_result",
          "data": {
            "text/html": [
              "<div>\n",
              "<style scoped>\n",
              "    .dataframe tbody tr th:only-of-type {\n",
              "        vertical-align: middle;\n",
              "    }\n",
              "\n",
              "    .dataframe tbody tr th {\n",
              "        vertical-align: top;\n",
              "    }\n",
              "\n",
              "    .dataframe thead th {\n",
              "        text-align: right;\n",
              "    }\n",
              "</style>\n",
              "<table border=\"1\" class=\"dataframe\">\n",
              "  <thead>\n",
              "    <tr style=\"text-align: right;\">\n",
              "      <th></th>\n",
              "      <th>Time_stamp</th>\n",
              "      <th>Text</th>\n",
              "    </tr>\n",
              "  </thead>\n",
              "  <tbody>\n",
              "    <tr>\n",
              "      <th>0</th>\n",
              "      <td>2020-02-26 05:03:44</td>\n",
              "      <td>*Namaste Trump*\\nBloody-Game,\\nGoing on \\n#Ind...</td>\n",
              "    </tr>\n",
              "    <tr>\n",
              "      <th>1</th>\n",
              "      <td>2020-02-26 05:01:54</td>\n",
              "      <td>Read - Shiv Sena in its mouthpiece Saamana has...</td>\n",
              "    </tr>\n",
              "    <tr>\n",
              "      <th>2</th>\n",
              "      <td>2020-02-26 04:34:51</td>\n",
              "      <td>Very good coverage of Namaste Trump program on...</td>\n",
              "    </tr>\n",
              "    <tr>\n",
              "      <th>3</th>\n",
              "      <td>2020-02-26 04:33:23</td>\n",
              "      <td>@WhiteHouse @realDonaldTrump Namaste Trump wel...</td>\n",
              "    </tr>\n",
              "    <tr>\n",
              "      <th>4</th>\n",
              "      <td>2020-02-26 04:24:47</td>\n",
              "      <td>EDIT |\\n\\nUS President Donald Trump’s visit to...</td>\n",
              "    </tr>\n",
              "  </tbody>\n",
              "</table>\n",
              "</div>"
            ],
            "text/plain": [
              "           Time_stamp                                               Text\n",
              "0 2020-02-26 05:03:44  *Namaste Trump*\\nBloody-Game,\\nGoing on \\n#Ind...\n",
              "1 2020-02-26 05:01:54  Read - Shiv Sena in its mouthpiece Saamana has...\n",
              "2 2020-02-26 04:34:51  Very good coverage of Namaste Trump program on...\n",
              "3 2020-02-26 04:33:23  @WhiteHouse @realDonaldTrump Namaste Trump wel...\n",
              "4 2020-02-26 04:24:47  EDIT |\\n\\nUS President Donald Trump’s visit to..."
            ]
          },
          "metadata": {
            "tags": []
          },
          "execution_count": 57
        }
      ]
    },
    {
      "cell_type": "code",
      "metadata": {
        "id": "eQbbdNhwcZe1",
        "colab_type": "code",
        "outputId": "9ee8cc87-6794-44ff-da76-fb0d2f5b1236",
        "colab": {
          "base_uri": "https://localhost:8080/",
          "height": 136
        }
      },
      "source": [
        "ahem_tweets.info()"
      ],
      "execution_count": 0,
      "outputs": [
        {
          "output_type": "stream",
          "text": [
            "<class 'pandas.core.frame.DataFrame'>\n",
            "RangeIndex: 1866 entries, 0 to 1865\n",
            "Data columns (total 2 columns):\n",
            "Time_stamp    1866 non-null datetime64[ns]\n",
            "Text          1866 non-null object\n",
            "dtypes: datetime64[ns](1), object(1)\n",
            "memory usage: 29.3+ KB\n"
          ],
          "name": "stdout"
        }
      ]
    },
    {
      "cell_type": "code",
      "metadata": {
        "id": "W1rSeb138VEG",
        "colab_type": "code",
        "colab": {}
      },
      "source": [
        "import pytz\n",
        "from datetime import datetime\n",
        "from pytz import timezone\n",
        "tz_India = pytz.timezone('Asia/Kolkata')"
      ],
      "execution_count": 0,
      "outputs": []
    },
    {
      "cell_type": "code",
      "metadata": {
        "id": "bx1IDX5u99CP",
        "colab_type": "code",
        "outputId": "41a40911-e287-471f-a8de-97f99ac1c842",
        "colab": {
          "base_uri": "https://localhost:8080/",
          "height": 34
        }
      },
      "source": [
        "str(datetime.now(tz_India))"
      ],
      "execution_count": 0,
      "outputs": [
        {
          "output_type": "execute_result",
          "data": {
            "text/plain": [
              "'2020-02-26 10:35:29.992757+05:30'"
            ]
          },
          "metadata": {
            "tags": []
          },
          "execution_count": 24
        }
      ]
    },
    {
      "cell_type": "markdown",
      "metadata": {
        "id": "i_x1ocUxi7Q4",
        "colab_type": "text"
      },
      "source": [
        "#**Text Cleaning**"
      ]
    },
    {
      "cell_type": "code",
      "metadata": {
        "id": "apj5PQ2JcdoI",
        "colab_type": "code",
        "colab": {}
      },
      "source": [
        "def clean_text(data,col):\n",
        "  corpus=[]\n",
        "  for i in range(len(data[col])):\n",
        "    text=re.sub(r'http\\S+', ' ', data[col][i])\n",
        "    text=text.lower()\n",
        "    text=re.sub(r\"that's\",\"that is\",text)\n",
        "    text = re.sub(r\"there's\",\"there is\",text)\n",
        "    text = re.sub(r\"what's\",\"what is\",text)\n",
        "    text = re.sub(r\"where's\",\"where is\",text)\n",
        "    text = re.sub(r\"it's\",\"it is\",text)\n",
        "    text = re.sub(r\"who's\",\"who is\",text)\n",
        "    text = re.sub(r\"i'm\",\"i am\",text)\n",
        "    text = re.sub(r\"she's\",\"she is\",text)\n",
        "    text = re.sub(r\"he's\",\"he is\",text)\n",
        "    text = re.sub(r\"they're\",\"they are\",text)\n",
        "    text = re.sub(r\"who're\",\"who are\",text)\n",
        "    text = re.sub(r\"ain't\",\"am not\",text)\n",
        "    text = re.sub(r\"wouldn't\",\"would not\",text)\n",
        "    text = re.sub(r\"shouldn't\",\"should not\",text)\n",
        "    text = re.sub(r\"can't\",\"can not\",text)\n",
        "    text = re.sub(r\"couldn't\",\"could not\",text)\n",
        "    text = re.sub(r\"won't\",\"will not\",text)\n",
        "    text=re.sub(r'[@#\\$%&\\*\\(\\)\\<\\>\\?\\!\\;\\'\\\\-\\_\"]',' ',text)\n",
        "    text= re.sub(r'\\W',' ',text)\n",
        "    text=re.sub(r'\\d',' ',text)\n",
        "    text=re.sub(r'^[a-z]\\s',' ',text)\n",
        "    text=re.sub(r'\\s+[a-z]\\s+',' ',text)\n",
        "    text=re.sub(r'\\s+[a-z]$',' ',text)\n",
        "    text=re.sub(r'\\s+',' ',text)\n",
        "    corpus.append(text)\n",
        "  return corpus"
      ],
      "execution_count": 0,
      "outputs": []
    },
    {
      "cell_type": "code",
      "metadata": {
        "id": "rmdNzyyHfV3q",
        "colab_type": "code",
        "colab": {}
      },
      "source": [
        "delhi_tweets['Text']=clean_text(delhi_tweets,'Text')"
      ],
      "execution_count": 0,
      "outputs": []
    },
    {
      "cell_type": "code",
      "metadata": {
        "id": "sC-oPHnVgEhS",
        "colab_type": "code",
        "outputId": "57540d0a-4339-4751-da7f-032355db4b3a",
        "colab": {
          "base_uri": "https://localhost:8080/",
          "height": 204
        }
      },
      "source": [
        "delhi_tweets.head()"
      ],
      "execution_count": 0,
      "outputs": [
        {
          "output_type": "execute_result",
          "data": {
            "text/html": [
              "<div>\n",
              "<style scoped>\n",
              "    .dataframe tbody tr th:only-of-type {\n",
              "        vertical-align: middle;\n",
              "    }\n",
              "\n",
              "    .dataframe tbody tr th {\n",
              "        vertical-align: top;\n",
              "    }\n",
              "\n",
              "    .dataframe thead th {\n",
              "        text-align: right;\n",
              "    }\n",
              "</style>\n",
              "<table border=\"1\" class=\"dataframe\">\n",
              "  <thead>\n",
              "    <tr style=\"text-align: right;\">\n",
              "      <th></th>\n",
              "      <th>Time_stamp</th>\n",
              "      <th>Text</th>\n",
              "    </tr>\n",
              "  </thead>\n",
              "  <tbody>\n",
              "    <tr>\n",
              "      <th>0</th>\n",
              "      <td>2020-02-26 04:47:18</td>\n",
              "      <td>delhiburning is orchestrated by the delhi pol...</td>\n",
              "    </tr>\n",
              "    <tr>\n",
              "      <th>1</th>\n",
              "      <td>2020-02-26 04:46:47</td>\n",
              "      <td>exclusive irked with donald trump india visit ...</td>\n",
              "    </tr>\n",
              "    <tr>\n",
              "      <th>2</th>\n",
              "      <td>2020-02-26 04:32:31</td>\n",
              "      <td>it is my first visit to india and cannot expre...</td>\n",
              "    </tr>\n",
              "    <tr>\n",
              "      <th>3</th>\n",
              "      <td>2020-02-26 04:28:14</td>\n",
              "      <td>this is state sponsored terrorism my report f...</td>\n",
              "    </tr>\n",
              "    <tr>\n",
              "      <th>4</th>\n",
              "      <td>2020-02-26 04:27:09</td>\n",
              "      <td>the trump visit is over can everyone please tu...</td>\n",
              "    </tr>\n",
              "  </tbody>\n",
              "</table>\n",
              "</div>"
            ],
            "text/plain": [
              "           Time_stamp                                               Text\n",
              "0 2020-02-26 04:47:18   delhiburning is orchestrated by the delhi pol...\n",
              "1 2020-02-26 04:46:47  exclusive irked with donald trump india visit ...\n",
              "2 2020-02-26 04:32:31  it is my first visit to india and cannot expre...\n",
              "3 2020-02-26 04:28:14   this is state sponsored terrorism my report f...\n",
              "4 2020-02-26 04:27:09  the trump visit is over can everyone please tu..."
            ]
          },
          "metadata": {
            "tags": []
          },
          "execution_count": 27
        }
      ]
    },
    {
      "cell_type": "code",
      "metadata": {
        "id": "yIjFeNM0lIyX",
        "colab_type": "code",
        "outputId": "e591dd92-8095-4988-caa4-4da06cf0c97d",
        "colab": {
          "base_uri": "https://localhost:8080/",
          "height": 136
        }
      },
      "source": [
        "delhi_tweets.info()"
      ],
      "execution_count": 0,
      "outputs": [
        {
          "output_type": "stream",
          "text": [
            "<class 'pandas.core.frame.DataFrame'>\n",
            "RangeIndex: 916 entries, 0 to 915\n",
            "Data columns (total 2 columns):\n",
            "Time_stamp    916 non-null datetime64[ns]\n",
            "Text          916 non-null object\n",
            "dtypes: datetime64[ns](1), object(1)\n",
            "memory usage: 14.4+ KB\n"
          ],
          "name": "stdout"
        }
      ]
    },
    {
      "cell_type": "code",
      "metadata": {
        "id": "blT8rPa2gS1t",
        "colab_type": "code",
        "colab": {}
      },
      "source": [
        "agra_tweets['Text']=clean_text(agra_tweets,'Text')"
      ],
      "execution_count": 0,
      "outputs": []
    },
    {
      "cell_type": "code",
      "metadata": {
        "id": "u5eHExO6glWk",
        "colab_type": "code",
        "outputId": "25c13012-3482-4595-f5d1-744ea224d185",
        "colab": {
          "base_uri": "https://localhost:8080/",
          "height": 204
        }
      },
      "source": [
        "agra_tweets.tail()"
      ],
      "execution_count": 0,
      "outputs": [
        {
          "output_type": "execute_result",
          "data": {
            "text/html": [
              "<div>\n",
              "<style scoped>\n",
              "    .dataframe tbody tr th:only-of-type {\n",
              "        vertical-align: middle;\n",
              "    }\n",
              "\n",
              "    .dataframe tbody tr th {\n",
              "        vertical-align: top;\n",
              "    }\n",
              "\n",
              "    .dataframe thead th {\n",
              "        text-align: right;\n",
              "    }\n",
              "</style>\n",
              "<table border=\"1\" class=\"dataframe\">\n",
              "  <thead>\n",
              "    <tr style=\"text-align: right;\">\n",
              "      <th></th>\n",
              "      <th>Time_stamp</th>\n",
              "      <th>Text</th>\n",
              "    </tr>\n",
              "  </thead>\n",
              "  <tbody>\n",
              "    <tr>\n",
              "      <th>641</th>\n",
              "      <td>2020-02-17 10:21:35</td>\n",
              "      <td>agra preparations underway in the city ahead o...</td>\n",
              "    </tr>\n",
              "    <tr>\n",
              "      <th>642</th>\n",
              "      <td>2020-02-17 06:38:36</td>\n",
              "      <td>yogi adityanath to visit agra to check prepara...</td>\n",
              "    </tr>\n",
              "    <tr>\n",
              "      <th>643</th>\n",
              "      <td>2020-02-17 05:50:00</td>\n",
              "      <td>before donald trump visit yogi to scout out agra</td>\n",
              "    </tr>\n",
              "    <tr>\n",
              "      <th>644</th>\n",
              "      <td>2020-02-17 05:43:28</td>\n",
              "      <td>yogi adityanath to review arrangements for tru...</td>\n",
              "    </tr>\n",
              "    <tr>\n",
              "      <th>645</th>\n",
              "      <td>2020-02-17 04:16:24</td>\n",
              "      <td>uttarpradesh chief minister yogiadityanath wi...</td>\n",
              "    </tr>\n",
              "  </tbody>\n",
              "</table>\n",
              "</div>"
            ],
            "text/plain": [
              "             Time_stamp                                               Text\n",
              "641 2020-02-17 10:21:35  agra preparations underway in the city ahead o...\n",
              "642 2020-02-17 06:38:36  yogi adityanath to visit agra to check prepara...\n",
              "643 2020-02-17 05:50:00  before donald trump visit yogi to scout out agra \n",
              "644 2020-02-17 05:43:28  yogi adityanath to review arrangements for tru...\n",
              "645 2020-02-17 04:16:24   uttarpradesh chief minister yogiadityanath wi..."
            ]
          },
          "metadata": {
            "tags": []
          },
          "execution_count": 30
        }
      ]
    },
    {
      "cell_type": "code",
      "metadata": {
        "id": "kegGYADhlS-9",
        "colab_type": "code",
        "outputId": "086e81ad-3b7f-49a1-8481-39882cf8b087",
        "colab": {
          "base_uri": "https://localhost:8080/",
          "height": 136
        }
      },
      "source": [
        "agra_tweets.info()"
      ],
      "execution_count": 0,
      "outputs": [
        {
          "output_type": "stream",
          "text": [
            "<class 'pandas.core.frame.DataFrame'>\n",
            "RangeIndex: 646 entries, 0 to 645\n",
            "Data columns (total 2 columns):\n",
            "Time_stamp    646 non-null datetime64[ns]\n",
            "Text          646 non-null object\n",
            "dtypes: datetime64[ns](1), object(1)\n",
            "memory usage: 10.2+ KB\n"
          ],
          "name": "stdout"
        }
      ]
    },
    {
      "cell_type": "code",
      "metadata": {
        "id": "T-IVZDB4gnZm",
        "colab_type": "code",
        "colab": {}
      },
      "source": [
        "ahem_tweets['Text']=clean_text(ahem_tweets,'Text')"
      ],
      "execution_count": 0,
      "outputs": []
    },
    {
      "cell_type": "code",
      "metadata": {
        "id": "rUMNgnNugved",
        "colab_type": "code",
        "outputId": "db0b0e1e-2910-43b3-84f1-3fa6c50f9c85",
        "colab": {
          "base_uri": "https://localhost:8080/",
          "height": 204
        }
      },
      "source": [
        "ahem_tweets.head()"
      ],
      "execution_count": 0,
      "outputs": [
        {
          "output_type": "execute_result",
          "data": {
            "text/html": [
              "<div>\n",
              "<style scoped>\n",
              "    .dataframe tbody tr th:only-of-type {\n",
              "        vertical-align: middle;\n",
              "    }\n",
              "\n",
              "    .dataframe tbody tr th {\n",
              "        vertical-align: top;\n",
              "    }\n",
              "\n",
              "    .dataframe thead th {\n",
              "        text-align: right;\n",
              "    }\n",
              "</style>\n",
              "<table border=\"1\" class=\"dataframe\">\n",
              "  <thead>\n",
              "    <tr style=\"text-align: right;\">\n",
              "      <th></th>\n",
              "      <th>Time_stamp</th>\n",
              "      <th>Text</th>\n",
              "    </tr>\n",
              "  </thead>\n",
              "  <tbody>\n",
              "    <tr>\n",
              "      <th>0</th>\n",
              "      <td>2020-02-26 05:03:44</td>\n",
              "      <td>namaste trump bloody game going on india but ...</td>\n",
              "    </tr>\n",
              "    <tr>\n",
              "      <th>1</th>\n",
              "      <td>2020-02-26 05:01:54</td>\n",
              "      <td>read shiv sena in its mouthpiece saamana has s...</td>\n",
              "    </tr>\n",
              "    <tr>\n",
              "      <th>2</th>\n",
              "      <td>2020-02-26 04:34:51</td>\n",
              "      <td>very good coverage of namaste trump program on...</td>\n",
              "    </tr>\n",
              "    <tr>\n",
              "      <th>3</th>\n",
              "      <td>2020-02-26 04:33:23</td>\n",
              "      <td>whitehouse realdonaldtrump namaste trump welc...</td>\n",
              "    </tr>\n",
              "    <tr>\n",
              "      <th>4</th>\n",
              "      <td>2020-02-26 04:24:47</td>\n",
              "      <td>edit us president donald trump visit to india ...</td>\n",
              "    </tr>\n",
              "  </tbody>\n",
              "</table>\n",
              "</div>"
            ],
            "text/plain": [
              "           Time_stamp                                               Text\n",
              "0 2020-02-26 05:03:44   namaste trump bloody game going on india but ...\n",
              "1 2020-02-26 05:01:54  read shiv sena in its mouthpiece saamana has s...\n",
              "2 2020-02-26 04:34:51  very good coverage of namaste trump program on...\n",
              "3 2020-02-26 04:33:23   whitehouse realdonaldtrump namaste trump welc...\n",
              "4 2020-02-26 04:24:47  edit us president donald trump visit to india ..."
            ]
          },
          "metadata": {
            "tags": []
          },
          "execution_count": 60
        }
      ]
    },
    {
      "cell_type": "code",
      "metadata": {
        "id": "chKtoosLlXKQ",
        "colab_type": "code",
        "outputId": "bfc615c5-f768-478b-b73b-04b475e81f1f",
        "colab": {
          "base_uri": "https://localhost:8080/",
          "height": 136
        }
      },
      "source": [
        "ahem_tweets.info()"
      ],
      "execution_count": 0,
      "outputs": [
        {
          "output_type": "stream",
          "text": [
            "<class 'pandas.core.frame.DataFrame'>\n",
            "RangeIndex: 1866 entries, 0 to 1865\n",
            "Data columns (total 2 columns):\n",
            "Time_stamp    1866 non-null datetime64[ns]\n",
            "Text          1866 non-null object\n",
            "dtypes: datetime64[ns](1), object(1)\n",
            "memory usage: 29.3+ KB\n"
          ],
          "name": "stdout"
        }
      ]
    },
    {
      "cell_type": "markdown",
      "metadata": {
        "id": "CYDj7LE-jEeU",
        "colab_type": "text"
      },
      "source": [
        "#**Extracting Day and hour of tweet from Time_stamp**"
      ]
    },
    {
      "cell_type": "code",
      "metadata": {
        "id": "oNmmULn1qsok",
        "colab_type": "code",
        "colab": {}
      },
      "source": [
        "delhi_tweets['Hour']=pd.to_datetime(delhi_tweets.Time_stamp).dt.hour\n",
        "agra_tweets['Hour']=pd.to_datetime(agra_tweets.Time_stamp).dt.hour\n",
        "ahem_tweets['Hour']=pd.to_datetime(ahem_tweets.Time_stamp).dt.hour\n"
      ],
      "execution_count": 0,
      "outputs": []
    },
    {
      "cell_type": "code",
      "metadata": {
        "id": "edWEAKHDdfYg",
        "colab_type": "code",
        "colab": {}
      },
      "source": [
        "delhi_tweets['Day']=pd.to_datetime(delhi_tweets.Time_stamp).dt.day\n",
        "agra_tweets['Day']=pd.to_datetime(agra_tweets.Time_stamp).dt.day\n",
        "ahem_tweets['Day']=pd.to_datetime(ahem_tweets.Time_stamp).dt.day\n"
      ],
      "execution_count": 0,
      "outputs": []
    },
    {
      "cell_type": "code",
      "metadata": {
        "id": "J0PoBAxFqsja",
        "colab_type": "code",
        "outputId": "9ca48b37-8f47-46d8-f66e-a58d46c4af87",
        "colab": {
          "base_uri": "https://localhost:8080/",
          "height": 204
        }
      },
      "source": [
        "delhi_tweets.tail()"
      ],
      "execution_count": 0,
      "outputs": [
        {
          "output_type": "execute_result",
          "data": {
            "text/html": [
              "<div>\n",
              "<style scoped>\n",
              "    .dataframe tbody tr th:only-of-type {\n",
              "        vertical-align: middle;\n",
              "    }\n",
              "\n",
              "    .dataframe tbody tr th {\n",
              "        vertical-align: top;\n",
              "    }\n",
              "\n",
              "    .dataframe thead th {\n",
              "        text-align: right;\n",
              "    }\n",
              "</style>\n",
              "<table border=\"1\" class=\"dataframe\">\n",
              "  <thead>\n",
              "    <tr style=\"text-align: right;\">\n",
              "      <th></th>\n",
              "      <th>Time_stamp</th>\n",
              "      <th>Text</th>\n",
              "      <th>Hour</th>\n",
              "      <th>Day</th>\n",
              "    </tr>\n",
              "  </thead>\n",
              "  <tbody>\n",
              "    <tr>\n",
              "      <th>911</th>\n",
              "      <td>2020-02-17 12:49:22</td>\n",
              "      <td>cost trump hour visit ahmedabad equals cost fr...</td>\n",
              "      <td>12</td>\n",
              "      <td>17</td>\n",
              "    </tr>\n",
              "    <tr>\n",
              "      <th>912</th>\n",
              "      <td>2020-02-17 06:53:49</td>\n",
              "      <td>garibi chhupao sena mocks bjp constructing wal...</td>\n",
              "      <td>6</td>\n",
              "      <td>17</td>\n",
              "    </tr>\n",
              "    <tr>\n",
              "      <th>913</th>\n",
              "      <td>2020-02-17 06:06:43</td>\n",
              "      <td>namaste trump india embraces national flavour ...</td>\n",
              "      <td>6</td>\n",
              "      <td>17</td>\n",
              "    </tr>\n",
              "    <tr>\n",
              "      <th>914</th>\n",
              "      <td>2020-02-16 19:21:49</td>\n",
              "      <td>new delhi february hearty welcome hon ble shri...</td>\n",
              "      <td>19</td>\n",
              "      <td>16</td>\n",
              "    </tr>\n",
              "    <tr>\n",
              "      <th>915</th>\n",
              "      <td>2020-02-16 16:09:43</td>\n",
              "      <td>building walls hide slums gujarat trump visit ...</td>\n",
              "      <td>16</td>\n",
              "      <td>16</td>\n",
              "    </tr>\n",
              "  </tbody>\n",
              "</table>\n",
              "</div>"
            ],
            "text/plain": [
              "             Time_stamp  ... Day\n",
              "911 2020-02-17 12:49:22  ...  17\n",
              "912 2020-02-17 06:53:49  ...  17\n",
              "913 2020-02-17 06:06:43  ...  17\n",
              "914 2020-02-16 19:21:49  ...  16\n",
              "915 2020-02-16 16:09:43  ...  16\n",
              "\n",
              "[5 rows x 4 columns]"
            ]
          },
          "metadata": {
            "tags": []
          },
          "execution_count": 64
        }
      ]
    },
    {
      "cell_type": "code",
      "metadata": {
        "id": "FoyiHUDPqsQB",
        "colab_type": "code",
        "outputId": "63963bff-190c-492b-ca88-074ae3d3d0d6",
        "colab": {
          "base_uri": "https://localhost:8080/",
          "height": 204
        }
      },
      "source": [
        "delhi_tweets_copy.tail()"
      ],
      "execution_count": 0,
      "outputs": [
        {
          "output_type": "execute_result",
          "data": {
            "text/html": [
              "<div>\n",
              "<style scoped>\n",
              "    .dataframe tbody tr th:only-of-type {\n",
              "        vertical-align: middle;\n",
              "    }\n",
              "\n",
              "    .dataframe tbody tr th {\n",
              "        vertical-align: top;\n",
              "    }\n",
              "\n",
              "    .dataframe thead th {\n",
              "        text-align: right;\n",
              "    }\n",
              "</style>\n",
              "<table border=\"1\" class=\"dataframe\">\n",
              "  <thead>\n",
              "    <tr style=\"text-align: right;\">\n",
              "      <th></th>\n",
              "      <th>Time_stamp</th>\n",
              "      <th>Text</th>\n",
              "    </tr>\n",
              "  </thead>\n",
              "  <tbody>\n",
              "    <tr>\n",
              "      <th>911</th>\n",
              "      <td>2020-02-17 12:49:22</td>\n",
              "      <td>Cost of Trump's \"3 hour\" visit in Ahmedabad eq...</td>\n",
              "    </tr>\n",
              "    <tr>\n",
              "      <th>912</th>\n",
              "      <td>2020-02-17 06:53:49</td>\n",
              "      <td>Garibi Chhupao : Sena mocks BJP for constructi...</td>\n",
              "    </tr>\n",
              "    <tr>\n",
              "      <th>913</th>\n",
              "      <td>2020-02-17 06:06:43</td>\n",
              "      <td>\"Namaste Trump\" : India embraces national flav...</td>\n",
              "    </tr>\n",
              "    <tr>\n",
              "      <th>914</th>\n",
              "      <td>2020-02-16 19:21:49</td>\n",
              "      <td>New Delhi,17 February, 2020\\nHearty welcome to...</td>\n",
              "    </tr>\n",
              "    <tr>\n",
              "      <th>915</th>\n",
              "      <td>2020-02-16 16:09:43</td>\n",
              "      <td>Building walls to hide slums in Gujarat for Tr...</td>\n",
              "    </tr>\n",
              "  </tbody>\n",
              "</table>\n",
              "</div>"
            ],
            "text/plain": [
              "             Time_stamp                                               Text\n",
              "911 2020-02-17 12:49:22  Cost of Trump's \"3 hour\" visit in Ahmedabad eq...\n",
              "912 2020-02-17 06:53:49  Garibi Chhupao : Sena mocks BJP for constructi...\n",
              "913 2020-02-17 06:06:43  \"Namaste Trump\" : India embraces national flav...\n",
              "914 2020-02-16 19:21:49  New Delhi,17 February, 2020\\nHearty welcome to...\n",
              "915 2020-02-16 16:09:43  Building walls to hide slums in Gujarat for Tr..."
            ]
          },
          "metadata": {
            "tags": []
          },
          "execution_count": 65
        }
      ]
    },
    {
      "cell_type": "code",
      "metadata": {
        "id": "eorSGMvfjI_h",
        "colab_type": "code",
        "colab": {}
      },
      "source": [
        ""
      ],
      "execution_count": 0,
      "outputs": []
    },
    {
      "cell_type": "code",
      "metadata": {
        "id": "dTIHrFBMgxtZ",
        "colab_type": "code",
        "colab": {}
      },
      "source": [
        "def remove_stopword(data,col):\n",
        "  corpus=[]\n",
        "  s=set(stopwords.words('english'))\n",
        "  s1=['not','or','and','no','nor']\n",
        "  for i in s1:\n",
        "    if i in s:\n",
        "      s.remove(i)\n",
        "  for i in range(len(data[col])):\n",
        "    words = nltk.word_tokenize(data[col][i])\n",
        "    word1 = [word for word in words if word not in s]\n",
        "    corpus.append(' '.join(word1))\n",
        "  return corpus\n"
      ],
      "execution_count": 0,
      "outputs": []
    },
    {
      "cell_type": "code",
      "metadata": {
        "id": "wN345p9Qj7Wd",
        "colab_type": "code",
        "colab": {}
      },
      "source": [
        "delhi_tweets[\"Text\"]=remove_stopword(delhi_tweets,'Text')"
      ],
      "execution_count": 0,
      "outputs": []
    },
    {
      "cell_type": "code",
      "metadata": {
        "id": "-s6A1PBMkhDW",
        "colab_type": "code",
        "outputId": "a2f31c93-c901-414c-db26-0bcb0fc9eb72",
        "colab": {
          "base_uri": "https://localhost:8080/",
          "height": 204
        }
      },
      "source": [
        "delhi_tweets.head()"
      ],
      "execution_count": 0,
      "outputs": [
        {
          "output_type": "execute_result",
          "data": {
            "text/html": [
              "<div>\n",
              "<style scoped>\n",
              "    .dataframe tbody tr th:only-of-type {\n",
              "        vertical-align: middle;\n",
              "    }\n",
              "\n",
              "    .dataframe tbody tr th {\n",
              "        vertical-align: top;\n",
              "    }\n",
              "\n",
              "    .dataframe thead th {\n",
              "        text-align: right;\n",
              "    }\n",
              "</style>\n",
              "<table border=\"1\" class=\"dataframe\">\n",
              "  <thead>\n",
              "    <tr style=\"text-align: right;\">\n",
              "      <th></th>\n",
              "      <th>Time_stamp</th>\n",
              "      <th>Text</th>\n",
              "      <th>Hour</th>\n",
              "      <th>Day</th>\n",
              "    </tr>\n",
              "  </thead>\n",
              "  <tbody>\n",
              "    <tr>\n",
              "      <th>0</th>\n",
              "      <td>2020-02-26 04:47:18</td>\n",
              "      <td>delhiburning orchestrated delhi police amp rss...</td>\n",
              "      <td>4</td>\n",
              "      <td>26</td>\n",
              "    </tr>\n",
              "    <tr>\n",
              "      <th>1</th>\n",
              "      <td>2020-02-26 04:46:47</td>\n",
              "      <td>exclusive irked donald trump india visit pakis...</td>\n",
              "      <td>4</td>\n",
              "      <td>26</td>\n",
              "    </tr>\n",
              "    <tr>\n",
              "      <th>2</th>\n",
              "      <td>2020-02-26 04:32:31</td>\n",
              "      <td>first visit india and not express delightful m...</td>\n",
              "      <td>4</td>\n",
              "      <td>26</td>\n",
              "    </tr>\n",
              "    <tr>\n",
              "      <th>3</th>\n",
              "      <td>2020-02-26 04:28:14</td>\n",
              "      <td>state sponsored terrorism report awful couple ...</td>\n",
              "      <td>4</td>\n",
              "      <td>26</td>\n",
              "    </tr>\n",
              "    <tr>\n",
              "      <th>4</th>\n",
              "      <td>2020-02-26 04:27:09</td>\n",
              "      <td>trump visit everyone please turn attention det...</td>\n",
              "      <td>4</td>\n",
              "      <td>26</td>\n",
              "    </tr>\n",
              "  </tbody>\n",
              "</table>\n",
              "</div>"
            ],
            "text/plain": [
              "           Time_stamp  ... Day\n",
              "0 2020-02-26 04:47:18  ...  26\n",
              "1 2020-02-26 04:46:47  ...  26\n",
              "2 2020-02-26 04:32:31  ...  26\n",
              "3 2020-02-26 04:28:14  ...  26\n",
              "4 2020-02-26 04:27:09  ...  26\n",
              "\n",
              "[5 rows x 4 columns]"
            ]
          },
          "metadata": {
            "tags": []
          },
          "execution_count": 68
        }
      ]
    },
    {
      "cell_type": "code",
      "metadata": {
        "id": "Q7xmsxchk80f",
        "colab_type": "code",
        "colab": {}
      },
      "source": [
        "agra_tweets[\"Text\"]=remove_stopword(agra_tweets,'Text')"
      ],
      "execution_count": 0,
      "outputs": []
    },
    {
      "cell_type": "code",
      "metadata": {
        "id": "vrdpqCAPlmpA",
        "colab_type": "code",
        "outputId": "de9bcfe6-5c12-4234-807c-53a7efb6f30a",
        "colab": {
          "base_uri": "https://localhost:8080/",
          "height": 204
        }
      },
      "source": [
        "agra_tweets.head()"
      ],
      "execution_count": 0,
      "outputs": [
        {
          "output_type": "execute_result",
          "data": {
            "text/html": [
              "<div>\n",
              "<style scoped>\n",
              "    .dataframe tbody tr th:only-of-type {\n",
              "        vertical-align: middle;\n",
              "    }\n",
              "\n",
              "    .dataframe tbody tr th {\n",
              "        vertical-align: top;\n",
              "    }\n",
              "\n",
              "    .dataframe thead th {\n",
              "        text-align: right;\n",
              "    }\n",
              "</style>\n",
              "<table border=\"1\" class=\"dataframe\">\n",
              "  <thead>\n",
              "    <tr style=\"text-align: right;\">\n",
              "      <th></th>\n",
              "      <th>Time_stamp</th>\n",
              "      <th>Text</th>\n",
              "      <th>Hour</th>\n",
              "      <th>Day</th>\n",
              "    </tr>\n",
              "  </thead>\n",
              "  <tbody>\n",
              "    <tr>\n",
              "      <th>0</th>\n",
              "      <td>2020-02-25 15:17:51</td>\n",
              "      <td>trump got emotional</td>\n",
              "      <td>15</td>\n",
              "      <td>25</td>\n",
              "    </tr>\n",
              "    <tr>\n",
              "      <th>1</th>\n",
              "      <td>2020-02-25 14:55:09</td>\n",
              "      <td>president united states donald trump and first...</td>\n",
              "      <td>14</td>\n",
              "      <td>25</td>\n",
              "    </tr>\n",
              "    <tr>\n",
              "      <th>2</th>\n",
              "      <td>2020-02-25 12:57:48</td>\n",
              "      <td>guide trump said americans come agra</td>\n",
              "      <td>12</td>\n",
              "      <td>25</td>\n",
              "    </tr>\n",
              "    <tr>\n",
              "      <th>3</th>\n",
              "      <td>2020-02-25 12:48:26</td>\n",
              "      <td>lotus temple baháʼí house worship able make in...</td>\n",
              "      <td>12</td>\n",
              "      <td>25</td>\n",
              "    </tr>\n",
              "    <tr>\n",
              "      <th>4</th>\n",
              "      <td>2020-02-25 11:35:48</td>\n",
              "      <td>news pics trump daughter ivankatrump amp son l...</td>\n",
              "      <td>11</td>\n",
              "      <td>25</td>\n",
              "    </tr>\n",
              "  </tbody>\n",
              "</table>\n",
              "</div>"
            ],
            "text/plain": [
              "           Time_stamp  ... Day\n",
              "0 2020-02-25 15:17:51  ...  25\n",
              "1 2020-02-25 14:55:09  ...  25\n",
              "2 2020-02-25 12:57:48  ...  25\n",
              "3 2020-02-25 12:48:26  ...  25\n",
              "4 2020-02-25 11:35:48  ...  25\n",
              "\n",
              "[5 rows x 4 columns]"
            ]
          },
          "metadata": {
            "tags": []
          },
          "execution_count": 70
        }
      ]
    },
    {
      "cell_type": "code",
      "metadata": {
        "id": "e49GGE01mj_u",
        "colab_type": "code",
        "colab": {}
      },
      "source": [
        "ahem_tweets['Text']=remove_stopword(ahem_tweets,'Text')\n",
        "                              "
      ],
      "execution_count": 0,
      "outputs": []
    },
    {
      "cell_type": "code",
      "metadata": {
        "id": "WbRUWZw1mzoh",
        "colab_type": "code",
        "outputId": "0a1d05f0-e887-4ddf-ecc5-9d831ef67dbf",
        "colab": {
          "base_uri": "https://localhost:8080/",
          "height": 204
        }
      },
      "source": [
        "ahem_tweets.head()"
      ],
      "execution_count": 0,
      "outputs": [
        {
          "output_type": "execute_result",
          "data": {
            "text/html": [
              "<div>\n",
              "<style scoped>\n",
              "    .dataframe tbody tr th:only-of-type {\n",
              "        vertical-align: middle;\n",
              "    }\n",
              "\n",
              "    .dataframe tbody tr th {\n",
              "        vertical-align: top;\n",
              "    }\n",
              "\n",
              "    .dataframe thead th {\n",
              "        text-align: right;\n",
              "    }\n",
              "</style>\n",
              "<table border=\"1\" class=\"dataframe\">\n",
              "  <thead>\n",
              "    <tr style=\"text-align: right;\">\n",
              "      <th></th>\n",
              "      <th>Time_stamp</th>\n",
              "      <th>Text</th>\n",
              "      <th>Hour</th>\n",
              "      <th>Day</th>\n",
              "    </tr>\n",
              "  </thead>\n",
              "  <tbody>\n",
              "    <tr>\n",
              "      <th>0</th>\n",
              "      <td>2020-02-26 05:03:44</td>\n",
              "      <td>namaste trump bloody game going india world sl...</td>\n",
              "      <td>5</td>\n",
              "      <td>26</td>\n",
              "    </tr>\n",
              "    <tr>\n",
              "      <th>1</th>\n",
              "      <td>2020-02-26 05:01:54</td>\n",
              "      <td>read shiv sena mouthpiece saamana said riots c...</td>\n",
              "      <td>5</td>\n",
              "      <td>26</td>\n",
              "    </tr>\n",
              "    <tr>\n",
              "      <th>2</th>\n",
              "      <td>2020-02-26 04:34:51</td>\n",
              "      <td>good coverage namaste trump program ddnational...</td>\n",
              "      <td>4</td>\n",
              "      <td>26</td>\n",
              "    </tr>\n",
              "    <tr>\n",
              "      <th>3</th>\n",
              "      <td>2020-02-26 04:33:23</td>\n",
              "      <td>whitehouse realdonaldtrump namaste trump welcome</td>\n",
              "      <td>4</td>\n",
              "      <td>26</td>\n",
              "    </tr>\n",
              "    <tr>\n",
              "      <th>4</th>\n",
              "      <td>2020-02-26 04:24:47</td>\n",
              "      <td>edit us president donald trump visit india exp...</td>\n",
              "      <td>4</td>\n",
              "      <td>26</td>\n",
              "    </tr>\n",
              "  </tbody>\n",
              "</table>\n",
              "</div>"
            ],
            "text/plain": [
              "           Time_stamp  ... Day\n",
              "0 2020-02-26 05:03:44  ...  26\n",
              "1 2020-02-26 05:01:54  ...  26\n",
              "2 2020-02-26 04:34:51  ...  26\n",
              "3 2020-02-26 04:33:23  ...  26\n",
              "4 2020-02-26 04:24:47  ...  26\n",
              "\n",
              "[5 rows x 4 columns]"
            ]
          },
          "metadata": {
            "tags": []
          },
          "execution_count": 72
        }
      ]
    },
    {
      "cell_type": "markdown",
      "metadata": {
        "id": "KvKhAeDxjUOt",
        "colab_type": "text"
      },
      "source": [
        "#**TFIDF Model**"
      ]
    },
    {
      "cell_type": "code",
      "metadata": {
        "id": "3Vq3UIdsUmc1",
        "colab_type": "code",
        "colab": {}
      },
      "source": [
        "from sklearn.feature_extraction.text import CountVectorizer\n",
        "from sklearn.feature_extraction.text import TfidfTransformer\n",
        "def tfidf(data,col):\n",
        "  vectorizer = CountVectorizer(max_features = 500, min_df = 1, max_df = 0.9)\n",
        "  X = vectorizer.fit_transform(data[col]).toarray()\n",
        "  transformer = TfidfTransformer()\n",
        "  X = transformer.fit_transform(X).toarray()\n",
        "  return X"
      ],
      "execution_count": 0,
      "outputs": []
    },
    {
      "cell_type": "code",
      "metadata": {
        "id": "JGmPbYFoLv7k",
        "colab_type": "code",
        "colab": {}
      },
      "source": [
        ""
      ],
      "execution_count": 0,
      "outputs": []
    },
    {
      "cell_type": "code",
      "metadata": {
        "id": "ndDfYjK4NlAS",
        "colab_type": "code",
        "colab": {}
      },
      "source": [
        "delhi_test=tfidf(delhi_tweets,\"Text\")\n",
        "agra_test=tfidf(agra_tweets,'Text')\n",
        "ahem_test=tfidf(ahem_tweets,\"Text\")"
      ],
      "execution_count": 0,
      "outputs": []
    },
    {
      "cell_type": "code",
      "metadata": {
        "id": "Y9jc8Tzz0BeP",
        "colab_type": "code",
        "outputId": "d5c4c6ac-ce68-4694-aabd-ddca7adf2e61",
        "colab": {
          "base_uri": "https://localhost:8080/",
          "height": 34
        }
      },
      "source": [
        "delhi_test.shape"
      ],
      "execution_count": 0,
      "outputs": [
        {
          "output_type": "execute_result",
          "data": {
            "text/plain": [
              "(916, 500)"
            ]
          },
          "metadata": {
            "tags": []
          },
          "execution_count": 75
        }
      ]
    },
    {
      "cell_type": "markdown",
      "metadata": {
        "id": "o1rpBkPBjgmI",
        "colab_type": "text"
      },
      "source": [
        "#**Importing pre trained model**\n",
        "\n",
        "*Jupyter notebook of model present in models folder of repo*"
      ]
    },
    {
      "cell_type": "code",
      "metadata": {
        "id": "326IEcx6x1Fe",
        "colab_type": "code",
        "colab": {}
      },
      "source": [
        "with open('model_tfidf.pickle','rb') as f:\n",
        "  model=pickle.load(f)"
      ],
      "execution_count": 0,
      "outputs": []
    },
    {
      "cell_type": "code",
      "metadata": {
        "colab_type": "code",
        "id": "vbApNFDfqHRq",
        "colab": {}
      },
      "source": [
        "delhi_pre=model.predict(delhi_test)\n",
        "agra_pre=model.predict(agra_test)\n",
        "ahem_pre=model.predict(ahem_test)"
      ],
      "execution_count": 0,
      "outputs": []
    },
    {
      "cell_type": "code",
      "metadata": {
        "id": "o3Qb6qtvdz6F",
        "colab_type": "code",
        "colab": {}
      },
      "source": [
        "def sentiment(prob):\n",
        "  if prob>0.6:\n",
        "    return 'Positive'\n",
        "  elif prob<=0.6 and prob>0.4:\n",
        "    return 'Nuetral'\n",
        "  else:\n",
        "      return 'Negative'\n"
      ],
      "execution_count": 0,
      "outputs": []
    },
    {
      "cell_type": "code",
      "metadata": {
        "id": "fX2kEuEvsY6m",
        "colab_type": "code",
        "colab": {}
      },
      "source": [
        "def sentiment_pred(prob):\n",
        "  y_senti=[]\n",
        "  for i in range(len(prob)):\n",
        "    y_senti.append(sentiment(prob[i]))\n",
        "  return y_senti\n"
      ],
      "execution_count": 0,
      "outputs": []
    },
    {
      "cell_type": "code",
      "metadata": {
        "id": "q7Mmbdi4raeo",
        "colab_type": "code",
        "colab": {}
      },
      "source": [
        "delhi_senti=sentiment_pred(delhi_pre)\n",
        "agra_senti=sentiment_pred(agra_pre)\n",
        "ahem_senti=sentiment_pred(ahem_pre)"
      ],
      "execution_count": 0,
      "outputs": []
    },
    {
      "cell_type": "markdown",
      "metadata": {
        "id": "fMlwyk5ckZyG",
        "colab_type": "text"
      },
      "source": [
        "#Analysis"
      ]
    },
    {
      "cell_type": "code",
      "metadata": {
        "id": "-zu6N1ZhtI7o",
        "colab_type": "code",
        "colab": {}
      },
      "source": [
        "def hashtag_count(data,col,city,count):\n",
        "    hashtags = []\n",
        "    for i in range(len(data[col])):\n",
        "        ht = re.findall(r\"#(\\w+)\", data[col][i])\n",
        "        if len(ht)>=1:\n",
        "            hashtags.append(ht)\n",
        "    hash=sum(hashtags,[])\n",
        "    ha=nltk.FreqDist(hash)\n",
        "    dtf=pd.DataFrame({'Hashtag': list(ha.keys()),'Count': list(ha.values())})\n",
        "    dtf = dtf[dtf['Count']>=count]\n",
        "    plt.figure(figsize=(16,8))\n",
        "    ax=sns.barplot(x=dtf['Hashtag'],y=dtf['Count'])\n",
        "    ax.set(ylabel = 'Count')\n",
        "    plt.title('Hashtag Trending in '+city)\n",
        "    plt.text(14,-3,'Ramakant Shakya')\n",
        "    plt.text(0,-3,str(datetime.now(tz_India)))\n",
        "    plt.show()"
      ],
      "execution_count": 0,
      "outputs": []
    },
    {
      "cell_type": "code",
      "metadata": {
        "id": "R8p1PCBWtiQ0",
        "colab_type": "code",
        "outputId": "30d8fee1-6cad-4a60-d0ae-645e9910a6b3",
        "colab": {
          "base_uri": "https://localhost:8080/",
          "height": 298
        }
      },
      "source": [
        "sns.countplot(ahem_senti)\n",
        "plt.title('Ahemdabad')\n",
        "plt.text(2,-20,'Ramakant Shakya')\n",
        "plt.text(-1,-20,str(datetime.now(tz_India)))"
      ],
      "execution_count": 0,
      "outputs": [
        {
          "output_type": "execute_result",
          "data": {
            "text/plain": [
              "Text(-1, -20, '2020-02-26 11:24:43.792979+05:30')"
            ]
          },
          "metadata": {
            "tags": []
          },
          "execution_count": 82
        },
        {
          "output_type": "display_data",
          "data": {
            "image/png": "[encoded data removed]",
            "text/plain": [
              "<Figure size 432x288 with 1 Axes>"
            ]
          },
          "metadata": {
            "tags": []
          }
        }
      ]
    },
    {
      "cell_type": "code",
      "metadata": {
        "id": "R90CanF0t4vV",
        "colab_type": "code",
        "outputId": "9d2f0a2a-a242-4ac8-c20c-be028151fb21",
        "colab": {
          "base_uri": "https://localhost:8080/",
          "height": 298
        }
      },
      "source": [
        "sns.countplot(delhi_senti)\n",
        "plt.title('Delhi')\n",
        "plt.text(2,-25,'Ramakant Shakya')\n",
        "plt.text(0,-25,str(datetime.now(tz_India)))"
      ],
      "execution_count": 0,
      "outputs": [
        {
          "output_type": "execute_result",
          "data": {
            "text/plain": [
              "Text(0, -25, '2020-02-26 11:24:49.645292+05:30')"
            ]
          },
          "metadata": {
            "tags": []
          },
          "execution_count": 83
        },
        {
          "output_type": "display_data",
          "data": {
            "image/png": "[encoded data removed]",
            "text/plain": [
              "<Figure size 432x288 with 1 Axes>"
            ]
          },
          "metadata": {
            "tags": []
          }
        }
      ]
    },
    {
      "cell_type": "code",
      "metadata": {
        "id": "JvAGUzf_uJVB",
        "colab_type": "code",
        "outputId": "c4c755ce-1b26-45ae-b0f8-3ea38ecad9b4",
        "colab": {
          "base_uri": "https://localhost:8080/",
          "height": 298
        }
      },
      "source": [
        "sns.countplot(agra_senti)\n",
        "plt.title(\"Agra\")\n",
        "plt.text(2,-20,'Ramakant Shakya')\n",
        "plt.text(0,-20,str(datetime.now(tz_India)))"
      ],
      "execution_count": 0,
      "outputs": [
        {
          "output_type": "execute_result",
          "data": {
            "text/plain": [
              "Text(0, -20, '2020-02-26 11:24:55.238662+05:30')"
            ]
          },
          "metadata": {
            "tags": []
          },
          "execution_count": 84
        },
        {
          "output_type": "display_data",
          "data": {
            "image/png": "[encoded data removed]",
            "text/plain": [
              "<Figure size 432x288 with 1 Axes>"
            ]
          },
          "metadata": {
            "tags": []
          }
        }
      ]
    },
    {
      "cell_type": "code",
      "metadata": {
        "id": "2W7eQKrnuT08",
        "colab_type": "code",
        "outputId": "54ef985b-5e68-413a-801d-d783eef8d7bb",
        "colab": {
          "base_uri": "https://localhost:8080/",
          "height": 533
        }
      },
      "source": [
        "hashtag_count(delhi_tweets_copy,'Text','Delhi',18)"
      ],
      "execution_count": 0,
      "outputs": [
        {
          "output_type": "display_data",
          "data": {
            "image/png": "[encoded data removed]",
            "text/plain": [
              "<Figure size 1152x576 with 1 Axes>"
            ]
          },
          "metadata": {
            "tags": []
          }
        }
      ]
    },
    {
      "cell_type": "code",
      "metadata": {
        "id": "ydnp2_izutFV",
        "colab_type": "code",
        "outputId": "949bea34-441e-4629-cda1-5690a983b28b",
        "colab": {
          "base_uri": "https://localhost:8080/",
          "height": 513
        }
      },
      "source": [
        "hashtag_count(agra_tweets_copy,'Text','Agra',15)"
      ],
      "execution_count": 0,
      "outputs": [
        {
          "output_type": "display_data",
          "data": {
            "image/png": "[encoded data removed]",
            "text/plain": [
              "<Figure size 1152x576 with 1 Axes>"
            ]
          },
          "metadata": {
            "tags": []
          }
        }
      ]
    },
    {
      "cell_type": "code",
      "metadata": {
        "id": "1mrZduJDwPrb",
        "colab_type": "code",
        "outputId": "be166b97-31c6-4e62-cec4-3eb39b3b454a",
        "colab": {
          "base_uri": "https://localhost:8080/",
          "height": 513
        }
      },
      "source": [
        "hashtag_count(ahem_tweets_copy,'Text','Ahemdabad',15)"
      ],
      "execution_count": 0,
      "outputs": [
        {
          "output_type": "display_data",
          "data": {
            "image/png": "[encoded data removed]",
            "text/plain": [
              "<Figure size 1152x576 with 1 Axes>"
            ]
          },
          "metadata": {
            "tags": []
          }
        }
      ]
    },
    {
      "cell_type": "code",
      "metadata": {
        "id": "pvH3qYspwYml",
        "colab_type": "code",
        "outputId": "282a4051-e061-4cad-dbc5-1d0c59f01c3a",
        "colab": {
          "base_uri": "https://localhost:8080/",
          "height": 530
        }
      },
      "source": [
        "plt.figure(figsize=(12,8))\n",
        "sns.countplot(delhi_tweets['Hour'])\n",
        "plt.title('Tweets Generated in Delhi Hourly')\n",
        "plt.text(14,-3,'Ramakant Shakya')\n",
        "plt.text(0,-3,str(datetime.now(tz_India)))"
      ],
      "execution_count": 0,
      "outputs": [
        {
          "output_type": "execute_result",
          "data": {
            "text/plain": [
              "Text(0, -3, '2020-02-26 11:25:38.590779+05:30')"
            ]
          },
          "metadata": {
            "tags": []
          },
          "execution_count": 89
        },
        {
          "output_type": "display_data",
          "data": {
            "image/png": "[encoded data removed]",
            "text/plain": [
              "<Figure size 864x576 with 1 Axes>"
            ]
          },
          "metadata": {
            "tags": []
          }
        }
      ]
    },
    {
      "cell_type": "code",
      "metadata": {
        "id": "wTftvBitwuA3",
        "colab_type": "code",
        "outputId": "078a75b2-b5f5-43be-ba37-4a0401ced53e",
        "colab": {
          "base_uri": "https://localhost:8080/",
          "height": 530
        }
      },
      "source": [
        "plt.figure(figsize=(12,8))\n",
        "sns.countplot(agra_tweets['Hour'])\n",
        "plt.title('Tweets Generated in Agra Hourly')\n",
        "plt.text(14,-3,'Ramakant Shakya')\n",
        "plt.text(0,-3,str(datetime.now(tz_India)))"
      ],
      "execution_count": 0,
      "outputs": [
        {
          "output_type": "execute_result",
          "data": {
            "text/plain": [
              "Text(0, -3, '2020-02-26 11:25:43.380419+05:30')"
            ]
          },
          "metadata": {
            "tags": []
          },
          "execution_count": 90
        },
        {
          "output_type": "display_data",
          "data": {
            "image/png": "[encoded data removed]",
            "text/plain": [
              "<Figure size 864x576 with 1 Axes>"
            ]
          },
          "metadata": {
            "tags": []
          }
        }
      ]
    },
    {
      "cell_type": "code",
      "metadata": {
        "id": "2ovi2DoQxRGO",
        "colab_type": "code",
        "outputId": "49a9faa9-1213-4ed9-9a8a-6f948f78ac4a",
        "colab": {
          "base_uri": "https://localhost:8080/",
          "height": 530
        }
      },
      "source": [
        "plt.figure(figsize=(12,8))\n",
        "sns.countplot(ahem_tweets['Hour'])\n",
        "plt.title('Tweets Generated in Ahemdabad Hourly')\n",
        "plt.text(14,-3,'Ramakant Shakya')\n",
        "plt.text(0,-3,str(datetime.now(tz_India)))"
      ],
      "execution_count": 0,
      "outputs": [
        {
          "output_type": "execute_result",
          "data": {
            "text/plain": [
              "Text(0, -3, '2020-02-26 11:25:46.982906+05:30')"
            ]
          },
          "metadata": {
            "tags": []
          },
          "execution_count": 91
        },
        {
          "output_type": "display_data",
          "data": {
            "image/png": "[encoded data removed]",
            "text/plain": [
              "<Figure size 864x576 with 1 Axes>"
            ]
          },
          "metadata": {
            "tags": []
          }
        }
      ]
    },
    {
      "cell_type": "code",
      "metadata": {
        "id": "TPfe1oy0xW6D",
        "colab_type": "code",
        "outputId": "8937926c-40bb-4219-c680-2552b47c34e7",
        "colab": {
          "base_uri": "https://localhost:8080/",
          "height": 530
        }
      },
      "source": [
        "plt.figure(figsize=(12,8))\n",
        "sns.countplot(delhi_tweets['Day'])\n",
        "plt.title('Tweets Generated in Delhi Datewise in Feb')\n",
        "plt.text(10,-9,'Ramakant Shakya')\n",
        "plt.text(0,-9,str(datetime.now(tz_India)))"
      ],
      "execution_count": 0,
      "outputs": [
        {
          "output_type": "execute_result",
          "data": {
            "text/plain": [
              "Text(0, -9, '2020-02-26 11:25:50.307225+05:30')"
            ]
          },
          "metadata": {
            "tags": []
          },
          "execution_count": 92
        },
        {
          "output_type": "display_data",
          "data": {
            "image/png": "[encoded data removed]",
            "text/plain": [
              "<Figure size 864x576 with 1 Axes>"
            ]
          },
          "metadata": {
            "tags": []
          }
        }
      ]
    },
    {
      "cell_type": "code",
      "metadata": {
        "id": "7DzKEh6VxgC5",
        "colab_type": "code",
        "outputId": "672bb04d-999b-406a-89f1-eb7081ee3f27",
        "colab": {
          "base_uri": "https://localhost:8080/",
          "height": 530
        }
      },
      "source": [
        "plt.figure(figsize=(12,8))\n",
        "sns.countplot(agra_tweets['Day'])\n",
        "plt.title('Tweets Generated in Agra Datewise in Feb')\n",
        "plt.text(8,-9,'Ramakant Shakya')\n",
        "plt.text(0,-9,str(datetime.now(tz_India)))"
      ],
      "execution_count": 0,
      "outputs": [
        {
          "output_type": "execute_result",
          "data": {
            "text/plain": [
              "Text(0, -9, '2020-02-26 11:25:56.113272+05:30')"
            ]
          },
          "metadata": {
            "tags": []
          },
          "execution_count": 93
        },
        {
          "output_type": "display_data",
          "data": {
            "image/png": "[encoded data removed]",
            "text/plain": [
              "<Figure size 864x576 with 1 Axes>"
            ]
          },
          "metadata": {
            "tags": []
          }
        }
      ]
    },
    {
      "cell_type": "code",
      "metadata": {
        "id": "1pRRGjxoxq0E",
        "colab_type": "code",
        "outputId": "ef202336-854d-4c42-d37e-cc6fed7fc50a",
        "colab": {
          "base_uri": "https://localhost:8080/",
          "height": 530
        }
      },
      "source": [
        "plt.figure(figsize=(12,8))\n",
        "sns.countplot(ahem_tweets['Day'])\n",
        "plt.title('Tweets Generated in Ahemdabad Datewise in Feb')\n",
        "plt.text(10,-15,'Ramakant Shakya')\n",
        "plt.text(0,-15,str(datetime.now(tz_India)))"
      ],
      "execution_count": 0,
      "outputs": [
        {
          "output_type": "execute_result",
          "data": {
            "text/plain": [
              "Text(0, -15, '2020-02-26 11:26:34.010905+05:30')"
            ]
          },
          "metadata": {
            "tags": []
          },
          "execution_count": 96
        },
        {
          "output_type": "display_data",
          "data": {
            "image/png": "[encoded data removed]",
            "text/plain": [
              "<Figure size 864x576 with 1 Axes>"
            ]
          },
          "metadata": {
            "tags": []
          }
        }
      ]
    },
    {
      "cell_type": "code",
      "metadata": {
        "id": "zfRlrgD5x4Ol",
        "colab_type": "code",
        "colab": {}
      },
      "source": [
        ""
      ],
      "execution_count": 0,
      "outputs": []
    }
  ]
}