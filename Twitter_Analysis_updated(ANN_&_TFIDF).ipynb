{
  "nbformat": 4,
  "nbformat_minor": 0,
  "metadata": {
    "colab": {
      "name": "Twitter Analysis.ipynb",
      "provenance": [],
      "collapsed_sections": []
    },
    "kernelspec": {
      "name": "python3",
      "display_name": "Python 3"
    }
  },
  "cells": [
    {
      "cell_type": "code",
      "metadata": {
        "id": "Bkpe0lEFv2ib",
        "colab_type": "code",
        "colab": {}
      },
      "source": [
        "import tweepy\n",
        "import re\n",
        "import pickle\n",
        "import pandas as pd\n",
        "import seaborn as sns\n",
        "import matplotlib.pyplot as plt\n",
        "import time\n",
        "sns.set_style('whitegrid')\n",
        "sns.set_palette('GnBu_d')"
      ],
      "execution_count": 0,
      "outputs": []
    },
    {
      "cell_type": "code",
      "metadata": {
        "id": "xKiaYAtlnpEm",
        "colab_type": "code",
        "outputId": "7f90a74b-8031-468a-bd5c-a9e25cdabdd8",
        "colab": {
          "base_uri": "https://localhost:8080/",
          "height": 102
        }
      },
      "source": [
        "import nltk\n",
        "from nltk.corpus import stopwords\n",
        "from sklearn.datasets import load_files\n",
        "nltk.download('stopwords')\n",
        "nltk.download('punkt')"
      ],
      "execution_count": 2,
      "outputs": [
        {
          "output_type": "stream",
          "text": [
            "[nltk_data] Downloading package stopwords to /root/nltk_data...\n",
            "[nltk_data]   Unzipping corpora/stopwords.zip.\n",
            "[nltk_data] Downloading package punkt to /root/nltk_data...\n",
            "[nltk_data]   Unzipping tokenizers/punkt.zip.\n"
          ],
          "name": "stdout"
        },
        {
          "output_type": "execute_result",
          "data": {
            "text/plain": [
              "True"
            ]
          },
          "metadata": {
            "tags": []
          },
          "execution_count": 2
        }
      ]
    },
    {
      "cell_type": "code",
      "metadata": {
        "id": "eX5t35hAv68S",
        "colab_type": "code",
        "colab": {}
      },
      "source": [
        "from tweepy import OAuthHandler"
      ],
      "execution_count": 0,
      "outputs": []
    },
    {
      "cell_type": "code",
      "metadata": {
        "id": "0aibbeMdv9Na",
        "colab_type": "code",
        "colab": {}
      },
      "source": [
        "import os"
      ],
      "execution_count": 0,
      "outputs": []
    },
    {
      "cell_type": "code",
      "metadata": {
        "id": "pMTAAfX4v_ys",
        "colab_type": "code",
        "outputId": "3848c7b7-72d1-475e-e6fc-e18e601dce43",
        "colab": {
          "base_uri": "https://localhost:8080/",
          "height": 34
        }
      },
      "source": [
        "os.getcwd()"
      ],
      "execution_count": 5,
      "outputs": [
        {
          "output_type": "execute_result",
          "data": {
            "text/plain": [
              "'/content'"
            ]
          },
          "metadata": {
            "tags": []
          },
          "execution_count": 5
        }
      ]
    },
    {
      "cell_type": "code",
      "metadata": {
        "id": "da59v4iiwC5M",
        "colab_type": "code",
        "colab": {}
      },
      "source": [
        "os.chdir('/content/drive/My Drive/Colab Notebooks/Twitter Sentiment Analysis')"
      ],
      "execution_count": 0,
      "outputs": []
    },
    {
      "cell_type": "code",
      "metadata": {
        "id": "pYpSQz-swOZI",
        "colab_type": "code",
        "colab": {}
      },
      "source": [
        "consumer_key = 'yoIwFkjZGYDa49aO16XqSNqcN'\n",
        "consumer_secret = 'gl4LQOItV7Z1aFwNrlvaiKJ3t8o8h99blMIAmnmdHxYjzjRAxO' \n",
        "access_token = '624310916-E7fDF2IE8P6bfY1oVFglASf6F8RnxMd3vgSXFqnZ'\n",
        "access_secret ='ID9JcoXHsDcKtvNcnmBGcCQhUlO0wmwAxBJ6LCesiUAas'\n"
      ],
      "execution_count": 0,
      "outputs": []
    },
    {
      "cell_type": "code",
      "metadata": {
        "id": "4oVlcYbuwXkY",
        "colab_type": "code",
        "colab": {}
      },
      "source": [
        "auth = OAuthHandler(consumer_key, consumer_secret)\n",
        "auth.set_access_token(access_token, access_secret)\n",
        "api = tweepy.API(auth,timeout=15)\n"
      ],
      "execution_count": 0,
      "outputs": []
    },
    {
      "cell_type": "code",
      "metadata": {
        "id": "Z8KU4OhlUZYe",
        "colab_type": "code",
        "colab": {}
      },
      "source": [
        "places = api.geo_search(query=\"INDIA\", granularity=\"country\")"
      ],
      "execution_count": 0,
      "outputs": []
    },
    {
      "cell_type": "code",
      "metadata": {
        "id": "kmwmc-ITUZVp",
        "colab_type": "code",
        "outputId": "c13d2649-f634-416e-94c9-cfab72344767",
        "colab": {
          "base_uri": "https://localhost:8080/",
          "height": 34
        }
      },
      "source": [
        "place_id = places[0].id\n",
        "print('india id is: ',place_id)"
      ],
      "execution_count": 10,
      "outputs": [
        {
          "output_type": "stream",
          "text": [
            "india id is:  b850c1bfd38f30e0\n"
          ],
          "name": "stdout"
        }
      ]
    },
    {
      "cell_type": "code",
      "metadata": {
        "id": "00lHzaH0UZSg",
        "colab_type": "code",
        "outputId": "b2a0fc2c-f19d-4900-d2e4-30f5aab8aace",
        "colab": {
          "base_uri": "https://localhost:8080/",
          "height": 71
        }
      },
      "source": [
        "places"
      ],
      "execution_count": 11,
      "outputs": [
        {
          "output_type": "execute_result",
          "data": {
            "text/plain": [
              "[Place(_api=<tweepy.api.API object at 0x7f102ca594a8>, id='b850c1bfd38f30e0', url='https://api.twitter.com/1.1/geo/id/b850c1bfd38f30e0.json', place_type='country', name='India', full_name='India', country_code='IN', country='India', contained_within=[], centroid=[79.91569416233017, 20.568453], bounding_box=BoundingBox(_api=<tweepy.api.API object at 0x7f102ca594a8>, type='Polygon', coordinates=[[[67.997691, 6.622513], [67.997691, 33.254896], [97.170672, 33.254896], [97.170672, 6.622513], [67.997691, 6.622513]]]), attributes={}),\n",
              " Place(_api=<tweepy.api.API object at 0x7f102ca594a8>, id='88f6c97979c5c22d', url='https://api.twitter.com/1.1/geo/id/88f6c97979c5c22d.json', place_type='country', name='British Indian Ocean Territory', full_name='British Indian Ocean Territory', country_code='IO', country='British Indian Ocean Territory', contained_within=[], centroid=[71.3834071192206, -6.684143000000001], bounding_box=BoundingBox(_api=<tweepy.api.API object at 0x7f102ca594a8>, type='Polygon', coordinates=[[[71.2377863, -7.4439504], [71.2377863, -5.2356813], [72.4952313, -5.2356813], [72.4952313, -7.4439504], [71.2377863, -7.4439504]]]), attributes={})]"
            ]
          },
          "metadata": {
            "tags": []
          },
          "execution_count": 11
        }
      ]
    },
    {
      "cell_type": "code",
      "metadata": {
        "id": "_A-T7vmexNVN",
        "colab_type": "code",
        "colab": {}
      },
      "source": [
        "args = ['trump visit delhi']\n",
        "delhi_tweets={}\n",
        "query = args[0]\n",
        "if len(args) == 1:\n",
        "    for status in tweepy.Cursor(api.search,q=query+\" -filter:retweets\",tweet_mode=\"extended\",lang='en',locale='ja',result_type='recent',geocode=\"28.61309,77.209211,500km\",truncated=False).items():\n",
        "\n",
        "         delhi_tweets[status.created_at]=status.full_text    "
      ],
      "execution_count": 0,
      "outputs": []
    },
    {
      "cell_type": "code",
      "metadata": {
        "id": "5czXdGXeTPmc",
        "colab_type": "code",
        "colab": {}
      },
      "source": [
        "delhi_tweets=pd.DataFrame(delhi_tweets.items(),columns=['Time_stamp','Text'])"
      ],
      "execution_count": 0,
      "outputs": []
    },
    {
      "cell_type": "code",
      "metadata": {
        "id": "EFmjm0BwAVe2",
        "colab_type": "code",
        "outputId": "e711ffa1-5200-476e-f646-3b83c4afee9e",
        "colab": {
          "base_uri": "https://localhost:8080/",
          "height": 204
        }
      },
      "source": [
        "delhi_tweets_copy=delhi_tweets.copy()\n",
        "delhi_tweets.tail()"
      ],
      "execution_count": 14,
      "outputs": [
        {
          "output_type": "execute_result",
          "data": {
            "text/html": [
              "<div>\n",
              "<style scoped>\n",
              "    .dataframe tbody tr th:only-of-type {\n",
              "        vertical-align: middle;\n",
              "    }\n",
              "\n",
              "    .dataframe tbody tr th {\n",
              "        vertical-align: top;\n",
              "    }\n",
              "\n",
              "    .dataframe thead th {\n",
              "        text-align: right;\n",
              "    }\n",
              "</style>\n",
              "<table border=\"1\" class=\"dataframe\">\n",
              "  <thead>\n",
              "    <tr style=\"text-align: right;\">\n",
              "      <th></th>\n",
              "      <th>Time_stamp</th>\n",
              "      <th>Text</th>\n",
              "    </tr>\n",
              "  </thead>\n",
              "  <tbody>\n",
              "    <tr>\n",
              "      <th>315</th>\n",
              "      <td>2020-02-14 12:17:16</td>\n",
              "      <td>Trump is scheduled to make his first visit as ...</td>\n",
              "    </tr>\n",
              "    <tr>\n",
              "      <th>316</th>\n",
              "      <td>2020-02-14 12:02:03</td>\n",
              "      <td>Trump to woo Indian executives during New Delh...</td>\n",
              "    </tr>\n",
              "    <tr>\n",
              "      <th>317</th>\n",
              "      <td>2020-02-14 11:54:50</td>\n",
              "      <td>U.S. President Donald Trump will woo executive...</td>\n",
              "    </tr>\n",
              "    <tr>\n",
              "      <th>318</th>\n",
              "      <td>2020-02-14 04:36:19</td>\n",
              "      <td>@BJP4India after facing harsh defeat in Delhi ...</td>\n",
              "    </tr>\n",
              "    <tr>\n",
              "      <th>319</th>\n",
              "      <td>2020-02-13 19:29:35</td>\n",
              "      <td>The US has just signalled to India that there ...</td>\n",
              "    </tr>\n",
              "  </tbody>\n",
              "</table>\n",
              "</div>"
            ],
            "text/plain": [
              "             Time_stamp                                               Text\n",
              "315 2020-02-14 12:17:16  Trump is scheduled to make his first visit as ...\n",
              "316 2020-02-14 12:02:03  Trump to woo Indian executives during New Delh...\n",
              "317 2020-02-14 11:54:50  U.S. President Donald Trump will woo executive...\n",
              "318 2020-02-14 04:36:19  @BJP4India after facing harsh defeat in Delhi ...\n",
              "319 2020-02-13 19:29:35  The US has just signalled to India that there ..."
            ]
          },
          "metadata": {
            "tags": []
          },
          "execution_count": 14
        }
      ]
    },
    {
      "cell_type": "code",
      "metadata": {
        "id": "L83fnAcPnRje",
        "colab_type": "code",
        "outputId": "1853d690-4cac-4e75-a6ac-a86865d331ed",
        "colab": {
          "base_uri": "https://localhost:8080/",
          "height": 136
        }
      },
      "source": [
        "delhi_tweets.info()"
      ],
      "execution_count": 15,
      "outputs": [
        {
          "output_type": "stream",
          "text": [
            "<class 'pandas.core.frame.DataFrame'>\n",
            "RangeIndex: 320 entries, 0 to 319\n",
            "Data columns (total 2 columns):\n",
            "Time_stamp    320 non-null datetime64[ns]\n",
            "Text          320 non-null object\n",
            "dtypes: datetime64[ns](1), object(1)\n",
            "memory usage: 5.1+ KB\n"
          ],
          "name": "stdout"
        }
      ]
    },
    {
      "cell_type": "code",
      "metadata": {
        "id": "ZwRnseVIaTR3",
        "colab_type": "code",
        "outputId": "a540d83c-5d43-4a3c-865e-87865d5ef3f4",
        "colab": {
          "base_uri": "https://localhost:8080/",
          "height": 34
        }
      },
      "source": [
        "delhi_tweets['Text'][5]"
      ],
      "execution_count": 16,
      "outputs": [
        {
          "output_type": "execute_result",
          "data": {
            "text/plain": [
              "\"@Cacofonix1008 Disagree..post trump visit it's time to enforce law.\\nDelhi is becoming lawless.\""
            ]
          },
          "metadata": {
            "tags": []
          },
          "execution_count": 16
        }
      ]
    },
    {
      "cell_type": "code",
      "metadata": {
        "id": "aRKEIOpOWnCl",
        "colab_type": "code",
        "colab": {}
      },
      "source": [
        "args = ['trump agra']\n",
        "agra_tweets={}\n",
        "query = args[0]\n",
        "if len(args) == 1:\n",
        "    for status in tweepy.Cursor(api.search,q=query+\" -filter:retweets\",tweet_mode=\"extended\",lang='en',locale='ja',result_type='recent',geocode=\"27.174754,78.042244,200km\").items():\n",
        "\n",
        "         agra_tweets[status.created_at]=status.full_text      "
      ],
      "execution_count": 0,
      "outputs": []
    },
    {
      "cell_type": "code",
      "metadata": {
        "id": "ljR8r6QFYQlR",
        "colab_type": "code",
        "colab": {}
      },
      "source": [
        "agra_tweets=pd.DataFrame(agra_tweets.items(),columns=['Time_stamp','Text'])\n",
        "agra_tweets.head()\n",
        "agra_tweets_copy=agra_tweets.copy()"
      ],
      "execution_count": 0,
      "outputs": []
    },
    {
      "cell_type": "code",
      "metadata": {
        "id": "MEv-zvlsYjUC",
        "colab_type": "code",
        "outputId": "52e6e93f-275c-4a90-a38b-fef5a9553a28",
        "colab": {
          "base_uri": "https://localhost:8080/",
          "height": 136
        }
      },
      "source": [
        "agra_tweets.info()"
      ],
      "execution_count": 19,
      "outputs": [
        {
          "output_type": "stream",
          "text": [
            "<class 'pandas.core.frame.DataFrame'>\n",
            "RangeIndex: 176 entries, 0 to 175\n",
            "Data columns (total 2 columns):\n",
            "Time_stamp    176 non-null datetime64[ns]\n",
            "Text          176 non-null object\n",
            "dtypes: datetime64[ns](1), object(1)\n",
            "memory usage: 2.9+ KB\n"
          ],
          "name": "stdout"
        }
      ]
    },
    {
      "cell_type": "code",
      "metadata": {
        "id": "QTnJsTL1YuiJ",
        "colab_type": "code",
        "colab": {}
      },
      "source": [
        "args = ['trump motera stadium']\n",
        "ahem_tweets={}\n",
        "query = args[0]\n",
        "if len(args) == 1:\n",
        "    for status in tweepy.Cursor(api.search,q=query+\" -filter:retweets\",tweet_mode=\"extended\",lang='en',locale='ja',result_type='recent',geocode=\"23.056363,72.575153,500km\").items():\n",
        "\n",
        "         ahem_tweets[status.created_at]=status.full_text  "
      ],
      "execution_count": 0,
      "outputs": []
    },
    {
      "cell_type": "code",
      "metadata": {
        "id": "jyUoEMlsbls5",
        "colab_type": "code",
        "outputId": "5540d994-cf18-452a-9ef6-a00b1005ec53",
        "colab": {
          "base_uri": "https://localhost:8080/",
          "height": 204
        }
      },
      "source": [
        "ahem_tweets=pd.DataFrame(ahem_tweets.items(),columns=['Time_stamp','Text'])\n",
        "ahem_tweets_copy=ahem_tweets.copy()\n",
        "ahem_tweets.head()"
      ],
      "execution_count": 21,
      "outputs": [
        {
          "output_type": "execute_result",
          "data": {
            "text/html": [
              "<div>\n",
              "<style scoped>\n",
              "    .dataframe tbody tr th:only-of-type {\n",
              "        vertical-align: middle;\n",
              "    }\n",
              "\n",
              "    .dataframe tbody tr th {\n",
              "        vertical-align: top;\n",
              "    }\n",
              "\n",
              "    .dataframe thead th {\n",
              "        text-align: right;\n",
              "    }\n",
              "</style>\n",
              "<table border=\"1\" class=\"dataframe\">\n",
              "  <thead>\n",
              "    <tr style=\"text-align: right;\">\n",
              "      <th></th>\n",
              "      <th>Time_stamp</th>\n",
              "      <th>Text</th>\n",
              "    </tr>\n",
              "  </thead>\n",
              "  <tbody>\n",
              "    <tr>\n",
              "      <th>0</th>\n",
              "      <td>2020-02-23 07:07:17</td>\n",
              "      <td>@realDonaldTrump \\n@WhiteHouse \\nThe welcome e...</td>\n",
              "    </tr>\n",
              "    <tr>\n",
              "      <th>1</th>\n",
              "      <td>2020-02-23 06:51:26</td>\n",
              "      <td>US Could deny H-1B Visa Cards benefits to Immi...</td>\n",
              "    </tr>\n",
              "    <tr>\n",
              "      <th>2</th>\n",
              "      <td>2020-02-23 06:43:01</td>\n",
              "      <td>#मोदी_पहले_देश_का_सोचो\\n\\nAs well know, US Pre...</td>\n",
              "    </tr>\n",
              "    <tr>\n",
              "      <th>3</th>\n",
              "      <td>2020-02-23 06:41:15</td>\n",
              "      <td>#मोदी_पहले_देश_का_सोचो\\n\\nAs well know, US Pre...</td>\n",
              "    </tr>\n",
              "    <tr>\n",
              "      <th>4</th>\n",
              "      <td>2020-02-23 06:39:50</td>\n",
              "      <td>#मोदी_पहले_देश_का_सोचो\\n\\nAs well know, US Pre...</td>\n",
              "    </tr>\n",
              "  </tbody>\n",
              "</table>\n",
              "</div>"
            ],
            "text/plain": [
              "           Time_stamp                                               Text\n",
              "0 2020-02-23 07:07:17  @realDonaldTrump \\n@WhiteHouse \\nThe welcome e...\n",
              "1 2020-02-23 06:51:26  US Could deny H-1B Visa Cards benefits to Immi...\n",
              "2 2020-02-23 06:43:01  #मोदी_पहले_देश_का_सोचो\\n\\nAs well know, US Pre...\n",
              "3 2020-02-23 06:41:15  #मोदी_पहले_देश_का_सोचो\\n\\nAs well know, US Pre...\n",
              "4 2020-02-23 06:39:50  #मोदी_पहले_देश_का_सोचो\\n\\nAs well know, US Pre..."
            ]
          },
          "metadata": {
            "tags": []
          },
          "execution_count": 21
        }
      ]
    },
    {
      "cell_type": "code",
      "metadata": {
        "id": "eQbbdNhwcZe1",
        "colab_type": "code",
        "outputId": "9cfbb9be-6fdb-4d12-fbe7-60bae692c10e",
        "colab": {
          "base_uri": "https://localhost:8080/",
          "height": 136
        }
      },
      "source": [
        "ahem_tweets.info()"
      ],
      "execution_count": 22,
      "outputs": [
        {
          "output_type": "stream",
          "text": [
            "<class 'pandas.core.frame.DataFrame'>\n",
            "RangeIndex: 247 entries, 0 to 246\n",
            "Data columns (total 2 columns):\n",
            "Time_stamp    247 non-null datetime64[ns]\n",
            "Text          247 non-null object\n",
            "dtypes: datetime64[ns](1), object(1)\n",
            "memory usage: 4.0+ KB\n"
          ],
          "name": "stdout"
        }
      ]
    },
    {
      "cell_type": "code",
      "metadata": {
        "id": "W1rSeb138VEG",
        "colab_type": "code",
        "colab": {}
      },
      "source": [
        "from datetime import datetime\n",
        "from pytz import timezone\n",
        "tz_India = pytz.timezone('Asia/Kolkata')"
      ],
      "execution_count": 0,
      "outputs": []
    },
    {
      "cell_type": "code",
      "metadata": {
        "id": "bx1IDX5u99CP",
        "colab_type": "code",
        "colab": {
          "base_uri": "https://localhost:8080/",
          "height": 34
        },
        "outputId": "13aeb0cf-89e1-4f10-f594-cceb2f0a87a0"
      },
      "source": [
        "str(datetime.now(tz_India))"
      ],
      "execution_count": 69,
      "outputs": [
        {
          "output_type": "stream",
          "text": [
            "2020-02-23 13:05:41.387146+05:30\n"
          ],
          "name": "stdout"
        }
      ]
    },
    {
      "cell_type": "code",
      "metadata": {
        "id": "apj5PQ2JcdoI",
        "colab_type": "code",
        "colab": {}
      },
      "source": [
        "def clean_text(data,col):\n",
        "  corpus=[]\n",
        "  for i in range(len(data[col])):\n",
        "    text=re.sub(r'http\\S+', ' ', data[col][i])\n",
        "    text=text.lower()\n",
        "    text=re.sub(r\"that's\",\"that is\",text)\n",
        "    text = re.sub(r\"there's\",\"there is\",text)\n",
        "    text = re.sub(r\"what's\",\"what is\",text)\n",
        "    text = re.sub(r\"where's\",\"where is\",text)\n",
        "    text = re.sub(r\"it's\",\"it is\",text)\n",
        "    text = re.sub(r\"who's\",\"who is\",text)\n",
        "    text = re.sub(r\"i'm\",\"i am\",text)\n",
        "    text = re.sub(r\"she's\",\"she is\",text)\n",
        "    text = re.sub(r\"he's\",\"he is\",text)\n",
        "    text = re.sub(r\"they're\",\"they are\",text)\n",
        "    text = re.sub(r\"who're\",\"who are\",text)\n",
        "    text = re.sub(r\"ain't\",\"am not\",text)\n",
        "    text = re.sub(r\"wouldn't\",\"would not\",text)\n",
        "    text = re.sub(r\"shouldn't\",\"should not\",text)\n",
        "    text = re.sub(r\"can't\",\"can not\",text)\n",
        "    text = re.sub(r\"couldn't\",\"could not\",text)\n",
        "    text = re.sub(r\"won't\",\"will not\",text)\n",
        "    text=re.sub(r'[@#\\$%&\\*\\(\\)\\<\\>\\?\\!\\;\\'\\\\-\\_\"]',' ',text)\n",
        "    text= re.sub(r'\\W',' ',text)\n",
        "    text=re.sub(r'\\d',' ',text)\n",
        "    text=re.sub(r'^[a-z]\\s',' ',text)\n",
        "    text=re.sub(r'\\s+[a-z]\\s+',' ',text)\n",
        "    text=re.sub(r'\\s+[a-z]$',' ',text)\n",
        "    text=re.sub(r'\\s+',' ',text)\n",
        "    corpus.append(text)\n",
        "  return corpus"
      ],
      "execution_count": 0,
      "outputs": []
    },
    {
      "cell_type": "code",
      "metadata": {
        "id": "rmdNzyyHfV3q",
        "colab_type": "code",
        "colab": {}
      },
      "source": [
        "delhi_tweets['Text']=clean_text(delhi_tweets,'Text')"
      ],
      "execution_count": 0,
      "outputs": []
    },
    {
      "cell_type": "code",
      "metadata": {
        "id": "sC-oPHnVgEhS",
        "colab_type": "code",
        "outputId": "e6ff8d98-bd60-430b-ef4b-5bd40fd3c0e4",
        "colab": {
          "base_uri": "https://localhost:8080/",
          "height": 204
        }
      },
      "source": [
        "delhi_tweets.head()"
      ],
      "execution_count": 72,
      "outputs": [
        {
          "output_type": "execute_result",
          "data": {
            "text/html": [
              "<div>\n",
              "<style scoped>\n",
              "    .dataframe tbody tr th:only-of-type {\n",
              "        vertical-align: middle;\n",
              "    }\n",
              "\n",
              "    .dataframe tbody tr th {\n",
              "        vertical-align: top;\n",
              "    }\n",
              "\n",
              "    .dataframe thead th {\n",
              "        text-align: right;\n",
              "    }\n",
              "</style>\n",
              "<table border=\"1\" class=\"dataframe\">\n",
              "  <thead>\n",
              "    <tr style=\"text-align: right;\">\n",
              "      <th></th>\n",
              "      <th>Time_stamp</th>\n",
              "      <th>Text</th>\n",
              "    </tr>\n",
              "  </thead>\n",
              "  <tbody>\n",
              "    <tr>\n",
              "      <th>0</th>\n",
              "      <td>2020-02-23 06:51:02</td>\n",
              "      <td>wdf trump will visit shahinbagh also latest ja...</td>\n",
              "    </tr>\n",
              "    <tr>\n",
              "      <th>1</th>\n",
              "      <td>2020-02-23 06:08:06</td>\n",
              "      <td>ahead of us president donaldtrump visit to del...</td>\n",
              "    </tr>\n",
              "    <tr>\n",
              "      <th>2</th>\n",
              "      <td>2020-02-23 05:54:58</td>\n",
              "      <td>kejriwal sisodia won be allowed to be present ...</td>\n",
              "    </tr>\n",
              "    <tr>\n",
              "      <th>3</th>\n",
              "      <td>2020-02-23 05:35:26</td>\n",
              "      <td>bjp india narendramodi arvind kejriwal and ma...</td>\n",
              "    </tr>\n",
              "    <tr>\n",
              "      <th>4</th>\n",
              "      <td>2020-02-23 05:26:06</td>\n",
              "      <td>read her story aneeshabedi kejriwal sisodia un...</td>\n",
              "    </tr>\n",
              "  </tbody>\n",
              "</table>\n",
              "</div>"
            ],
            "text/plain": [
              "           Time_stamp                                               Text\n",
              "0 2020-02-23 06:51:02  wdf trump will visit shahinbagh also latest ja...\n",
              "1 2020-02-23 06:08:06  ahead of us president donaldtrump visit to del...\n",
              "2 2020-02-23 05:54:58  kejriwal sisodia won be allowed to be present ...\n",
              "3 2020-02-23 05:35:26   bjp india narendramodi arvind kejriwal and ma...\n",
              "4 2020-02-23 05:26:06  read her story aneeshabedi kejriwal sisodia un..."
            ]
          },
          "metadata": {
            "tags": []
          },
          "execution_count": 72
        }
      ]
    },
    {
      "cell_type": "code",
      "metadata": {
        "id": "yIjFeNM0lIyX",
        "colab_type": "code",
        "outputId": "312c0150-e74d-4a0c-9838-5b77326ce4f4",
        "colab": {
          "base_uri": "https://localhost:8080/",
          "height": 136
        }
      },
      "source": [
        "delhi_tweets.info()"
      ],
      "execution_count": 73,
      "outputs": [
        {
          "output_type": "stream",
          "text": [
            "<class 'pandas.core.frame.DataFrame'>\n",
            "RangeIndex: 320 entries, 0 to 319\n",
            "Data columns (total 2 columns):\n",
            "Time_stamp    320 non-null datetime64[ns]\n",
            "Text          320 non-null object\n",
            "dtypes: datetime64[ns](1), object(1)\n",
            "memory usage: 5.1+ KB\n"
          ],
          "name": "stdout"
        }
      ]
    },
    {
      "cell_type": "code",
      "metadata": {
        "id": "blT8rPa2gS1t",
        "colab_type": "code",
        "colab": {}
      },
      "source": [
        "agra_tweets['Text']=clean_text(agra_tweets,'Text')"
      ],
      "execution_count": 0,
      "outputs": []
    },
    {
      "cell_type": "code",
      "metadata": {
        "id": "u5eHExO6glWk",
        "colab_type": "code",
        "outputId": "abfa89fe-0c61-4151-a146-61a16e0001cf",
        "colab": {
          "base_uri": "https://localhost:8080/",
          "height": 204
        }
      },
      "source": [
        "agra_tweets.tail()"
      ],
      "execution_count": 75,
      "outputs": [
        {
          "output_type": "execute_result",
          "data": {
            "text/html": [
              "<div>\n",
              "<style scoped>\n",
              "    .dataframe tbody tr th:only-of-type {\n",
              "        vertical-align: middle;\n",
              "    }\n",
              "\n",
              "    .dataframe tbody tr th {\n",
              "        vertical-align: top;\n",
              "    }\n",
              "\n",
              "    .dataframe thead th {\n",
              "        text-align: right;\n",
              "    }\n",
              "</style>\n",
              "<table border=\"1\" class=\"dataframe\">\n",
              "  <thead>\n",
              "    <tr style=\"text-align: right;\">\n",
              "      <th></th>\n",
              "      <th>Time_stamp</th>\n",
              "      <th>Text</th>\n",
              "    </tr>\n",
              "  </thead>\n",
              "  <tbody>\n",
              "    <tr>\n",
              "      <th>171</th>\n",
              "      <td>2020-02-17 04:16:24</td>\n",
              "      <td>uttarpradesh chief minister yogiadityanath wi...</td>\n",
              "    </tr>\n",
              "    <tr>\n",
              "      <th>172</th>\n",
              "      <td>2020-02-16 10:30:00</td>\n",
              "      <td>donald trump likely to visit taj mahal on febu...</td>\n",
              "    </tr>\n",
              "    <tr>\n",
              "      <th>173</th>\n",
              "      <td>2020-02-15 15:51:33</td>\n",
              "      <td>us president trump to be provided fool proof s...</td>\n",
              "    </tr>\n",
              "    <tr>\n",
              "      <th>174</th>\n",
              "      <td>2020-02-13 17:08:54</td>\n",
              "      <td>us first lady melania trump will be going to t...</td>\n",
              "    </tr>\n",
              "    <tr>\n",
              "      <th>175</th>\n",
              "      <td>2020-02-13 17:01:20</td>\n",
              "      <td>us first lady melania trump will be going to t...</td>\n",
              "    </tr>\n",
              "  </tbody>\n",
              "</table>\n",
              "</div>"
            ],
            "text/plain": [
              "             Time_stamp                                               Text\n",
              "171 2020-02-17 04:16:24   uttarpradesh chief minister yogiadityanath wi...\n",
              "172 2020-02-16 10:30:00  donald trump likely to visit taj mahal on febu...\n",
              "173 2020-02-15 15:51:33  us president trump to be provided fool proof s...\n",
              "174 2020-02-13 17:08:54  us first lady melania trump will be going to t...\n",
              "175 2020-02-13 17:01:20  us first lady melania trump will be going to t..."
            ]
          },
          "metadata": {
            "tags": []
          },
          "execution_count": 75
        }
      ]
    },
    {
      "cell_type": "code",
      "metadata": {
        "id": "kegGYADhlS-9",
        "colab_type": "code",
        "outputId": "8116b91c-bd06-445e-f962-aa2b322d0ce0",
        "colab": {
          "base_uri": "https://localhost:8080/",
          "height": 136
        }
      },
      "source": [
        "agra_tweets.info()"
      ],
      "execution_count": 76,
      "outputs": [
        {
          "output_type": "stream",
          "text": [
            "<class 'pandas.core.frame.DataFrame'>\n",
            "RangeIndex: 176 entries, 0 to 175\n",
            "Data columns (total 2 columns):\n",
            "Time_stamp    176 non-null datetime64[ns]\n",
            "Text          176 non-null object\n",
            "dtypes: datetime64[ns](1), object(1)\n",
            "memory usage: 2.9+ KB\n"
          ],
          "name": "stdout"
        }
      ]
    },
    {
      "cell_type": "code",
      "metadata": {
        "id": "T-IVZDB4gnZm",
        "colab_type": "code",
        "colab": {}
      },
      "source": [
        "ahem_tweets['Text']=clean_text(ahem_tweets,'Text')"
      ],
      "execution_count": 0,
      "outputs": []
    },
    {
      "cell_type": "code",
      "metadata": {
        "id": "rUMNgnNugved",
        "colab_type": "code",
        "outputId": "29b7129f-1537-4870-ae6a-dec624e5f11c",
        "colab": {
          "base_uri": "https://localhost:8080/",
          "height": 204
        }
      },
      "source": [
        "ahem_tweets.head()"
      ],
      "execution_count": 78,
      "outputs": [
        {
          "output_type": "execute_result",
          "data": {
            "text/html": [
              "<div>\n",
              "<style scoped>\n",
              "    .dataframe tbody tr th:only-of-type {\n",
              "        vertical-align: middle;\n",
              "    }\n",
              "\n",
              "    .dataframe tbody tr th {\n",
              "        vertical-align: top;\n",
              "    }\n",
              "\n",
              "    .dataframe thead th {\n",
              "        text-align: right;\n",
              "    }\n",
              "</style>\n",
              "<table border=\"1\" class=\"dataframe\">\n",
              "  <thead>\n",
              "    <tr style=\"text-align: right;\">\n",
              "      <th></th>\n",
              "      <th>Time_stamp</th>\n",
              "      <th>Text</th>\n",
              "    </tr>\n",
              "  </thead>\n",
              "  <tbody>\n",
              "    <tr>\n",
              "      <th>0</th>\n",
              "      <td>2020-02-23 07:07:17</td>\n",
              "      <td>realdonaldtrump whitehouse the welcome entry ...</td>\n",
              "    </tr>\n",
              "    <tr>\n",
              "      <th>1</th>\n",
              "      <td>2020-02-23 06:51:26</td>\n",
              "      <td>us could deny b visa cards benefits to immigra...</td>\n",
              "    </tr>\n",
              "    <tr>\n",
              "      <th>2</th>\n",
              "      <td>2020-02-23 06:43:01</td>\n",
              "      <td>म द पहल द श क स च as well know us president d...</td>\n",
              "    </tr>\n",
              "    <tr>\n",
              "      <th>3</th>\n",
              "      <td>2020-02-23 06:41:15</td>\n",
              "      <td>म द पहल द श क स च as well know us president d...</td>\n",
              "    </tr>\n",
              "    <tr>\n",
              "      <th>4</th>\n",
              "      <td>2020-02-23 06:39:50</td>\n",
              "      <td>म द पहल द श क स च as well know us president d...</td>\n",
              "    </tr>\n",
              "  </tbody>\n",
              "</table>\n",
              "</div>"
            ],
            "text/plain": [
              "           Time_stamp                                               Text\n",
              "0 2020-02-23 07:07:17   realdonaldtrump whitehouse the welcome entry ...\n",
              "1 2020-02-23 06:51:26  us could deny b visa cards benefits to immigra...\n",
              "2 2020-02-23 06:43:01   म द पहल द श क स च as well know us president d...\n",
              "3 2020-02-23 06:41:15   म द पहल द श क स च as well know us president d...\n",
              "4 2020-02-23 06:39:50   म द पहल द श क स च as well know us president d..."
            ]
          },
          "metadata": {
            "tags": []
          },
          "execution_count": 78
        }
      ]
    },
    {
      "cell_type": "code",
      "metadata": {
        "id": "chKtoosLlXKQ",
        "colab_type": "code",
        "outputId": "73fdb956-d945-4c61-9c85-312530567d8c",
        "colab": {
          "base_uri": "https://localhost:8080/",
          "height": 136
        }
      },
      "source": [
        "ahem_tweets.info()"
      ],
      "execution_count": 79,
      "outputs": [
        {
          "output_type": "stream",
          "text": [
            "<class 'pandas.core.frame.DataFrame'>\n",
            "RangeIndex: 247 entries, 0 to 246\n",
            "Data columns (total 2 columns):\n",
            "Time_stamp    247 non-null datetime64[ns]\n",
            "Text          247 non-null object\n",
            "dtypes: datetime64[ns](1), object(1)\n",
            "memory usage: 4.0+ KB\n"
          ],
          "name": "stdout"
        }
      ]
    },
    {
      "cell_type": "code",
      "metadata": {
        "id": "oNmmULn1qsok",
        "colab_type": "code",
        "colab": {}
      },
      "source": [
        "delhi_tweets['Hour']=pd.to_datetime(delhi_tweets.Time_stamp).dt.hour\n",
        "agra_tweets['Hour']=pd.to_datetime(agra_tweets.Time_stamp).dt.hour\n",
        "ahem_tweets['Hour']=pd.to_datetime(ahem_tweets.Time_stamp).dt.hour\n"
      ],
      "execution_count": 0,
      "outputs": []
    },
    {
      "cell_type": "code",
      "metadata": {
        "id": "edWEAKHDdfYg",
        "colab_type": "code",
        "colab": {}
      },
      "source": [
        "delhi_tweets['Day']=pd.to_datetime(delhi_tweets.Time_stamp).dt.day\n",
        "agra_tweets['Day']=pd.to_datetime(agra_tweets.Time_stamp).dt.day\n",
        "ahem_tweets['Day']=pd.to_datetime(ahem_tweets.Time_stamp).dt.day\n"
      ],
      "execution_count": 0,
      "outputs": []
    },
    {
      "cell_type": "code",
      "metadata": {
        "id": "J0PoBAxFqsja",
        "colab_type": "code",
        "outputId": "da9762c3-be97-4bf2-be7d-ece5702269e4",
        "colab": {
          "base_uri": "https://localhost:8080/",
          "height": 204
        }
      },
      "source": [
        "delhi_tweets.tail()"
      ],
      "execution_count": 82,
      "outputs": [
        {
          "output_type": "execute_result",
          "data": {
            "text/html": [
              "<div>\n",
              "<style scoped>\n",
              "    .dataframe tbody tr th:only-of-type {\n",
              "        vertical-align: middle;\n",
              "    }\n",
              "\n",
              "    .dataframe tbody tr th {\n",
              "        vertical-align: top;\n",
              "    }\n",
              "\n",
              "    .dataframe thead th {\n",
              "        text-align: right;\n",
              "    }\n",
              "</style>\n",
              "<table border=\"1\" class=\"dataframe\">\n",
              "  <thead>\n",
              "    <tr style=\"text-align: right;\">\n",
              "      <th></th>\n",
              "      <th>Time_stamp</th>\n",
              "      <th>Text</th>\n",
              "      <th>Hour</th>\n",
              "      <th>Day</th>\n",
              "    </tr>\n",
              "  </thead>\n",
              "  <tbody>\n",
              "    <tr>\n",
              "      <th>315</th>\n",
              "      <td>2020-02-14 12:17:16</td>\n",
              "      <td>trump is scheduled to make his first visit as ...</td>\n",
              "      <td>12</td>\n",
              "      <td>14</td>\n",
              "    </tr>\n",
              "    <tr>\n",
              "      <th>316</th>\n",
              "      <td>2020-02-14 12:02:03</td>\n",
              "      <td>trump to woo indian executives during new delh...</td>\n",
              "      <td>12</td>\n",
              "      <td>14</td>\n",
              "    </tr>\n",
              "    <tr>\n",
              "      <th>317</th>\n",
              "      <td>2020-02-14 11:54:50</td>\n",
              "      <td>president donald trump will woo executives of...</td>\n",
              "      <td>11</td>\n",
              "      <td>14</td>\n",
              "    </tr>\n",
              "    <tr>\n",
              "      <th>318</th>\n",
              "      <td>2020-02-14 04:36:19</td>\n",
              "      <td>bjp india after facing harsh defeat in delhi ...</td>\n",
              "      <td>4</td>\n",
              "      <td>14</td>\n",
              "    </tr>\n",
              "    <tr>\n",
              "      <th>319</th>\n",
              "      <td>2020-02-13 19:29:35</td>\n",
              "      <td>the us has just signalled to india that there ...</td>\n",
              "      <td>19</td>\n",
              "      <td>13</td>\n",
              "    </tr>\n",
              "  </tbody>\n",
              "</table>\n",
              "</div>"
            ],
            "text/plain": [
              "             Time_stamp  ... Day\n",
              "315 2020-02-14 12:17:16  ...  14\n",
              "316 2020-02-14 12:02:03  ...  14\n",
              "317 2020-02-14 11:54:50  ...  14\n",
              "318 2020-02-14 04:36:19  ...  14\n",
              "319 2020-02-13 19:29:35  ...  13\n",
              "\n",
              "[5 rows x 4 columns]"
            ]
          },
          "metadata": {
            "tags": []
          },
          "execution_count": 82
        }
      ]
    },
    {
      "cell_type": "code",
      "metadata": {
        "id": "FoyiHUDPqsQB",
        "colab_type": "code",
        "outputId": "6ccb0524-7adf-4852-85bd-85cdf92f5e0b",
        "colab": {
          "base_uri": "https://localhost:8080/",
          "height": 204
        }
      },
      "source": [
        "delhi_tweets_copy.tail()"
      ],
      "execution_count": 83,
      "outputs": [
        {
          "output_type": "execute_result",
          "data": {
            "text/html": [
              "<div>\n",
              "<style scoped>\n",
              "    .dataframe tbody tr th:only-of-type {\n",
              "        vertical-align: middle;\n",
              "    }\n",
              "\n",
              "    .dataframe tbody tr th {\n",
              "        vertical-align: top;\n",
              "    }\n",
              "\n",
              "    .dataframe thead th {\n",
              "        text-align: right;\n",
              "    }\n",
              "</style>\n",
              "<table border=\"1\" class=\"dataframe\">\n",
              "  <thead>\n",
              "    <tr style=\"text-align: right;\">\n",
              "      <th></th>\n",
              "      <th>Time_stamp</th>\n",
              "      <th>Text</th>\n",
              "    </tr>\n",
              "  </thead>\n",
              "  <tbody>\n",
              "    <tr>\n",
              "      <th>315</th>\n",
              "      <td>2020-02-14 12:17:16</td>\n",
              "      <td>Trump is scheduled to make his first visit as ...</td>\n",
              "    </tr>\n",
              "    <tr>\n",
              "      <th>316</th>\n",
              "      <td>2020-02-14 12:02:03</td>\n",
              "      <td>Trump to woo Indian executives during New Delh...</td>\n",
              "    </tr>\n",
              "    <tr>\n",
              "      <th>317</th>\n",
              "      <td>2020-02-14 11:54:50</td>\n",
              "      <td>U.S. President Donald Trump will woo executive...</td>\n",
              "    </tr>\n",
              "    <tr>\n",
              "      <th>318</th>\n",
              "      <td>2020-02-14 04:36:19</td>\n",
              "      <td>@BJP4India after facing harsh defeat in Delhi ...</td>\n",
              "    </tr>\n",
              "    <tr>\n",
              "      <th>319</th>\n",
              "      <td>2020-02-13 19:29:35</td>\n",
              "      <td>The US has just signalled to India that there ...</td>\n",
              "    </tr>\n",
              "  </tbody>\n",
              "</table>\n",
              "</div>"
            ],
            "text/plain": [
              "             Time_stamp                                               Text\n",
              "315 2020-02-14 12:17:16  Trump is scheduled to make his first visit as ...\n",
              "316 2020-02-14 12:02:03  Trump to woo Indian executives during New Delh...\n",
              "317 2020-02-14 11:54:50  U.S. President Donald Trump will woo executive...\n",
              "318 2020-02-14 04:36:19  @BJP4India after facing harsh defeat in Delhi ...\n",
              "319 2020-02-13 19:29:35  The US has just signalled to India that there ..."
            ]
          },
          "metadata": {
            "tags": []
          },
          "execution_count": 83
        }
      ]
    },
    {
      "cell_type": "code",
      "metadata": {
        "id": "eorSGMvfjI_h",
        "colab_type": "code",
        "colab": {}
      },
      "source": [
        ""
      ],
      "execution_count": 0,
      "outputs": []
    },
    {
      "cell_type": "code",
      "metadata": {
        "id": "dTIHrFBMgxtZ",
        "colab_type": "code",
        "colab": {}
      },
      "source": [
        "def remove_stopword(data,col):\n",
        "  corpus=[]\n",
        "  s=set(stopwords.words('english'))\n",
        "  s1=['not','or','and','no','nor']\n",
        "  for i in s1:\n",
        "    if i in s:\n",
        "      s.remove(i)\n",
        "  for i in range(len(data[col])):\n",
        "    words = nltk.word_tokenize(data[col][i])\n",
        "    word1 = [word for word in words if word not in s]\n",
        "    corpus.append(' '.join(word1))\n",
        "  return corpus\n"
      ],
      "execution_count": 0,
      "outputs": []
    },
    {
      "cell_type": "code",
      "metadata": {
        "id": "wN345p9Qj7Wd",
        "colab_type": "code",
        "colab": {}
      },
      "source": [
        "delhi_tweets[\"Text\"]=remove_stopword(delhi_tweets,'Text')"
      ],
      "execution_count": 0,
      "outputs": []
    },
    {
      "cell_type": "code",
      "metadata": {
        "id": "-s6A1PBMkhDW",
        "colab_type": "code",
        "outputId": "de70fa1f-5e7c-4a48-b3bc-24b8199b540e",
        "colab": {
          "base_uri": "https://localhost:8080/",
          "height": 204
        }
      },
      "source": [
        "delhi_tweets.head()"
      ],
      "execution_count": 86,
      "outputs": [
        {
          "output_type": "execute_result",
          "data": {
            "text/html": [
              "<div>\n",
              "<style scoped>\n",
              "    .dataframe tbody tr th:only-of-type {\n",
              "        vertical-align: middle;\n",
              "    }\n",
              "\n",
              "    .dataframe tbody tr th {\n",
              "        vertical-align: top;\n",
              "    }\n",
              "\n",
              "    .dataframe thead th {\n",
              "        text-align: right;\n",
              "    }\n",
              "</style>\n",
              "<table border=\"1\" class=\"dataframe\">\n",
              "  <thead>\n",
              "    <tr style=\"text-align: right;\">\n",
              "      <th></th>\n",
              "      <th>Time_stamp</th>\n",
              "      <th>Text</th>\n",
              "      <th>Hour</th>\n",
              "      <th>Day</th>\n",
              "    </tr>\n",
              "  </thead>\n",
              "  <tbody>\n",
              "    <tr>\n",
              "      <th>0</th>\n",
              "      <td>2020-02-23 06:51:02</td>\n",
              "      <td>wdf trump visit shahinbagh also latest jafarab...</td>\n",
              "      <td>6</td>\n",
              "      <td>23</td>\n",
              "    </tr>\n",
              "    <tr>\n",
              "      <th>1</th>\n",
              "      <td>2020-02-23 06:08:06</td>\n",
              "      <td>ahead us president donaldtrump visit delhi uni...</td>\n",
              "      <td>6</td>\n",
              "      <td>23</td>\n",
              "    </tr>\n",
              "    <tr>\n",
              "      <th>2</th>\n",
              "      <td>2020-02-23 05:54:58</td>\n",
              "      <td>kejriwal sisodia allowed present delhi school ...</td>\n",
              "      <td>5</td>\n",
              "      <td>23</td>\n",
              "    </tr>\n",
              "    <tr>\n",
              "      <th>3</th>\n",
              "      <td>2020-02-23 05:35:26</td>\n",
              "      <td>bjp india narendramodi arvind kejriwal and man...</td>\n",
              "      <td>5</td>\n",
              "      <td>23</td>\n",
              "    </tr>\n",
              "    <tr>\n",
              "      <th>4</th>\n",
              "      <td>2020-02-23 05:26:06</td>\n",
              "      <td>read story aneeshabedi kejriwal sisodia unlike...</td>\n",
              "      <td>5</td>\n",
              "      <td>23</td>\n",
              "    </tr>\n",
              "  </tbody>\n",
              "</table>\n",
              "</div>"
            ],
            "text/plain": [
              "           Time_stamp  ... Day\n",
              "0 2020-02-23 06:51:02  ...  23\n",
              "1 2020-02-23 06:08:06  ...  23\n",
              "2 2020-02-23 05:54:58  ...  23\n",
              "3 2020-02-23 05:35:26  ...  23\n",
              "4 2020-02-23 05:26:06  ...  23\n",
              "\n",
              "[5 rows x 4 columns]"
            ]
          },
          "metadata": {
            "tags": []
          },
          "execution_count": 86
        }
      ]
    },
    {
      "cell_type": "code",
      "metadata": {
        "id": "Q7xmsxchk80f",
        "colab_type": "code",
        "colab": {}
      },
      "source": [
        "agra_tweets[\"Text\"]=remove_stopword(agra_tweets,'Text')"
      ],
      "execution_count": 0,
      "outputs": []
    },
    {
      "cell_type": "code",
      "metadata": {
        "id": "vrdpqCAPlmpA",
        "colab_type": "code",
        "outputId": "dc35390b-7d50-4b89-f283-7c2af3a88361",
        "colab": {
          "base_uri": "https://localhost:8080/",
          "height": 204
        }
      },
      "source": [
        "agra_tweets.head()"
      ],
      "execution_count": 88,
      "outputs": [
        {
          "output_type": "execute_result",
          "data": {
            "text/html": [
              "<div>\n",
              "<style scoped>\n",
              "    .dataframe tbody tr th:only-of-type {\n",
              "        vertical-align: middle;\n",
              "    }\n",
              "\n",
              "    .dataframe tbody tr th {\n",
              "        vertical-align: top;\n",
              "    }\n",
              "\n",
              "    .dataframe thead th {\n",
              "        text-align: right;\n",
              "    }\n",
              "</style>\n",
              "<table border=\"1\" class=\"dataframe\">\n",
              "  <thead>\n",
              "    <tr style=\"text-align: right;\">\n",
              "      <th></th>\n",
              "      <th>Time_stamp</th>\n",
              "      <th>Text</th>\n",
              "      <th>Hour</th>\n",
              "      <th>Day</th>\n",
              "    </tr>\n",
              "  </thead>\n",
              "  <tbody>\n",
              "    <tr>\n",
              "      <th>0</th>\n",
              "      <td>2020-02-23 06:46:18</td>\n",
              "      <td>agra gets hurried makeover sweep trump feet</td>\n",
              "      <td>6</td>\n",
              "      <td>23</td>\n",
              "    </tr>\n",
              "    <tr>\n",
              "      <th>1</th>\n",
              "      <td>2020-02-23 06:22:49</td>\n",
              "      <td>strays go agra roads ahead realdonaldtrump visit</td>\n",
              "      <td>6</td>\n",
              "      <td>23</td>\n",
              "    </tr>\n",
              "    <tr>\n",
              "      <th>2</th>\n",
              "      <td>2020-02-23 06:21:34</td>\n",
              "      <td>pm modi not join trump agra tour</td>\n",
              "      <td>6</td>\n",
              "      <td>23</td>\n",
              "    </tr>\n",
              "    <tr>\n",
              "      <th>3</th>\n",
              "      <td>2020-02-23 06:21:31</td>\n",
              "      <td>news pics preparations going agra donaldtrump ...</td>\n",
              "      <td>6</td>\n",
              "      <td>23</td>\n",
              "    </tr>\n",
              "    <tr>\n",
              "      <th>4</th>\n",
              "      <td>2020-02-23 05:18:12</td>\n",
              "      <td>read dilapidated railway bridge near taj mahal...</td>\n",
              "      <td>5</td>\n",
              "      <td>23</td>\n",
              "    </tr>\n",
              "  </tbody>\n",
              "</table>\n",
              "</div>"
            ],
            "text/plain": [
              "           Time_stamp  ... Day\n",
              "0 2020-02-23 06:46:18  ...  23\n",
              "1 2020-02-23 06:22:49  ...  23\n",
              "2 2020-02-23 06:21:34  ...  23\n",
              "3 2020-02-23 06:21:31  ...  23\n",
              "4 2020-02-23 05:18:12  ...  23\n",
              "\n",
              "[5 rows x 4 columns]"
            ]
          },
          "metadata": {
            "tags": []
          },
          "execution_count": 88
        }
      ]
    },
    {
      "cell_type": "code",
      "metadata": {
        "id": "e49GGE01mj_u",
        "colab_type": "code",
        "colab": {}
      },
      "source": [
        "ahem_tweets['Text']=remove_stopword(ahem_tweets,'Text')\n",
        "                              "
      ],
      "execution_count": 0,
      "outputs": []
    },
    {
      "cell_type": "code",
      "metadata": {
        "id": "WbRUWZw1mzoh",
        "colab_type": "code",
        "outputId": "70d303db-90da-4715-e8c6-38fee9351ed9",
        "colab": {
          "base_uri": "https://localhost:8080/",
          "height": 204
        }
      },
      "source": [
        "ahem_tweets.head()"
      ],
      "execution_count": 90,
      "outputs": [
        {
          "output_type": "execute_result",
          "data": {
            "text/html": [
              "<div>\n",
              "<style scoped>\n",
              "    .dataframe tbody tr th:only-of-type {\n",
              "        vertical-align: middle;\n",
              "    }\n",
              "\n",
              "    .dataframe tbody tr th {\n",
              "        vertical-align: top;\n",
              "    }\n",
              "\n",
              "    .dataframe thead th {\n",
              "        text-align: right;\n",
              "    }\n",
              "</style>\n",
              "<table border=\"1\" class=\"dataframe\">\n",
              "  <thead>\n",
              "    <tr style=\"text-align: right;\">\n",
              "      <th></th>\n",
              "      <th>Time_stamp</th>\n",
              "      <th>Text</th>\n",
              "      <th>Hour</th>\n",
              "      <th>Day</th>\n",
              "    </tr>\n",
              "  </thead>\n",
              "  <tbody>\n",
              "    <tr>\n",
              "      <th>0</th>\n",
              "      <td>2020-02-23 07:07:17</td>\n",
              "      <td>realdonaldtrump whitehouse welcome entry gate ...</td>\n",
              "      <td>7</td>\n",
              "      <td>23</td>\n",
              "    </tr>\n",
              "    <tr>\n",
              "      <th>1</th>\n",
              "      <td>2020-02-23 06:51:26</td>\n",
              "      <td>us could deny b visa cards benefits immigrants...</td>\n",
              "      <td>6</td>\n",
              "      <td>23</td>\n",
              "    </tr>\n",
              "    <tr>\n",
              "      <th>2</th>\n",
              "      <td>2020-02-23 06:43:01</td>\n",
              "      <td>म द पहल द श क स च well know us president donal...</td>\n",
              "      <td>6</td>\n",
              "      <td>23</td>\n",
              "    </tr>\n",
              "    <tr>\n",
              "      <th>3</th>\n",
              "      <td>2020-02-23 06:41:15</td>\n",
              "      <td>म द पहल द श क स च well know us president donal...</td>\n",
              "      <td>6</td>\n",
              "      <td>23</td>\n",
              "    </tr>\n",
              "    <tr>\n",
              "      <th>4</th>\n",
              "      <td>2020-02-23 06:39:50</td>\n",
              "      <td>म द पहल द श क स च well know us president donal...</td>\n",
              "      <td>6</td>\n",
              "      <td>23</td>\n",
              "    </tr>\n",
              "  </tbody>\n",
              "</table>\n",
              "</div>"
            ],
            "text/plain": [
              "           Time_stamp  ... Day\n",
              "0 2020-02-23 07:07:17  ...  23\n",
              "1 2020-02-23 06:51:26  ...  23\n",
              "2 2020-02-23 06:43:01  ...  23\n",
              "3 2020-02-23 06:41:15  ...  23\n",
              "4 2020-02-23 06:39:50  ...  23\n",
              "\n",
              "[5 rows x 4 columns]"
            ]
          },
          "metadata": {
            "tags": []
          },
          "execution_count": 90
        }
      ]
    },
    {
      "cell_type": "code",
      "metadata": {
        "id": "LkF6zS-8o-Q-",
        "colab_type": "code",
        "colab": {}
      },
      "source": [
        ""
      ],
      "execution_count": 0,
      "outputs": []
    },
    {
      "cell_type": "code",
      "metadata": {
        "id": "3Vq3UIdsUmc1",
        "colab_type": "code",
        "colab": {}
      },
      "source": [
        "from sklearn.feature_extraction.text import CountVectorizer\n",
        "from sklearn.feature_extraction.text import TfidfTransformer\n",
        "def tfidf(data,col):\n",
        "  vectorizer = CountVectorizer(max_features = 500, min_df = 1, max_df = 0.9)\n",
        "  X = vectorizer.fit_transform(data[col]).toarray()\n",
        "  transformer = TfidfTransformer()\n",
        "  X = transformer.fit_transform(X).toarray()\n",
        "  return X"
      ],
      "execution_count": 0,
      "outputs": []
    },
    {
      "cell_type": "code",
      "metadata": {
        "id": "JGmPbYFoLv7k",
        "colab_type": "code",
        "colab": {}
      },
      "source": [
        ""
      ],
      "execution_count": 0,
      "outputs": []
    },
    {
      "cell_type": "code",
      "metadata": {
        "id": "ndDfYjK4NlAS",
        "colab_type": "code",
        "colab": {}
      },
      "source": [
        "delhi_test=tfidf(delhi_tweets,\"Text\")\n",
        "agra_test=tfidf(agra_tweets,'Text')\n",
        "ahem_test=tfidf(ahem_tweets,\"Text\")"
      ],
      "execution_count": 0,
      "outputs": []
    },
    {
      "cell_type": "code",
      "metadata": {
        "id": "Y9jc8Tzz0BeP",
        "colab_type": "code",
        "outputId": "45c09953-5378-4d94-a273-ce9b5b0dcb78",
        "colab": {
          "base_uri": "https://localhost:8080/",
          "height": 34
        }
      },
      "source": [
        "delhi_test.shape"
      ],
      "execution_count": 93,
      "outputs": [
        {
          "output_type": "execute_result",
          "data": {
            "text/plain": [
              "(320, 500)"
            ]
          },
          "metadata": {
            "tags": []
          },
          "execution_count": 93
        }
      ]
    },
    {
      "cell_type": "code",
      "metadata": {
        "id": "326IEcx6x1Fe",
        "colab_type": "code",
        "colab": {
          "base_uri": "https://localhost:8080/",
          "height": 678
        },
        "outputId": "8e69f2fe-cb54-46b0-c991-7c5a2d744244"
      },
      "source": [
        "with open('model_tfidf.pickle','rb') as f:\n",
        "  model=pickle.load(f)"
      ],
      "execution_count": 94,
      "outputs": [
        {
          "output_type": "stream",
          "text": [
            "Using TensorFlow backend.\n"
          ],
          "name": "stderr"
        },
        {
          "output_type": "display_data",
          "data": {
            "text/html": [
              "<p style=\"color: red;\">\n",
              "The default version of TensorFlow in Colab will soon switch to TensorFlow 2.x.<br>\n",
              "We recommend you <a href=\"https://www.tensorflow.org/guide/migrate\" target=\"_blank\">upgrade</a> now \n",
              "or ensure your notebook will continue to use TensorFlow 1.x via the <code>%tensorflow_version 1.x</code> magic:\n",
              "<a href=\"https://colab.research.google.com/notebooks/tensorflow_version.ipynb\" target=\"_blank\">more info</a>.</p>\n"
            ],
            "text/plain": [
              "<IPython.core.display.HTML object>"
            ]
          },
          "metadata": {
            "tags": []
          }
        },
        {
          "output_type": "stream",
          "text": [
            "WARNING:tensorflow:From /usr/local/lib/python3.6/dist-packages/keras/backend/tensorflow_backend.py:541: The name tf.placeholder is deprecated. Please use tf.compat.v1.placeholder instead.\n",
            "\n",
            "WARNING:tensorflow:From /usr/local/lib/python3.6/dist-packages/keras/backend/tensorflow_backend.py:4432: The name tf.random_uniform is deprecated. Please use tf.random.uniform instead.\n",
            "\n",
            "WARNING:tensorflow:From /usr/local/lib/python3.6/dist-packages/keras/backend/tensorflow_backend.py:66: The name tf.get_default_graph is deprecated. Please use tf.compat.v1.get_default_graph instead.\n",
            "\n",
            "WARNING:tensorflow:From /usr/local/lib/python3.6/dist-packages/keras/backend/tensorflow_backend.py:148: The name tf.placeholder_with_default is deprecated. Please use tf.compat.v1.placeholder_with_default instead.\n",
            "\n",
            "WARNING:tensorflow:From /usr/local/lib/python3.6/dist-packages/keras/backend/tensorflow_backend.py:3733: calling dropout (from tensorflow.python.ops.nn_ops) with keep_prob is deprecated and will be removed in a future version.\n",
            "Instructions for updating:\n",
            "Please use `rate` instead of `keep_prob`. Rate should be set to `rate = 1 - keep_prob`.\n",
            "WARNING:tensorflow:From /usr/local/lib/python3.6/dist-packages/keras/backend/tensorflow_backend.py:190: The name tf.get_default_session is deprecated. Please use tf.compat.v1.get_default_session instead.\n",
            "\n",
            "WARNING:tensorflow:From /usr/local/lib/python3.6/dist-packages/keras/backend/tensorflow_backend.py:197: The name tf.ConfigProto is deprecated. Please use tf.compat.v1.ConfigProto instead.\n",
            "\n",
            "WARNING:tensorflow:From /usr/local/lib/python3.6/dist-packages/keras/backend/tensorflow_backend.py:203: The name tf.Session is deprecated. Please use tf.compat.v1.Session instead.\n",
            "\n",
            "WARNING:tensorflow:From /usr/local/lib/python3.6/dist-packages/keras/backend/tensorflow_backend.py:207: The name tf.global_variables is deprecated. Please use tf.compat.v1.global_variables instead.\n",
            "\n",
            "WARNING:tensorflow:From /usr/local/lib/python3.6/dist-packages/keras/backend/tensorflow_backend.py:216: The name tf.is_variable_initialized is deprecated. Please use tf.compat.v1.is_variable_initialized instead.\n",
            "\n",
            "WARNING:tensorflow:From /usr/local/lib/python3.6/dist-packages/keras/backend/tensorflow_backend.py:223: The name tf.variables_initializer is deprecated. Please use tf.compat.v1.variables_initializer instead.\n",
            "\n",
            "WARNING:tensorflow:From /usr/local/lib/python3.6/dist-packages/keras/optimizers.py:793: The name tf.train.Optimizer is deprecated. Please use tf.compat.v1.train.Optimizer instead.\n",
            "\n",
            "WARNING:tensorflow:From /usr/local/lib/python3.6/dist-packages/keras/backend/tensorflow_backend.py:3657: The name tf.log is deprecated. Please use tf.math.log instead.\n",
            "\n",
            "WARNING:tensorflow:From /usr/local/lib/python3.6/dist-packages/tensorflow_core/python/ops/nn_impl.py:183: where (from tensorflow.python.ops.array_ops) is deprecated and will be removed in a future version.\n",
            "Instructions for updating:\n",
            "Use tf.where in 2.0, which has the same broadcast rule as np.where\n",
            "WARNING:tensorflow:From /usr/local/lib/python3.6/dist-packages/keras/backend/tensorflow_backend.py:1033: The name tf.assign_add is deprecated. Please use tf.compat.v1.assign_add instead.\n",
            "\n",
            "WARNING:tensorflow:From /usr/local/lib/python3.6/dist-packages/keras/backend/tensorflow_backend.py:1020: The name tf.assign is deprecated. Please use tf.compat.v1.assign instead.\n",
            "\n"
          ],
          "name": "stdout"
        }
      ]
    },
    {
      "cell_type": "code",
      "metadata": {
        "colab_type": "code",
        "id": "vbApNFDfqHRq",
        "colab": {}
      },
      "source": [
        "delhi_pre=model.predict(delhi_test)\n",
        "agra_pre=model.predict(agra_test)\n",
        "ahem_pre=model.predict(ahem_test)"
      ],
      "execution_count": 0,
      "outputs": []
    },
    {
      "cell_type": "code",
      "metadata": {
        "id": "o3Qb6qtvdz6F",
        "colab_type": "code",
        "colab": {}
      },
      "source": [
        "def sentiment(prob):\n",
        "  if prob>0.6:\n",
        "    return 'Positive'\n",
        "  elif prob<=0.6 and prob>0.4:\n",
        "    return 'Nuetral'\n",
        "  else:\n",
        "      return 'Negative'\n"
      ],
      "execution_count": 0,
      "outputs": []
    },
    {
      "cell_type": "code",
      "metadata": {
        "id": "fX2kEuEvsY6m",
        "colab_type": "code",
        "colab": {}
      },
      "source": [
        "def sentiment_pred(prob):\n",
        "  y_senti=[]\n",
        "  for i in range(len(prob)):\n",
        "    y_senti.append(sentiment(prob[i]))\n",
        "  return y_senti\n"
      ],
      "execution_count": 0,
      "outputs": []
    },
    {
      "cell_type": "code",
      "metadata": {
        "id": "q7Mmbdi4raeo",
        "colab_type": "code",
        "colab": {}
      },
      "source": [
        "delhi_senti=sentiment_pred(delhi_pre)\n",
        "agra_senti=sentiment_pred(agra_pre)\n",
        "ahem_senti=sentiment_pred(ahem_pre)"
      ],
      "execution_count": 0,
      "outputs": []
    },
    {
      "cell_type": "code",
      "metadata": {
        "id": "mISjjlAQsMdu",
        "colab_type": "code",
        "colab": {}
      },
      "source": [
        ""
      ],
      "execution_count": 0,
      "outputs": []
    },
    {
      "cell_type": "code",
      "metadata": {
        "id": "-zu6N1ZhtI7o",
        "colab_type": "code",
        "colab": {}
      },
      "source": [
        "def hashtag_count(data,col,city,count):\n",
        "    hashtags = []\n",
        "    for i in range(len(data[col])):\n",
        "        ht = re.findall(r\"#(\\w+)\", data[col][i])\n",
        "        if len(ht)>=1:\n",
        "            hashtags.append(ht)\n",
        "    hash=sum(hashtags,[])\n",
        "    ha=nltk.FreqDist(hash)\n",
        "    dtf=pd.DataFrame({'Hashtag': list(ha.keys()),'Count': list(ha.values())})\n",
        "    dtf = dtf[dtf['Count']>=count]\n",
        "    plt.figure(figsize=(16,8))\n",
        "    ax=sns.barplot(x=dtf['Hashtag'],y=dtf['Count'])\n",
        "    ax.set(ylabel = 'Count')\n",
        "    plt.title('Hashtag Trending in '+city)\n",
        "    plt.text(14,-3,'Ramakant Shakya')\n",
        "    plt.text(0,-3,str(datetime.now(tz_India)))\n",
        "    plt.show()"
      ],
      "execution_count": 0,
      "outputs": []
    },
    {
      "cell_type": "code",
      "metadata": {
        "id": "R8p1PCBWtiQ0",
        "colab_type": "code",
        "outputId": "9efa4a0a-2a24-4469-fe60-1b13fdfa4629",
        "colab": {
          "base_uri": "https://localhost:8080/",
          "height": 323
        }
      },
      "source": [
        "sns.countplot(ahem_senti)\n",
        "plt.title('Ahemdabad')\n",
        "plt.text(2,-20,'Ramakant Shakya')\n",
        "plt.text(-1,-20,str(datetime.now(tz_India)))"
      ],
      "execution_count": 105,
      "outputs": [
        {
          "output_type": "execute_result",
          "data": {
            "text/plain": [
              "Text(-1, -20, '2020-02-23 13:09:31.625424+05:30')"
            ]
          },
          "metadata": {
            "tags": []
          },
          "execution_count": 105
        },
        {
          "output_type": "display_data",
          "data": {
            "image/png": "[encoded data removed]",
            "text/plain": [
              "<Figure size 432x288 with 1 Axes>"
            ]
          },
          "metadata": {
            "tags": []
          }
        }
      ]
    },
    {
      "cell_type": "code",
      "metadata": {
        "id": "R90CanF0t4vV",
        "colab_type": "code",
        "outputId": "fbfb6a9c-6ba6-4b0d-f35f-ed3eec624f56",
        "colab": {
          "base_uri": "https://localhost:8080/",
          "height": 312
        }
      },
      "source": [
        "sns.countplot(delhi_senti)\n",
        "plt.title('Delhi')\n",
        "plt.text(2,-25,'Ramakant Shakya')\n",
        "plt.text(0,-25,str(datetime.now(tz_India)))"
      ],
      "execution_count": 107,
      "outputs": [
        {
          "output_type": "execute_result",
          "data": {
            "text/plain": [
              "Text(0, -25, '2020-02-23 13:11:03.591861+05:30')"
            ]
          },
          "metadata": {
            "tags": []
          },
          "execution_count": 107
        },
        {
          "output_type": "display_data",
          "data": {
            "image/png": "[encoded data removed]",
            "text/plain": [
              "<Figure size 432x288 with 1 Axes>"
            ]
          },
          "metadata": {
            "tags": []
          }
        }
      ]
    },
    {
      "cell_type": "code",
      "metadata": {
        "id": "JvAGUzf_uJVB",
        "colab_type": "code",
        "outputId": "7e3143c0-3366-4f1c-e1cf-485d0b2714ab",
        "colab": {
          "base_uri": "https://localhost:8080/",
          "height": 328
        }
      },
      "source": [
        "sns.countplot(agra_senti)\n",
        "plt.title(\"Agra\")\n",
        "plt.text(2,-20,'Ramakant Shakya')\n",
        "plt.text(0,-20,str(datetime.now(tz_India)))"
      ],
      "execution_count": 108,
      "outputs": [
        {
          "output_type": "execute_result",
          "data": {
            "text/plain": [
              "Text(0, -20, '2020-02-23 13:11:30.059339+05:30')"
            ]
          },
          "metadata": {
            "tags": []
          },
          "execution_count": 108
        },
        {
          "output_type": "display_data",
          "data": {
            "image/png": "[encoded data removed]",
            "text/plain": [
              "<Figure size 432x288 with 1 Axes>"
            ]
          },
          "metadata": {
            "tags": []
          }
        }
      ]
    },
    {
      "cell_type": "code",
      "metadata": {
        "id": "2W7eQKrnuT08",
        "colab_type": "code",
        "outputId": "678980fd-9af5-454e-b6c2-ed2118c63e5d",
        "colab": {
          "base_uri": "https://localhost:8080/",
          "height": 540
        }
      },
      "source": [
        "hashtag_count(delhi_tweets_copy,'Text','Delhi',3)"
      ],
      "execution_count": 110,
      "outputs": [
        {
          "output_type": "display_data",
          "data": {
            "image/png": "[encoded data removed]",
            "text/plain": [
              "<Figure size 1152x576 with 1 Axes>"
            ]
          },
          "metadata": {
            "tags": []
          }
        }
      ]
    },
    {
      "cell_type": "code",
      "metadata": {
        "id": "ydnp2_izutFV",
        "colab_type": "code",
        "outputId": "7f9e6db3-3f55-4c3f-fff1-52b02bb013e5",
        "colab": {
          "base_uri": "https://localhost:8080/",
          "height": 563
        }
      },
      "source": [
        "hashtag_count(agra_tweets_copy,'Text','Agra',5)"
      ],
      "execution_count": 111,
      "outputs": [
        {
          "output_type": "display_data",
          "data": {
            "image/png": "[encoded data removed]",
            "text/plain": [
              "<Figure size 1152x576 with 1 Axes>"
            ]
          },
          "metadata": {
            "tags": []
          }
        }
      ]
    },
    {
      "cell_type": "code",
      "metadata": {
        "id": "1mrZduJDwPrb",
        "colab_type": "code",
        "outputId": "ffde9b04-618f-474d-f8b3-147e0a808b22",
        "colab": {
          "base_uri": "https://localhost:8080/",
          "height": 533
        }
      },
      "source": [
        "hashtag_count(ahem_tweets_copy,'Text','Ahemdabad',8)"
      ],
      "execution_count": 112,
      "outputs": [
        {
          "output_type": "display_data",
          "data": {
            "image/png": "[encoded data removed]",
            "text/plain": [
              "<Figure size 1152x576 with 1 Axes>"
            ]
          },
          "metadata": {
            "tags": []
          }
        }
      ]
    },
    {
      "cell_type": "code",
      "metadata": {
        "id": "pvH3qYspwYml",
        "colab_type": "code",
        "outputId": "4961dcac-e5ac-4731-b9b3-387217e59e6d",
        "colab": {
          "base_uri": "https://localhost:8080/",
          "height": 534
        }
      },
      "source": [
        "plt.figure(figsize=(12,8))\n",
        "sns.countplot(delhi_tweets['Hour'])\n",
        "plt.title('Tweets Generated in Delhi Hourly')\n",
        "plt.text(14,-3,'Ramakant Shakya')\n",
        "plt.text(0,-3,str(datetime.now(tz_India)))"
      ],
      "execution_count": 117,
      "outputs": [
        {
          "output_type": "execute_result",
          "data": {
            "text/plain": [
              "Text(0, -3, '2020-02-23 13:14:28.410999+05:30')"
            ]
          },
          "metadata": {
            "tags": []
          },
          "execution_count": 117
        },
        {
          "output_type": "display_data",
          "data": {
            "image/png": "[encoded data removed]",
            "text/plain": [
              "<Figure size 864x576 with 1 Axes>"
            ]
          },
          "metadata": {
            "tags": []
          }
        }
      ]
    },
    {
      "cell_type": "code",
      "metadata": {
        "id": "wTftvBitwuA3",
        "colab_type": "code",
        "outputId": "bd53adc6-5d0c-4bb4-f1f0-80d32991419a",
        "colab": {
          "base_uri": "https://localhost:8080/",
          "height": 566
        }
      },
      "source": [
        "plt.figure(figsize=(12,8))\n",
        "sns.countplot(agra_tweets['Hour'])\n",
        "plt.title('Tweets Generated in Agra Hourly')\n",
        "plt.text(14,-3,'Ramakant Shakya')\n",
        "plt.text(0,-3,str(datetime.now(tz_India)))"
      ],
      "execution_count": 116,
      "outputs": [
        {
          "output_type": "execute_result",
          "data": {
            "text/plain": [
              "Text(0, -3, '2020-02-23 13:14:13.337344+05:30')"
            ]
          },
          "metadata": {
            "tags": []
          },
          "execution_count": 116
        },
        {
          "output_type": "display_data",
          "data": {
            "image/png": "[encoded data removed]",
            "text/plain": [
              "<Figure size 864x576 with 1 Axes>"
            ]
          },
          "metadata": {
            "tags": []
          }
        }
      ]
    },
    {
      "cell_type": "code",
      "metadata": {
        "id": "2ovi2DoQxRGO",
        "colab_type": "code",
        "outputId": "800bc632-92da-4b51-8e19-8a69893f9226",
        "colab": {
          "base_uri": "https://localhost:8080/",
          "height": 555
        }
      },
      "source": [
        "plt.figure(figsize=(12,8))\n",
        "sns.countplot(ahem_tweets['Hour'])\n",
        "plt.title('Tweets Generated in Ahemdabad Hourly')\n",
        "plt.text(14,-3,'Ramakant Shakya')\n",
        "plt.text(0,-3,str(datetime.now(tz_India)))"
      ],
      "execution_count": 118,
      "outputs": [
        {
          "output_type": "execute_result",
          "data": {
            "text/plain": [
              "Text(0, -3, '2020-02-23 13:14:39.216083+05:30')"
            ]
          },
          "metadata": {
            "tags": []
          },
          "execution_count": 118
        },
        {
          "output_type": "display_data",
          "data": {
            "image/png": "[encoded data removed]",
            "text/plain": [
              "<Figure size 864x576 with 1 Axes>"
            ]
          },
          "metadata": {
            "tags": []
          }
        }
      ]
    },
    {
      "cell_type": "code",
      "metadata": {
        "id": "TPfe1oy0xW6D",
        "colab_type": "code",
        "outputId": "79304ad0-d422-422d-ff20-6327b797be0f",
        "colab": {
          "base_uri": "https://localhost:8080/",
          "height": 535
        }
      },
      "source": [
        "plt.figure(figsize=(12,8))\n",
        "sns.countplot(delhi_tweets['Day'])\n",
        "plt.title('Tweets Generated in Delhi Datewise in Feb')\n",
        "plt.text(10,-9,'Ramakant Shakya')\n",
        "plt.text(0,-9,str(datetime.now(tz_India)))"
      ],
      "execution_count": 121,
      "outputs": [
        {
          "output_type": "execute_result",
          "data": {
            "text/plain": [
              "Text(0, -9, '2020-02-23 13:15:16.313703+05:30')"
            ]
          },
          "metadata": {
            "tags": []
          },
          "execution_count": 121
        },
        {
          "output_type": "display_data",
          "data": {
            "image/png": "[encoded data removed]",
            "text/plain": [
              "<Figure size 864x576 with 1 Axes>"
            ]
          },
          "metadata": {
            "tags": []
          }
        }
      ]
    },
    {
      "cell_type": "code",
      "metadata": {
        "id": "7DzKEh6VxgC5",
        "colab_type": "code",
        "outputId": "e61b6b17-782a-4fe8-d431-3bd0a3f3c46c",
        "colab": {
          "base_uri": "https://localhost:8080/",
          "height": 556
        }
      },
      "source": [
        "plt.figure(figsize=(12,8))\n",
        "sns.countplot(agra_tweets['Day'])\n",
        "plt.title('Tweets Generated in Agra Datewise in Feb')\n",
        "plt.text(8,-9,'Ramakant Shakya')\n",
        "plt.text(0,-9,str(datetime.now(tz_India)))"
      ],
      "execution_count": 126,
      "outputs": [
        {
          "output_type": "execute_result",
          "data": {
            "text/plain": [
              "Text(0, -9, '2020-02-23 13:16:20.282092+05:30')"
            ]
          },
          "metadata": {
            "tags": []
          },
          "execution_count": 126
        },
        {
          "output_type": "display_data",
          "data": {
            "image/png": "[encoded data removed]",
            "text/plain": [
              "<Figure size 864x576 with 1 Axes>"
            ]
          },
          "metadata": {
            "tags": []
          }
        }
      ]
    },
    {
      "cell_type": "code",
      "metadata": {
        "id": "1pRRGjxoxq0E",
        "colab_type": "code",
        "outputId": "4d352f8a-ba05-475d-bb06-83bd36fa8cf8",
        "colab": {
          "base_uri": "https://localhost:8080/",
          "height": 562
        }
      },
      "source": [
        "plt.figure(figsize=(12,8))\n",
        "sns.countplot(ahem_tweets['Day'])\n",
        "plt.title('Tweets Generated in Ahemdabad Datewise in Feb')\n",
        "plt.text(10,-7,'Ramakant Shakya')\n",
        "plt.text(0,-7,str(datetime.now(tz_India)))"
      ],
      "execution_count": 128,
      "outputs": [
        {
          "output_type": "execute_result",
          "data": {
            "text/plain": [
              "Text(0, -7, '2020-02-23 13:16:52.465770+05:30')"
            ]
          },
          "metadata": {
            "tags": []
          },
          "execution_count": 128
        },
        {
          "output_type": "display_data",
          "data": {
            "image/png": "[encoded data removed]",
            "text/plain": [
              "<Figure size 864x576 with 1 Axes>"
            ]
          },
          "metadata": {
            "tags": []
          }
        }
      ]
    },
    {
      "cell_type": "code",
      "metadata": {
        "id": "zfRlrgD5x4Ol",
        "colab_type": "code",
        "colab": {}
      },
      "source": [
        ""
      ],
      "execution_count": 0,
      "outputs": []
    }
  ]
}