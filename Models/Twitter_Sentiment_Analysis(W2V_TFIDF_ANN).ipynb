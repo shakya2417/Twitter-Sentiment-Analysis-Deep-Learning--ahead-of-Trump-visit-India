{
  "nbformat": 4,
  "nbformat_minor": 0,
  "metadata": {
    "colab": {
      "name": "Twiiter Senti Analy.ipynb",
      "provenance": [],
      "collapsed_sections": [],
      "machine_shape": "hm"
    },
    "kernelspec": {
      "name": "python3",
      "display_name": "Python 3"
    },
    "accelerator": "GPU"
  },
  "cells": [
    {
      "cell_type": "markdown",
      "metadata": {
        "id": "01sMgJRGnk6Q",
        "colab_type": "text"
      },
      "source": [
        "#Chaning Directory"
      ]
    },
    {
      "cell_type": "code",
      "metadata": {
        "id": "K9jD-S98gmUp",
        "colab_type": "code",
        "colab": {}
      },
      "source": [
        "import os"
      ],
      "execution_count": 0,
      "outputs": []
    },
    {
      "cell_type": "code",
      "metadata": {
        "id": "_h7cKcUeguy2",
        "colab_type": "code",
        "outputId": "d5bde711-cc3e-43d0-dd70-658a985e7f82",
        "colab": {
          "base_uri": "https://localhost:8080/",
          "height": 34
        }
      },
      "source": [
        "os.getcwd()"
      ],
      "execution_count": 11,
      "outputs": [
        {
          "output_type": "execute_result",
          "data": {
            "text/plain": [
              "'/content'"
            ]
          },
          "metadata": {
            "tags": []
          },
          "execution_count": 11
        }
      ]
    },
    {
      "cell_type": "code",
      "metadata": {
        "id": "1x3TDuM8gwlg",
        "colab_type": "code",
        "colab": {}
      },
      "source": [
        "os.chdir('/content/drive/My Drive/Colab Notebooks/NLP/Twitter Sentiment Analysis')"
      ],
      "execution_count": 0,
      "outputs": []
    },
    {
      "cell_type": "markdown",
      "metadata": {
        "id": "mrNnmalCn8Sc",
        "colab_type": "text"
      },
      "source": [
        "#import data from kaggle on Google Colab by using Kaggle API"
      ]
    },
    {
      "cell_type": "code",
      "metadata": {
        "id": "ICLSQJhag4DH",
        "colab_type": "code",
        "colab": {}
      },
      "source": [
        "!pip install -q kaggle "
      ],
      "execution_count": 0,
      "outputs": []
    },
    {
      "cell_type": "code",
      "metadata": {
        "id": "N6kn5D-ihHOl",
        "colab_type": "code",
        "outputId": "7d3c697f-343c-4b5b-c699-df2213ecf479",
        "colab": {
          "base_uri": "https://localhost:8080/",
          "height": 136
        }
      },
      "source": [
        "!pip install -q kaggle-cli "
      ],
      "execution_count": 5,
      "outputs": [
        {
          "output_type": "stream",
          "text": [
            "\u001b[K     |████████████████████████████████| 81kB 2.5MB/s \n",
            "\u001b[K     |████████████████████████████████| 5.3MB 11.6MB/s \n",
            "\u001b[K     |████████████████████████████████| 112kB 45.5MB/s \n",
            "\u001b[K     |████████████████████████████████| 51kB 6.2MB/s \n",
            "\u001b[K     |████████████████████████████████| 112kB 41.3MB/s \n",
            "\u001b[?25h  Building wheel for kaggle-cli (setup.py) ... \u001b[?25l\u001b[?25hdone\n",
            "  Building wheel for pyperclip (setup.py) ... \u001b[?25l\u001b[?25hdone\n"
          ],
          "name": "stdout"
        }
      ]
    },
    {
      "cell_type": "code",
      "metadata": {
        "id": "XkOlhiikhWfW",
        "colab_type": "code",
        "outputId": "fe799e11-2155-410f-afc2-903ddedc1c90",
        "colab": {
          "base_uri": "https://localhost:8080/",
          "height": 34
        }
      },
      "source": [
        "!mkdir -p ~/.kaggle\n",
        "!cp kaggle.json ~/.kaggle/\n",
        "!chmod 600 ~/.kaggle/kaggle.json\n",
        "!ls ~/.kaggle"
      ],
      "execution_count": 6,
      "outputs": [
        {
          "output_type": "stream",
          "text": [
            "kaggle.json\n"
          ],
          "name": "stdout"
        }
      ]
    },
    {
      "cell_type": "markdown",
      "metadata": {
        "id": "ymoBbZQnoCKB",
        "colab_type": "text"
      },
      "source": [
        "#downloading data from kaggle competition to Google Drive"
      ]
    },
    {
      "cell_type": "code",
      "metadata": {
        "id": "EatBnPZXiQWl",
        "colab_type": "code",
        "outputId": "3db46f1b-b055-4779-ba8a-46941aff6c8b",
        "colab": {
          "base_uri": "https://localhost:8080/",
          "height": 68
        }
      },
      "source": [
        "\n",
        "!kaggle competitions download -c twitter-sentiment-analysis2"
      ],
      "execution_count": 7,
      "outputs": [
        {
          "output_type": "stream",
          "text": [
            "Warning: Looks like you're using an outdated API Version, please consider updating (server 1.5.6 / client 1.5.4)\n",
            "test.csv.zip: Skipping, found more recently modified local copy (use --force to force download)\n",
            "train.csv.zip: Skipping, found more recently modified local copy (use --force to force download)\n"
          ],
          "name": "stdout"
        }
      ]
    },
    {
      "cell_type": "code",
      "metadata": {
        "id": "Txylbh59j5Uu",
        "colab_type": "code",
        "outputId": "e83d3b54-e6be-4f30-d6fd-c1bdbf95cac5",
        "colab": {
          "base_uri": "https://localhost:8080/",
          "height": 68
        }
      },
      "source": [
        "!unzip train.csv.zip"
      ],
      "execution_count": 8,
      "outputs": [
        {
          "output_type": "stream",
          "text": [
            "Archive:  train.csv.zip\n",
            "replace train.csv? [y]es, [n]o, [A]ll, [N]one, [r]ename: y\n",
            "  inflating: train.csv               \n"
          ],
          "name": "stdout"
        }
      ]
    },
    {
      "cell_type": "markdown",
      "metadata": {
        "id": "xpMgWjFvoLZC",
        "colab_type": "text"
      },
      "source": [
        "#Importing Data"
      ]
    },
    {
      "cell_type": "code",
      "metadata": {
        "id": "z2kAcIBDlvNl",
        "colab_type": "code",
        "colab": {}
      },
      "source": [
        "import numpy as np\n",
        "import pandas as pd\n",
        "import matplotlib.pyplot as plt\n",
        "import seaborn as sns"
      ],
      "execution_count": 0,
      "outputs": []
    },
    {
      "cell_type": "code",
      "metadata": {
        "id": "4ow2MGD0mQn-",
        "colab_type": "code",
        "colab": {}
      },
      "source": [
        "df=pd.read_csv('train.csv',encoding='latin-1',header=None)"
      ],
      "execution_count": 0,
      "outputs": []
    },
    {
      "cell_type": "code",
      "metadata": {
        "id": "s0X0rDSIWWwy",
        "colab_type": "code",
        "outputId": "3ef4d38b-ef38-4489-dc32-b3f02cbc62c3",
        "colab": {
          "base_uri": "https://localhost:8080/",
          "height": 204
        }
      },
      "source": [
        "df.head()"
      ],
      "execution_count": 15,
      "outputs": [
        {
          "output_type": "execute_result",
          "data": {
            "text/html": [
              "<div>\n",
              "<style scoped>\n",
              "    .dataframe tbody tr th:only-of-type {\n",
              "        vertical-align: middle;\n",
              "    }\n",
              "\n",
              "    .dataframe tbody tr th {\n",
              "        vertical-align: top;\n",
              "    }\n",
              "\n",
              "    .dataframe thead th {\n",
              "        text-align: right;\n",
              "    }\n",
              "</style>\n",
              "<table border=\"1\" class=\"dataframe\">\n",
              "  <thead>\n",
              "    <tr style=\"text-align: right;\">\n",
              "      <th></th>\n",
              "      <th>0</th>\n",
              "      <th>1</th>\n",
              "      <th>2</th>\n",
              "    </tr>\n",
              "  </thead>\n",
              "  <tbody>\n",
              "    <tr>\n",
              "      <th>0</th>\n",
              "      <td>ItemID</td>\n",
              "      <td>Sentiment</td>\n",
              "      <td>SentimentText</td>\n",
              "    </tr>\n",
              "    <tr>\n",
              "      <th>1</th>\n",
              "      <td>1</td>\n",
              "      <td>0</td>\n",
              "      <td>is so sad for my APL frie...</td>\n",
              "    </tr>\n",
              "    <tr>\n",
              "      <th>2</th>\n",
              "      <td>2</td>\n",
              "      <td>0</td>\n",
              "      <td>I missed the New Moon trail...</td>\n",
              "    </tr>\n",
              "    <tr>\n",
              "      <th>3</th>\n",
              "      <td>3</td>\n",
              "      <td>1</td>\n",
              "      <td>omg its already 7:30 :O</td>\n",
              "    </tr>\n",
              "    <tr>\n",
              "      <th>4</th>\n",
              "      <td>4</td>\n",
              "      <td>0</td>\n",
              "      <td>.. Omgaga. Im sooo  im gunna CRy. I'...</td>\n",
              "    </tr>\n",
              "  </tbody>\n",
              "</table>\n",
              "</div>"
            ],
            "text/plain": [
              "        0          1                                                  2\n",
              "0  ItemID  Sentiment                                      SentimentText\n",
              "1       1          0                       is so sad for my APL frie...\n",
              "2       2          0                     I missed the New Moon trail...\n",
              "3       3          1                            omg its already 7:30 :O\n",
              "4       4          0            .. Omgaga. Im sooo  im gunna CRy. I'..."
            ]
          },
          "metadata": {
            "tags": []
          },
          "execution_count": 15
        }
      ]
    },
    {
      "cell_type": "markdown",
      "metadata": {
        "id": "XtYOwmovoTNR",
        "colab_type": "text"
      },
      "source": [
        "#Adding some data"
      ]
    },
    {
      "cell_type": "code",
      "metadata": {
        "id": "3xoq6F6WmhkY",
        "colab_type": "code",
        "colab": {}
      },
      "source": [
        "df[2][0]='I am not feeling good here.'"
      ],
      "execution_count": 0,
      "outputs": []
    },
    {
      "cell_type": "code",
      "metadata": {
        "id": "CqucDAtc2tQJ",
        "colab_type": "code",
        "colab": {}
      },
      "source": [
        "df[1][0]='0'\n",
        "df[0][0]=0"
      ],
      "execution_count": 0,
      "outputs": []
    },
    {
      "cell_type": "code",
      "metadata": {
        "id": "LefMwZxFmkaV",
        "colab_type": "code",
        "outputId": "6b78fe1e-4194-436f-caa1-e24d524d53a2",
        "colab": {
          "base_uri": "https://localhost:8080/",
          "height": 204
        }
      },
      "source": [
        "df.head()"
      ],
      "execution_count": 18,
      "outputs": [
        {
          "output_type": "execute_result",
          "data": {
            "text/html": [
              "<div>\n",
              "<style scoped>\n",
              "    .dataframe tbody tr th:only-of-type {\n",
              "        vertical-align: middle;\n",
              "    }\n",
              "\n",
              "    .dataframe tbody tr th {\n",
              "        vertical-align: top;\n",
              "    }\n",
              "\n",
              "    .dataframe thead th {\n",
              "        text-align: right;\n",
              "    }\n",
              "</style>\n",
              "<table border=\"1\" class=\"dataframe\">\n",
              "  <thead>\n",
              "    <tr style=\"text-align: right;\">\n",
              "      <th></th>\n",
              "      <th>0</th>\n",
              "      <th>1</th>\n",
              "      <th>2</th>\n",
              "    </tr>\n",
              "  </thead>\n",
              "  <tbody>\n",
              "    <tr>\n",
              "      <th>0</th>\n",
              "      <td>0</td>\n",
              "      <td>0</td>\n",
              "      <td>I am not feeling good here.</td>\n",
              "    </tr>\n",
              "    <tr>\n",
              "      <th>1</th>\n",
              "      <td>1</td>\n",
              "      <td>0</td>\n",
              "      <td>is so sad for my APL frie...</td>\n",
              "    </tr>\n",
              "    <tr>\n",
              "      <th>2</th>\n",
              "      <td>2</td>\n",
              "      <td>0</td>\n",
              "      <td>I missed the New Moon trail...</td>\n",
              "    </tr>\n",
              "    <tr>\n",
              "      <th>3</th>\n",
              "      <td>3</td>\n",
              "      <td>1</td>\n",
              "      <td>omg its already 7:30 :O</td>\n",
              "    </tr>\n",
              "    <tr>\n",
              "      <th>4</th>\n",
              "      <td>4</td>\n",
              "      <td>0</td>\n",
              "      <td>.. Omgaga. Im sooo  im gunna CRy. I'...</td>\n",
              "    </tr>\n",
              "  </tbody>\n",
              "</table>\n",
              "</div>"
            ],
            "text/plain": [
              "   0  1                                                  2\n",
              "0  0  0                        I am not feeling good here.\n",
              "1  1  0                       is so sad for my APL frie...\n",
              "2  2  0                     I missed the New Moon trail...\n",
              "3  3  1                            omg its already 7:30 :O\n",
              "4  4  0            .. Omgaga. Im sooo  im gunna CRy. I'..."
            ]
          },
          "metadata": {
            "tags": []
          },
          "execution_count": 18
        }
      ]
    },
    {
      "cell_type": "code",
      "metadata": {
        "id": "W4noHpgomnRX",
        "colab_type": "code",
        "colab": {}
      },
      "source": [
        "df1=df.copy()"
      ],
      "execution_count": 0,
      "outputs": []
    },
    {
      "cell_type": "code",
      "metadata": {
        "id": "3YJoey5bnbfo",
        "colab_type": "code",
        "colab": {}
      },
      "source": [
        "df.columns=['Id','Sentiment','Tweet_text']"
      ],
      "execution_count": 0,
      "outputs": []
    },
    {
      "cell_type": "code",
      "metadata": {
        "id": "KHoWFR18nrsz",
        "colab_type": "code",
        "outputId": "8e93a550-b9c8-4a44-c6f8-9126c961d249",
        "colab": {
          "base_uri": "https://localhost:8080/",
          "height": 204
        }
      },
      "source": [
        "df.head()"
      ],
      "execution_count": 21,
      "outputs": [
        {
          "output_type": "execute_result",
          "data": {
            "text/html": [
              "<div>\n",
              "<style scoped>\n",
              "    .dataframe tbody tr th:only-of-type {\n",
              "        vertical-align: middle;\n",
              "    }\n",
              "\n",
              "    .dataframe tbody tr th {\n",
              "        vertical-align: top;\n",
              "    }\n",
              "\n",
              "    .dataframe thead th {\n",
              "        text-align: right;\n",
              "    }\n",
              "</style>\n",
              "<table border=\"1\" class=\"dataframe\">\n",
              "  <thead>\n",
              "    <tr style=\"text-align: right;\">\n",
              "      <th></th>\n",
              "      <th>Id</th>\n",
              "      <th>Sentiment</th>\n",
              "      <th>Tweet_text</th>\n",
              "    </tr>\n",
              "  </thead>\n",
              "  <tbody>\n",
              "    <tr>\n",
              "      <th>0</th>\n",
              "      <td>0</td>\n",
              "      <td>0</td>\n",
              "      <td>I am not feeling good here.</td>\n",
              "    </tr>\n",
              "    <tr>\n",
              "      <th>1</th>\n",
              "      <td>1</td>\n",
              "      <td>0</td>\n",
              "      <td>is so sad for my APL frie...</td>\n",
              "    </tr>\n",
              "    <tr>\n",
              "      <th>2</th>\n",
              "      <td>2</td>\n",
              "      <td>0</td>\n",
              "      <td>I missed the New Moon trail...</td>\n",
              "    </tr>\n",
              "    <tr>\n",
              "      <th>3</th>\n",
              "      <td>3</td>\n",
              "      <td>1</td>\n",
              "      <td>omg its already 7:30 :O</td>\n",
              "    </tr>\n",
              "    <tr>\n",
              "      <th>4</th>\n",
              "      <td>4</td>\n",
              "      <td>0</td>\n",
              "      <td>.. Omgaga. Im sooo  im gunna CRy. I'...</td>\n",
              "    </tr>\n",
              "  </tbody>\n",
              "</table>\n",
              "</div>"
            ],
            "text/plain": [
              "  Id Sentiment                                         Tweet_text\n",
              "0  0         0                        I am not feeling good here.\n",
              "1  1         0                       is so sad for my APL frie...\n",
              "2  2         0                     I missed the New Moon trail...\n",
              "3  3         1                            omg its already 7:30 :O\n",
              "4  4         0            .. Omgaga. Im sooo  im gunna CRy. I'..."
            ]
          },
          "metadata": {
            "tags": []
          },
          "execution_count": 21
        }
      ]
    },
    {
      "cell_type": "code",
      "metadata": {
        "id": "rvyw_1vIo8Iz",
        "colab_type": "code",
        "outputId": "9641eb69-6cdf-4b40-ff03-b1f9c475d36d",
        "colab": {
          "base_uri": "https://localhost:8080/",
          "height": 153
        }
      },
      "source": [
        "df.info()"
      ],
      "execution_count": 22,
      "outputs": [
        {
          "output_type": "stream",
          "text": [
            "<class 'pandas.core.frame.DataFrame'>\n",
            "RangeIndex: 99990 entries, 0 to 99989\n",
            "Data columns (total 3 columns):\n",
            "Id            99990 non-null object\n",
            "Sentiment     99990 non-null object\n",
            "Tweet_text    99990 non-null object\n",
            "dtypes: object(3)\n",
            "memory usage: 2.3+ MB\n"
          ],
          "name": "stdout"
        }
      ]
    },
    {
      "cell_type": "code",
      "metadata": {
        "id": "OX_QZ0dRpOOY",
        "colab_type": "code",
        "outputId": "91107e64-13ed-4b76-b600-6621311fc456",
        "colab": {
          "base_uri": "https://localhost:8080/",
          "height": 204
        }
      },
      "source": [
        "df.head()"
      ],
      "execution_count": 23,
      "outputs": [
        {
          "output_type": "execute_result",
          "data": {
            "text/html": [
              "<div>\n",
              "<style scoped>\n",
              "    .dataframe tbody tr th:only-of-type {\n",
              "        vertical-align: middle;\n",
              "    }\n",
              "\n",
              "    .dataframe tbody tr th {\n",
              "        vertical-align: top;\n",
              "    }\n",
              "\n",
              "    .dataframe thead th {\n",
              "        text-align: right;\n",
              "    }\n",
              "</style>\n",
              "<table border=\"1\" class=\"dataframe\">\n",
              "  <thead>\n",
              "    <tr style=\"text-align: right;\">\n",
              "      <th></th>\n",
              "      <th>Id</th>\n",
              "      <th>Sentiment</th>\n",
              "      <th>Tweet_text</th>\n",
              "    </tr>\n",
              "  </thead>\n",
              "  <tbody>\n",
              "    <tr>\n",
              "      <th>0</th>\n",
              "      <td>0</td>\n",
              "      <td>0</td>\n",
              "      <td>I am not feeling good here.</td>\n",
              "    </tr>\n",
              "    <tr>\n",
              "      <th>1</th>\n",
              "      <td>1</td>\n",
              "      <td>0</td>\n",
              "      <td>is so sad for my APL frie...</td>\n",
              "    </tr>\n",
              "    <tr>\n",
              "      <th>2</th>\n",
              "      <td>2</td>\n",
              "      <td>0</td>\n",
              "      <td>I missed the New Moon trail...</td>\n",
              "    </tr>\n",
              "    <tr>\n",
              "      <th>3</th>\n",
              "      <td>3</td>\n",
              "      <td>1</td>\n",
              "      <td>omg its already 7:30 :O</td>\n",
              "    </tr>\n",
              "    <tr>\n",
              "      <th>4</th>\n",
              "      <td>4</td>\n",
              "      <td>0</td>\n",
              "      <td>.. Omgaga. Im sooo  im gunna CRy. I'...</td>\n",
              "    </tr>\n",
              "  </tbody>\n",
              "</table>\n",
              "</div>"
            ],
            "text/plain": [
              "  Id Sentiment                                         Tweet_text\n",
              "0  0         0                        I am not feeling good here.\n",
              "1  1         0                       is so sad for my APL frie...\n",
              "2  2         0                     I missed the New Moon trail...\n",
              "3  3         1                            omg its already 7:30 :O\n",
              "4  4         0            .. Omgaga. Im sooo  im gunna CRy. I'..."
            ]
          },
          "metadata": {
            "tags": []
          },
          "execution_count": 23
        }
      ]
    },
    {
      "cell_type": "markdown",
      "metadata": {
        "id": "o5q5NXGUoixX",
        "colab_type": "text"
      },
      "source": [
        "#Cleaning Text"
      ]
    },
    {
      "cell_type": "code",
      "metadata": {
        "id": "kKkc3vXdpZvY",
        "colab_type": "code",
        "outputId": "434ac768-a07e-42f2-c62a-568d747bd9b0",
        "colab": {
          "base_uri": "https://localhost:8080/",
          "height": 102
        }
      },
      "source": [
        "import re\n",
        "import nltk\n",
        "from nltk.corpus import stopwords\n",
        "from sklearn.datasets import load_files\n",
        "nltk.download('stopwords')\n",
        "nltk.download('punkt')"
      ],
      "execution_count": 24,
      "outputs": [
        {
          "output_type": "stream",
          "text": [
            "[nltk_data] Downloading package stopwords to /root/nltk_data...\n",
            "[nltk_data]   Unzipping corpora/stopwords.zip.\n",
            "[nltk_data] Downloading package punkt to /root/nltk_data...\n",
            "[nltk_data]   Unzipping tokenizers/punkt.zip.\n"
          ],
          "name": "stdout"
        },
        {
          "output_type": "execute_result",
          "data": {
            "text/plain": [
              "True"
            ]
          },
          "metadata": {
            "tags": []
          },
          "execution_count": 24
        }
      ]
    },
    {
      "cell_type": "code",
      "metadata": {
        "id": "h7j5L1gPsgrU",
        "colab_type": "code",
        "colab": {}
      },
      "source": [
        "def clean_text(data,col):\n",
        "  corpus=[]\n",
        "  for i in range(len(data[col])):\n",
        "    text=re.sub(r'http\\S+', ' ', data[col][i])\n",
        "    text=text.lower()\n",
        "    text=re.sub(r\"that's\",\"that is\",text)\n",
        "    text = re.sub(r\"there's\",\"there is\",text)\n",
        "    text = re.sub(r\"what's\",\"what is\",text)\n",
        "    text = re.sub(r\"where's\",\"where is\",text)\n",
        "    text = re.sub(r\"it's\",\"it is\",text)\n",
        "    text = re.sub(r\"who's\",\"who is\",text)\n",
        "    text = re.sub(r\"i'm\",\"i am\",text)\n",
        "    text = re.sub(r\"she's\",\"she is\",text)\n",
        "    text = re.sub(r\"he's\",\"he is\",text)\n",
        "    text = re.sub(r\"they're\",\"they are\",text)\n",
        "    text = re.sub(r\"who're\",\"who are\",text)\n",
        "    text = re.sub(r\"ain't\",\"am not\",text)\n",
        "    text = re.sub(r\"wouldn't\",\"would not\",text)\n",
        "    text = re.sub(r\"shouldn't\",\"should not\",text)\n",
        "    text = re.sub(r\"can't\",\"can not\",text)\n",
        "    text = re.sub(r\"couldn't\",\"could not\",text)\n",
        "    text = re.sub(r\"won't\",\"will not\",text)\n",
        "    text=re.sub(r'[@#\\$%&\\*\\(\\)\\<\\>\\?\\!\\;\\'\\\\-\\_\"]',' ',text)\n",
        "    text= re.sub(r'\\W',' ',text)\n",
        "    text=re.sub(r'\\d',' ',text)\n",
        "    text=re.sub(r'^[a-z]\\s',' ',text)\n",
        "    text=re.sub(r'\\s+[a-z]\\s+',' ',text)\n",
        "    text=re.sub(r'\\s+[a-z]$',' ',text)\n",
        "    text=re.sub(r'\\s+',' ',text)\n",
        "    corpus.append(text)\n",
        "  return corpus"
      ],
      "execution_count": 0,
      "outputs": []
    },
    {
      "cell_type": "code",
      "metadata": {
        "id": "INm2imu3spoS",
        "colab_type": "code",
        "colab": {}
      },
      "source": [
        "df['Tweet_text']=clean_text(df,'Tweet_text')"
      ],
      "execution_count": 0,
      "outputs": []
    },
    {
      "cell_type": "code",
      "metadata": {
        "id": "KJMJBKBNtTSw",
        "colab_type": "code",
        "colab": {}
      },
      "source": [
        "def remove_stopword(data,col):\n",
        "  corpus=[]\n",
        "  s=set(stopwords.words('english'))\n",
        "  s1=['not','or','no','nor']\n",
        "  for i in s1:\n",
        "    if i in s:\n",
        "      s.remove(i)\n",
        "  for i in range(len(data[col])):\n",
        "    words = nltk.word_tokenize(data[col][i])\n",
        "    word1 = [word for word in words if word not in s]\n",
        "    corpus.append(' '.join(word1))\n",
        "  return corpus\n"
      ],
      "execution_count": 0,
      "outputs": []
    },
    {
      "cell_type": "code",
      "metadata": {
        "id": "RvUxpNifmObT",
        "colab_type": "code",
        "colab": {}
      },
      "source": [
        "df['Tweet_text']=remove_stopword(df,'Tweet_text')"
      ],
      "execution_count": 0,
      "outputs": []
    },
    {
      "cell_type": "markdown",
      "metadata": {
        "id": "NukByE4RWo80",
        "colab_type": "text"
      },
      "source": [
        "# **Word2Vec**"
      ]
    },
    {
      "cell_type": "code",
      "metadata": {
        "colab_type": "code",
        "id": "FcC6Pv1WYVGQ",
        "colab": {}
      },
      "source": [
        "from gensim.models import Word2Vec"
      ],
      "execution_count": 0,
      "outputs": []
    },
    {
      "cell_type": "code",
      "metadata": {
        "id": "i-z9F7QGZG7V",
        "colab_type": "code",
        "colab": {}
      },
      "source": [
        "sentences = [nltk.word_tokenize(sentence) for sentence in df['Tweet_text']]"
      ],
      "execution_count": 0,
      "outputs": []
    },
    {
      "cell_type": "code",
      "metadata": {
        "colab_type": "code",
        "id": "BgOYVVLYYVGg",
        "colab": {}
      },
      "source": [
        "Wmodel = Word2Vec(sentences,size=200,window=5,workers=4,min_count=1)"
      ],
      "execution_count": 0,
      "outputs": []
    },
    {
      "cell_type": "code",
      "metadata": {
        "colab_type": "code",
        "id": "VWvVMkkXYVGx",
        "colab": {}
      },
      "source": [
        "Wmodel.build_vocab(sentences,update=True)"
      ],
      "execution_count": 0,
      "outputs": []
    },
    {
      "cell_type": "code",
      "metadata": {
        "colab_type": "code",
        "id": "LzEqfzJhYVG3",
        "colab": {}
      },
      "source": [
        "words=Wmodel.wv.vocab.keys()"
      ],
      "execution_count": 0,
      "outputs": []
    },
    {
      "cell_type": "code",
      "metadata": {
        "colab_type": "code",
        "outputId": "69e5fb28-1429-49a3-cd7c-0cba9b73415e",
        "id": "IZms8aWtYVG9",
        "colab": {
          "base_uri": "https://localhost:8080/",
          "height": 34
        }
      },
      "source": [
        "vocab_size=len(words)\n",
        "print(len(words))"
      ],
      "execution_count": 34,
      "outputs": [
        {
          "output_type": "stream",
          "text": [
            "94954\n"
          ],
          "name": "stdout"
        }
      ]
    },
    {
      "cell_type": "code",
      "metadata": {
        "colab_type": "code",
        "outputId": "0d293fd8-bd3f-4258-c6d7-6e26c229ed6c",
        "id": "L8aH9wAqYVHC",
        "colab": {
          "base_uri": "https://localhost:8080/",
          "height": 34
        }
      },
      "source": [
        "Wmodel.train(sentences=sentences, total_examples=len(sentences), epochs=25)"
      ],
      "execution_count": 35,
      "outputs": [
        {
          "output_type": "execute_result",
          "data": {
            "text/plain": [
              "(18435483, 19603750)"
            ]
          },
          "metadata": {
            "tags": []
          },
          "execution_count": 35
        }
      ]
    },
    {
      "cell_type": "code",
      "metadata": {
        "colab_type": "code",
        "outputId": "74a06a4f-4495-423f-cb56-f1c35fd540c6",
        "id": "z6KsOWEtYVHJ",
        "colab": {
          "base_uri": "https://localhost:8080/",
          "height": 34
        }
      },
      "source": [
        "len(Wmodel.wv.vocab)"
      ],
      "execution_count": 36,
      "outputs": [
        {
          "output_type": "execute_result",
          "data": {
            "text/plain": [
              "94954"
            ]
          },
          "metadata": {
            "tags": []
          },
          "execution_count": 36
        }
      ]
    },
    {
      "cell_type": "code",
      "metadata": {
        "colab_type": "code",
        "outputId": "69ca01d3-2dc4-4700-cb24-d6dc9c175dee",
        "id": "2VAN6jMHYVHP",
        "colab": {
          "base_uri": "https://localhost:8080/",
          "height": 241
        }
      },
      "source": [
        "Wmodel.wv.most_similar(\"fine\")"
      ],
      "execution_count": 37,
      "outputs": [
        {
          "output_type": "stream",
          "text": [
            "/usr/local/lib/python3.6/dist-packages/gensim/matutils.py:737: FutureWarning: Conversion of the second argument of issubdtype from `int` to `np.signedinteger` is deprecated. In future, it will be treated as `np.int64 == np.dtype(int).type`.\n",
            "  if np.issubdtype(vec.dtype, np.int):\n"
          ],
          "name": "stderr"
        },
        {
          "output_type": "execute_result",
          "data": {
            "text/plain": [
              "[('ok', 0.47200456261634827),\n",
              " ('twilightfan', 0.4325796961784363),\n",
              " ('ddms', 0.43129491806030273),\n",
              " ('okay', 0.4194006323814392),\n",
              " ('cycles', 0.41836923360824585),\n",
              " ('problem', 0.4059828519821167),\n",
              " ('confident', 0.4042120575904846),\n",
              " ('anjosinthedark', 0.40103545784950256),\n",
              " ('alright', 0.3998209238052368),\n",
              " ('resolving', 0.3994060754776001)]"
            ]
          },
          "metadata": {
            "tags": []
          },
          "execution_count": 37
        }
      ]
    },
    {
      "cell_type": "code",
      "metadata": {
        "colab_type": "code",
        "outputId": "82fe816e-fe39-4b68-caba-ba0c5cc1cc63",
        "id": "sach8zrhYVHV",
        "colab": {
          "base_uri": "https://localhost:8080/",
          "height": 241
        }
      },
      "source": [
        "Wmodel.wv.most_similar('feeling')"
      ],
      "execution_count": 38,
      "outputs": [
        {
          "output_type": "stream",
          "text": [
            "/usr/local/lib/python3.6/dist-packages/gensim/matutils.py:737: FutureWarning: Conversion of the second argument of issubdtype from `int` to `np.signedinteger` is deprecated. In future, it will be treated as `np.int64 == np.dtype(int).type`.\n",
            "  if np.issubdtype(vec.dtype, np.int):\n"
          ],
          "name": "stderr"
        },
        {
          "output_type": "execute_result",
          "data": {
            "text/plain": [
              "[('feelin', 0.668088436126709),\n",
              " ('feels', 0.574516236782074),\n",
              " ('feel', 0.5674624443054199),\n",
              " ('biggestsonicfan', 0.5663382411003113),\n",
              " ('branwen', 0.5541131496429443),\n",
              " ('alitaylor', 0.5343363285064697),\n",
              " ('arynna', 0.5329161286354065),\n",
              " ('defeiend', 0.5274549126625061),\n",
              " ('andiheartsyew', 0.5250714421272278),\n",
              " ('aceuptop', 0.5213112831115723)]"
            ]
          },
          "metadata": {
            "tags": []
          },
          "execution_count": 38
        }
      ]
    },
    {
      "cell_type": "code",
      "metadata": {
        "colab_type": "code",
        "outputId": "5f1a54f9-4be7-459f-cad6-3b5b755d61f1",
        "id": "jwP3-9w3YVHa",
        "colab": {
          "base_uri": "https://localhost:8080/",
          "height": 241
        }
      },
      "source": [
        "Wmodel.wv.most_similar(\"great\")"
      ],
      "execution_count": 39,
      "outputs": [
        {
          "output_type": "stream",
          "text": [
            "/usr/local/lib/python3.6/dist-packages/gensim/matutils.py:737: FutureWarning: Conversion of the second argument of issubdtype from `int` to `np.signedinteger` is deprecated. In future, it will be treated as `np.int64 == np.dtype(int).type`.\n",
            "  if np.issubdtype(vec.dtype, np.int):\n"
          ],
          "name": "stderr"
        },
        {
          "output_type": "execute_result",
          "data": {
            "text/plain": [
              "[('wonderful', 0.563762903213501),\n",
              " ('gr', 0.5504281520843506),\n",
              " ('fantastic', 0.5280910730361938),\n",
              " ('lovely', 0.5257164835929871),\n",
              " ('awesome', 0.5108277201652527),\n",
              " ('fab', 0.4912419617176056),\n",
              " ('fabulous', 0.4837929308414459),\n",
              " ('beautiful', 0.47223299741744995),\n",
              " ('amazing', 0.45053625106811523),\n",
              " ('gorgeous', 0.4320034980773926)]"
            ]
          },
          "metadata": {
            "tags": []
          },
          "execution_count": 39
        }
      ]
    },
    {
      "cell_type": "markdown",
      "metadata": {
        "id": "2NhAoWVforBI",
        "colab_type": "text"
      },
      "source": [
        "#Creating tfidf model"
      ]
    },
    {
      "cell_type": "code",
      "metadata": {
        "id": "3Vq3UIdsUmc1",
        "colab_type": "code",
        "colab": {}
      },
      "source": [
        "from sklearn.feature_extraction.text import CountVectorizer\n",
        "vectorizer = CountVectorizer(max_features = 5000, min_df = 3, max_df = 0.8)\n",
        "X = vectorizer.fit_transform(df['Tweet_text']).toarray()"
      ],
      "execution_count": 0,
      "outputs": []
    },
    {
      "cell_type": "code",
      "metadata": {
        "id": "e0Mpv04RUmSv",
        "colab_type": "code",
        "colab": {}
      },
      "source": [
        "# Creating the Tf-Idf Model\n",
        "from sklearn.feature_extraction.text import TfidfTransformer\n",
        "transformer = TfidfTransformer()\n",
        "X = transformer.fit_transform(X).toarray()"
      ],
      "execution_count": 0,
      "outputs": []
    },
    {
      "cell_type": "code",
      "metadata": {
        "id": "YHJ_PLLGkdHU",
        "colab_type": "code",
        "colab": {
          "base_uri": "https://localhost:8080/",
          "height": 306
        },
        "outputId": "91d01b6c-ce83-4c07-e1b2-7015158f179f"
      },
      "source": [
        "df['Sentiment'].replace({'0':0,'1':1},inplace=True)"
      ],
      "execution_count": 65,
      "outputs": [
        {
          "output_type": "error",
          "ename": "TypeError",
          "evalue": "ignored",
          "traceback": [
            "\u001b[0;31m---------------------------------------------------------------------------\u001b[0m",
            "\u001b[0;31mTypeError\u001b[0m                                 Traceback (most recent call last)",
            "\u001b[0;32m<ipython-input-65-f300586bd948>\u001b[0m in \u001b[0;36m<module>\u001b[0;34m()\u001b[0m\n\u001b[0;32m----> 1\u001b[0;31m \u001b[0mdf\u001b[0m\u001b[0;34m[\u001b[0m\u001b[0;34m'Sentiment'\u001b[0m\u001b[0;34m]\u001b[0m\u001b[0;34m.\u001b[0m\u001b[0mreplace\u001b[0m\u001b[0;34m(\u001b[0m\u001b[0;34m{\u001b[0m\u001b[0;34m'0'\u001b[0m\u001b[0;34m:\u001b[0m\u001b[0;36m0\u001b[0m\u001b[0;34m,\u001b[0m\u001b[0;34m'1'\u001b[0m\u001b[0;34m:\u001b[0m\u001b[0;36m1\u001b[0m\u001b[0;34m}\u001b[0m\u001b[0;34m,\u001b[0m\u001b[0minplace\u001b[0m\u001b[0;34m=\u001b[0m\u001b[0;32mTrue\u001b[0m\u001b[0;34m)\u001b[0m\u001b[0;34m\u001b[0m\u001b[0;34m\u001b[0m\u001b[0m\n\u001b[0m",
            "\u001b[0;32m/usr/local/lib/python3.6/dist-packages/pandas/core/series.py\u001b[0m in \u001b[0;36mreplace\u001b[0;34m(self, to_replace, value, inplace, limit, regex, method)\u001b[0m\n\u001b[1;32m   4365\u001b[0m             \u001b[0mlimit\u001b[0m\u001b[0;34m=\u001b[0m\u001b[0mlimit\u001b[0m\u001b[0;34m,\u001b[0m\u001b[0;34m\u001b[0m\u001b[0;34m\u001b[0m\u001b[0m\n\u001b[1;32m   4366\u001b[0m             \u001b[0mregex\u001b[0m\u001b[0;34m=\u001b[0m\u001b[0mregex\u001b[0m\u001b[0;34m,\u001b[0m\u001b[0;34m\u001b[0m\u001b[0;34m\u001b[0m\u001b[0m\n\u001b[0;32m-> 4367\u001b[0;31m             \u001b[0mmethod\u001b[0m\u001b[0;34m=\u001b[0m\u001b[0mmethod\u001b[0m\u001b[0;34m,\u001b[0m\u001b[0;34m\u001b[0m\u001b[0;34m\u001b[0m\u001b[0m\n\u001b[0m\u001b[1;32m   4368\u001b[0m         )\n\u001b[1;32m   4369\u001b[0m \u001b[0;34m\u001b[0m\u001b[0m\n",
            "\u001b[0;32m/usr/local/lib/python3.6/dist-packages/pandas/core/generic.py\u001b[0m in \u001b[0;36mreplace\u001b[0;34m(self, to_replace, value, inplace, limit, regex, method)\u001b[0m\n\u001b[1;32m   6680\u001b[0m \u001b[0;34m\u001b[0m\u001b[0m\n\u001b[1;32m   6681\u001b[0m             return self.replace(\n\u001b[0;32m-> 6682\u001b[0;31m                 \u001b[0mto_replace\u001b[0m\u001b[0;34m,\u001b[0m \u001b[0mvalue\u001b[0m\u001b[0;34m,\u001b[0m \u001b[0minplace\u001b[0m\u001b[0;34m=\u001b[0m\u001b[0minplace\u001b[0m\u001b[0;34m,\u001b[0m \u001b[0mlimit\u001b[0m\u001b[0;34m=\u001b[0m\u001b[0mlimit\u001b[0m\u001b[0;34m,\u001b[0m \u001b[0mregex\u001b[0m\u001b[0;34m=\u001b[0m\u001b[0mregex\u001b[0m\u001b[0;34m\u001b[0m\u001b[0;34m\u001b[0m\u001b[0m\n\u001b[0m\u001b[1;32m   6683\u001b[0m             )\n\u001b[1;32m   6684\u001b[0m         \u001b[0;32melse\u001b[0m\u001b[0;34m:\u001b[0m\u001b[0;34m\u001b[0m\u001b[0;34m\u001b[0m\u001b[0m\n",
            "\u001b[0;32m/usr/local/lib/python3.6/dist-packages/pandas/core/series.py\u001b[0m in \u001b[0;36mreplace\u001b[0;34m(self, to_replace, value, inplace, limit, regex, method)\u001b[0m\n\u001b[1;32m   4365\u001b[0m             \u001b[0mlimit\u001b[0m\u001b[0;34m=\u001b[0m\u001b[0mlimit\u001b[0m\u001b[0;34m,\u001b[0m\u001b[0;34m\u001b[0m\u001b[0;34m\u001b[0m\u001b[0m\n\u001b[1;32m   4366\u001b[0m             \u001b[0mregex\u001b[0m\u001b[0;34m=\u001b[0m\u001b[0mregex\u001b[0m\u001b[0;34m,\u001b[0m\u001b[0;34m\u001b[0m\u001b[0;34m\u001b[0m\u001b[0m\n\u001b[0;32m-> 4367\u001b[0;31m             \u001b[0mmethod\u001b[0m\u001b[0;34m=\u001b[0m\u001b[0mmethod\u001b[0m\u001b[0;34m,\u001b[0m\u001b[0;34m\u001b[0m\u001b[0;34m\u001b[0m\u001b[0m\n\u001b[0m\u001b[1;32m   4368\u001b[0m         )\n\u001b[1;32m   4369\u001b[0m \u001b[0;34m\u001b[0m\u001b[0m\n",
            "\u001b[0;32m/usr/local/lib/python3.6/dist-packages/pandas/core/generic.py\u001b[0m in \u001b[0;36mreplace\u001b[0;34m(self, to_replace, value, inplace, limit, regex, method)\u001b[0m\n\u001b[1;32m   6734\u001b[0m                         \u001b[0mdest_list\u001b[0m\u001b[0;34m=\u001b[0m\u001b[0mvalue\u001b[0m\u001b[0;34m,\u001b[0m\u001b[0;34m\u001b[0m\u001b[0;34m\u001b[0m\u001b[0m\n\u001b[1;32m   6735\u001b[0m                         \u001b[0minplace\u001b[0m\u001b[0;34m=\u001b[0m\u001b[0minplace\u001b[0m\u001b[0;34m,\u001b[0m\u001b[0;34m\u001b[0m\u001b[0;34m\u001b[0m\u001b[0m\n\u001b[0;32m-> 6736\u001b[0;31m                         \u001b[0mregex\u001b[0m\u001b[0;34m=\u001b[0m\u001b[0mregex\u001b[0m\u001b[0;34m,\u001b[0m\u001b[0;34m\u001b[0m\u001b[0;34m\u001b[0m\u001b[0m\n\u001b[0m\u001b[1;32m   6737\u001b[0m                     )\n\u001b[1;32m   6738\u001b[0m \u001b[0;34m\u001b[0m\u001b[0m\n",
            "\u001b[0;32m/usr/local/lib/python3.6/dist-packages/pandas/core/internals/managers.py\u001b[0m in \u001b[0;36mreplace_list\u001b[0;34m(self, src_list, dest_list, inplace, regex)\u001b[0m\n\u001b[1;32m    610\u001b[0m             \u001b[0;32mreturn\u001b[0m \u001b[0m_compare_or_regex_search\u001b[0m\u001b[0;34m(\u001b[0m\u001b[0mvalues\u001b[0m\u001b[0;34m,\u001b[0m \u001b[0ms\u001b[0m\u001b[0;34m,\u001b[0m \u001b[0mregex\u001b[0m\u001b[0;34m)\u001b[0m\u001b[0;34m\u001b[0m\u001b[0;34m\u001b[0m\u001b[0m\n\u001b[1;32m    611\u001b[0m \u001b[0;34m\u001b[0m\u001b[0m\n\u001b[0;32m--> 612\u001b[0;31m         \u001b[0mmasks\u001b[0m \u001b[0;34m=\u001b[0m \u001b[0;34m[\u001b[0m\u001b[0mcomp\u001b[0m\u001b[0;34m(\u001b[0m\u001b[0ms\u001b[0m\u001b[0;34m,\u001b[0m \u001b[0mregex\u001b[0m\u001b[0;34m)\u001b[0m \u001b[0;32mfor\u001b[0m \u001b[0mi\u001b[0m\u001b[0;34m,\u001b[0m \u001b[0ms\u001b[0m \u001b[0;32min\u001b[0m \u001b[0menumerate\u001b[0m\u001b[0;34m(\u001b[0m\u001b[0msrc_list\u001b[0m\u001b[0;34m)\u001b[0m\u001b[0;34m]\u001b[0m\u001b[0;34m\u001b[0m\u001b[0;34m\u001b[0m\u001b[0m\n\u001b[0m\u001b[1;32m    613\u001b[0m \u001b[0;34m\u001b[0m\u001b[0m\n\u001b[1;32m    614\u001b[0m         \u001b[0mresult_blocks\u001b[0m \u001b[0;34m=\u001b[0m \u001b[0;34m[\u001b[0m\u001b[0;34m]\u001b[0m\u001b[0;34m\u001b[0m\u001b[0;34m\u001b[0m\u001b[0m\n",
            "\u001b[0;32m/usr/local/lib/python3.6/dist-packages/pandas/core/internals/managers.py\u001b[0m in \u001b[0;36m<listcomp>\u001b[0;34m(.0)\u001b[0m\n\u001b[1;32m    610\u001b[0m             \u001b[0;32mreturn\u001b[0m \u001b[0m_compare_or_regex_search\u001b[0m\u001b[0;34m(\u001b[0m\u001b[0mvalues\u001b[0m\u001b[0;34m,\u001b[0m \u001b[0ms\u001b[0m\u001b[0;34m,\u001b[0m \u001b[0mregex\u001b[0m\u001b[0;34m)\u001b[0m\u001b[0;34m\u001b[0m\u001b[0;34m\u001b[0m\u001b[0m\n\u001b[1;32m    611\u001b[0m \u001b[0;34m\u001b[0m\u001b[0m\n\u001b[0;32m--> 612\u001b[0;31m         \u001b[0mmasks\u001b[0m \u001b[0;34m=\u001b[0m \u001b[0;34m[\u001b[0m\u001b[0mcomp\u001b[0m\u001b[0;34m(\u001b[0m\u001b[0ms\u001b[0m\u001b[0;34m,\u001b[0m \u001b[0mregex\u001b[0m\u001b[0;34m)\u001b[0m \u001b[0;32mfor\u001b[0m \u001b[0mi\u001b[0m\u001b[0;34m,\u001b[0m \u001b[0ms\u001b[0m \u001b[0;32min\u001b[0m \u001b[0menumerate\u001b[0m\u001b[0;34m(\u001b[0m\u001b[0msrc_list\u001b[0m\u001b[0;34m)\u001b[0m\u001b[0;34m]\u001b[0m\u001b[0;34m\u001b[0m\u001b[0;34m\u001b[0m\u001b[0m\n\u001b[0m\u001b[1;32m    613\u001b[0m \u001b[0;34m\u001b[0m\u001b[0m\n\u001b[1;32m    614\u001b[0m         \u001b[0mresult_blocks\u001b[0m \u001b[0;34m=\u001b[0m \u001b[0;34m[\u001b[0m\u001b[0;34m]\u001b[0m\u001b[0;34m\u001b[0m\u001b[0;34m\u001b[0m\u001b[0m\n",
            "\u001b[0;32m/usr/local/lib/python3.6/dist-packages/pandas/core/internals/managers.py\u001b[0m in \u001b[0;36mcomp\u001b[0;34m(s, regex)\u001b[0m\n\u001b[1;32m    608\u001b[0m                     \u001b[0mmaybe_convert_objects\u001b[0m\u001b[0;34m(\u001b[0m\u001b[0mvalues\u001b[0m\u001b[0;34m)\u001b[0m\u001b[0;34m,\u001b[0m \u001b[0ms\u001b[0m\u001b[0;34m.\u001b[0m\u001b[0masm8\u001b[0m\u001b[0;34m,\u001b[0m \u001b[0mregex\u001b[0m\u001b[0;34m\u001b[0m\u001b[0;34m\u001b[0m\u001b[0m\n\u001b[1;32m    609\u001b[0m                 )\n\u001b[0;32m--> 610\u001b[0;31m             \u001b[0;32mreturn\u001b[0m \u001b[0m_compare_or_regex_search\u001b[0m\u001b[0;34m(\u001b[0m\u001b[0mvalues\u001b[0m\u001b[0;34m,\u001b[0m \u001b[0ms\u001b[0m\u001b[0;34m,\u001b[0m \u001b[0mregex\u001b[0m\u001b[0;34m)\u001b[0m\u001b[0;34m\u001b[0m\u001b[0;34m\u001b[0m\u001b[0m\n\u001b[0m\u001b[1;32m    611\u001b[0m \u001b[0;34m\u001b[0m\u001b[0m\n\u001b[1;32m    612\u001b[0m         \u001b[0mmasks\u001b[0m \u001b[0;34m=\u001b[0m \u001b[0;34m[\u001b[0m\u001b[0mcomp\u001b[0m\u001b[0;34m(\u001b[0m\u001b[0ms\u001b[0m\u001b[0;34m,\u001b[0m \u001b[0mregex\u001b[0m\u001b[0;34m)\u001b[0m \u001b[0;32mfor\u001b[0m \u001b[0mi\u001b[0m\u001b[0;34m,\u001b[0m \u001b[0ms\u001b[0m \u001b[0;32min\u001b[0m \u001b[0menumerate\u001b[0m\u001b[0;34m(\u001b[0m\u001b[0msrc_list\u001b[0m\u001b[0;34m)\u001b[0m\u001b[0;34m]\u001b[0m\u001b[0;34m\u001b[0m\u001b[0;34m\u001b[0m\u001b[0m\n",
            "\u001b[0;32m/usr/local/lib/python3.6/dist-packages/pandas/core/internals/managers.py\u001b[0m in \u001b[0;36m_compare_or_regex_search\u001b[0;34m(a, b, regex)\u001b[0m\n\u001b[1;32m   1965\u001b[0m         raise TypeError(\n\u001b[1;32m   1966\u001b[0m             \"Cannot compare types {a!r} and {b!r}\".format(\n\u001b[0;32m-> 1967\u001b[0;31m                 \u001b[0ma\u001b[0m\u001b[0;34m=\u001b[0m\u001b[0mtype_names\u001b[0m\u001b[0;34m[\u001b[0m\u001b[0;36m0\u001b[0m\u001b[0;34m]\u001b[0m\u001b[0;34m,\u001b[0m \u001b[0mb\u001b[0m\u001b[0;34m=\u001b[0m\u001b[0mtype_names\u001b[0m\u001b[0;34m[\u001b[0m\u001b[0;36m1\u001b[0m\u001b[0;34m]\u001b[0m\u001b[0;34m\u001b[0m\u001b[0;34m\u001b[0m\u001b[0m\n\u001b[0m\u001b[1;32m   1968\u001b[0m             )\n\u001b[1;32m   1969\u001b[0m         )\n",
            "\u001b[0;31mTypeError\u001b[0m: Cannot compare types 'ndarray(dtype=int64)' and 'str'"
          ]
        }
      ]
    },
    {
      "cell_type": "code",
      "metadata": {
        "id": "iJdqRX38ktHo",
        "colab_type": "code",
        "colab": {}
      },
      "source": [
        "type(df['Sentiment'][99])"
      ],
      "execution_count": 0,
      "outputs": []
    },
    {
      "cell_type": "code",
      "metadata": {
        "id": "8ZS2dTRMaQn4",
        "colab_type": "code",
        "colab": {}
      },
      "source": [
        "X.shape"
      ],
      "execution_count": 0,
      "outputs": []
    },
    {
      "cell_type": "code",
      "metadata": {
        "id": "WpwISbcwaEMc",
        "colab_type": "code",
        "colab": {}
      },
      "source": [
        "df.head()"
      ],
      "execution_count": 0,
      "outputs": []
    },
    {
      "cell_type": "code",
      "metadata": {
        "id": "m0mPiSGKUmGJ",
        "colab_type": "code",
        "colab": {}
      },
      "source": [
        "y=df['Sentiment'].values"
      ],
      "execution_count": 0,
      "outputs": []
    },
    {
      "cell_type": "code",
      "metadata": {
        "id": "felgx06NW6Dv",
        "colab_type": "code",
        "colab": {}
      },
      "source": [
        "y.shape"
      ],
      "execution_count": 0,
      "outputs": []
    },
    {
      "cell_type": "code",
      "metadata": {
        "id": "iV0PV4lJnO54",
        "colab_type": "code",
        "colab": {}
      },
      "source": [
        "from sklearn.model_selection import train_test_split"
      ],
      "execution_count": 0,
      "outputs": []
    },
    {
      "cell_type": "code",
      "metadata": {
        "id": "WzkOO1nVnJNe",
        "colab_type": "code",
        "colab": {}
      },
      "source": [
        "X_train,X_test,y_train,y_test=train_test_split(X,y,test_size=0.1,random_state=0)"
      ],
      "execution_count": 0,
      "outputs": []
    },
    {
      "cell_type": "code",
      "metadata": {
        "id": "-jPKYFc4nJJv",
        "colab_type": "code",
        "colab": {}
      },
      "source": [
        "print(X_train.shape)\n",
        "print(y_train.shape)"
      ],
      "execution_count": 0,
      "outputs": []
    },
    {
      "cell_type": "code",
      "metadata": {
        "id": "zJd19nf1nJCt",
        "colab_type": "code",
        "colab": {}
      },
      "source": [
        "print(X_test.shape)\n",
        "print(y_test.shape)"
      ],
      "execution_count": 0,
      "outputs": []
    },
    {
      "cell_type": "code",
      "metadata": {
        "id": "YOMmoMc7mmRS",
        "colab_type": "code",
        "colab": {}
      },
      "source": [
        "from sklearn.preprocessing import MinMaxScaler"
      ],
      "execution_count": 0,
      "outputs": []
    },
    {
      "cell_type": "code",
      "metadata": {
        "id": "UBhptROdm5q9",
        "colab_type": "code",
        "colab": {}
      },
      "source": [
        "scaler=MinMaxScaler()"
      ],
      "execution_count": 0,
      "outputs": []
    },
    {
      "cell_type": "code",
      "metadata": {
        "id": "G6cC7RGFm5-B",
        "colab_type": "code",
        "colab": {}
      },
      "source": [
        "X_train=scaler.fit_transform(X_train)"
      ],
      "execution_count": 0,
      "outputs": []
    },
    {
      "cell_type": "code",
      "metadata": {
        "id": "blJ_tqQHm5nI",
        "colab_type": "code",
        "colab": {}
      },
      "source": [
        "X_test=scaler.transform(X_test)"
      ],
      "execution_count": 0,
      "outputs": []
    },
    {
      "cell_type": "code",
      "metadata": {
        "id": "OvFiTcF9rN8o",
        "colab_type": "code",
        "colab": {
          "base_uri": "https://localhost:8080/",
          "height": 51
        },
        "outputId": "0f9bdd31-2dd7-4c1c-bd3b-3b9aeb053c41"
      },
      "source": [
        "print(X_train.shape)\n",
        "print(y_train.shape)"
      ],
      "execution_count": 69,
      "outputs": [
        {
          "output_type": "stream",
          "text": [
            "(89991, 5000)\n",
            "(89991,)\n"
          ],
          "name": "stdout"
        }
      ]
    },
    {
      "cell_type": "code",
      "metadata": {
        "id": "2OJkiKkFC257",
        "colab_type": "code",
        "colab": {}
      },
      "source": [
        "import keras\n",
        "from keras.models import Sequential\n",
        "from keras.layers import Dense,Dropout\n",
        "from keras.regularizers import l2\n"
      ],
      "execution_count": 0,
      "outputs": []
    },
    {
      "cell_type": "code",
      "metadata": {
        "id": "8oRIq4kzyfO-",
        "colab_type": "code",
        "colab": {}
      },
      "source": [
        "model = Sequential()\n",
        "model.add(Dense(500,activation='relu',kernel_regularizer=l2(0.01), bias_regularizer=l2(0.01)))\n",
        "model.add(Dense(250,activation='relu',kernel_regularizer=l2(0.01), bias_regularizer=l2(0.01)))\n",
        "model.add(Dense(125,activation='relu',))\n",
        "model.add(Dense(1,activation='sigmoid'))"
      ],
      "execution_count": 0,
      "outputs": []
    },
    {
      "cell_type": "code",
      "metadata": {
        "id": "VnOaQG-h2TII",
        "colab_type": "code",
        "colab": {}
      },
      "source": [
        "model.compile(optimizer='adam',loss='binary_crossentropy',metrics=['accuracy'])"
      ],
      "execution_count": 0,
      "outputs": []
    },
    {
      "cell_type": "code",
      "metadata": {
        "id": "HalNaVAv2_m4",
        "colab_type": "code",
        "outputId": "bfe2e42c-d9c0-42d8-c154-b12aab2ba3c6",
        "colab": {
          "base_uri": "https://localhost:8080/",
          "height": 1000
        }
      },
      "source": [
        "model.fit(x=X_train,y=y_train,batch_size=256,epochs=50,validation_data=(X_test,y_test))"
      ],
      "execution_count": 82,
      "outputs": [
        {
          "output_type": "stream",
          "text": [
            "Train on 89991 samples, validate on 9999 samples\n",
            "Epoch 1/50\n",
            "89991/89991 [==============================] - 4s 49us/step - loss: 1.1514 - acc: 0.6875 - val_loss: 0.5939 - val_acc: 0.7375\n",
            "Epoch 2/50\n",
            "89991/89991 [==============================] - 4s 41us/step - loss: 0.5817 - acc: 0.7374 - val_loss: 0.5655 - val_acc: 0.7395\n",
            "Epoch 3/50\n",
            "89991/89991 [==============================] - 4s 41us/step - loss: 0.5534 - acc: 0.7509 - val_loss: 0.5458 - val_acc: 0.7508\n",
            "Epoch 4/50\n",
            "89991/89991 [==============================] - 4s 40us/step - loss: 0.5445 - acc: 0.7533 - val_loss: 0.5433 - val_acc: 0.7416\n",
            "Epoch 5/50\n",
            "89991/89991 [==============================] - 4s 39us/step - loss: 0.5403 - acc: 0.7553 - val_loss: 0.5426 - val_acc: 0.7502\n",
            "Epoch 6/50\n",
            "89991/89991 [==============================] - 4s 39us/step - loss: 0.5382 - acc: 0.7578 - val_loss: 0.5372 - val_acc: 0.7550\n",
            "Epoch 7/50\n",
            "89991/89991 [==============================] - 4s 39us/step - loss: 0.5380 - acc: 0.7577 - val_loss: 0.5497 - val_acc: 0.7542\n",
            "Epoch 8/50\n",
            "89991/89991 [==============================] - 4s 40us/step - loss: 0.5364 - acc: 0.7593 - val_loss: 0.5372 - val_acc: 0.7545\n",
            "Epoch 9/50\n",
            "89991/89991 [==============================] - 4s 39us/step - loss: 0.5335 - acc: 0.7598 - val_loss: 0.5462 - val_acc: 0.7474\n",
            "Epoch 10/50\n",
            "89991/89991 [==============================] - 4s 40us/step - loss: 0.5334 - acc: 0.7611 - val_loss: 0.5537 - val_acc: 0.7487\n",
            "Epoch 11/50\n",
            "89991/89991 [==============================] - 4s 40us/step - loss: 0.5334 - acc: 0.7607 - val_loss: 0.5504 - val_acc: 0.7546\n",
            "Epoch 12/50\n",
            "89991/89991 [==============================] - 4s 39us/step - loss: 0.5359 - acc: 0.7616 - val_loss: 0.5529 - val_acc: 0.7523\n",
            "Epoch 13/50\n",
            "89991/89991 [==============================] - 4s 39us/step - loss: 0.5392 - acc: 0.7611 - val_loss: 0.5501 - val_acc: 0.7516\n",
            "Epoch 14/50\n",
            "89991/89991 [==============================] - 4s 40us/step - loss: 0.5366 - acc: 0.7621 - val_loss: 0.5462 - val_acc: 0.7518\n",
            "Epoch 15/50\n",
            "89991/89991 [==============================] - 4s 40us/step - loss: 0.5345 - acc: 0.7604 - val_loss: 0.5607 - val_acc: 0.7469\n",
            "Epoch 16/50\n",
            "89991/89991 [==============================] - 4s 42us/step - loss: 0.5336 - acc: 0.7611 - val_loss: 0.5401 - val_acc: 0.7471\n",
            "Epoch 17/50\n",
            "89991/89991 [==============================] - 4s 40us/step - loss: 0.5379 - acc: 0.7606 - val_loss: 0.5694 - val_acc: 0.7479\n",
            "Epoch 18/50\n",
            "89991/89991 [==============================] - 4s 40us/step - loss: 0.5350 - acc: 0.7621 - val_loss: 0.5279 - val_acc: 0.7535\n",
            "Epoch 19/50\n",
            "89991/89991 [==============================] - 4s 40us/step - loss: 0.5337 - acc: 0.7624 - val_loss: 0.5275 - val_acc: 0.7542\n",
            "Epoch 20/50\n",
            "89991/89991 [==============================] - 4s 40us/step - loss: 0.5335 - acc: 0.7617 - val_loss: 0.5393 - val_acc: 0.7514\n",
            "Epoch 21/50\n",
            "89991/89991 [==============================] - 4s 40us/step - loss: 0.5371 - acc: 0.7611 - val_loss: 0.5556 - val_acc: 0.7430\n",
            "Epoch 22/50\n",
            "89991/89991 [==============================] - 4s 40us/step - loss: 0.5320 - acc: 0.7634 - val_loss: 0.5392 - val_acc: 0.7505\n",
            "Epoch 23/50\n",
            "89991/89991 [==============================] - 4s 40us/step - loss: 0.5306 - acc: 0.7629 - val_loss: 0.5424 - val_acc: 0.7570\n",
            "Epoch 24/50\n",
            "89991/89991 [==============================] - 4s 40us/step - loss: 0.5354 - acc: 0.7624 - val_loss: 0.5409 - val_acc: 0.7555\n",
            "Epoch 25/50\n",
            "89991/89991 [==============================] - 4s 40us/step - loss: 0.5415 - acc: 0.7607 - val_loss: 0.5503 - val_acc: 0.7514\n",
            "Epoch 26/50\n",
            "89991/89991 [==============================] - 4s 40us/step - loss: 0.5332 - acc: 0.7630 - val_loss: 0.5483 - val_acc: 0.7495\n",
            "Epoch 27/50\n",
            "89991/89991 [==============================] - 4s 39us/step - loss: 0.5343 - acc: 0.7621 - val_loss: 0.5399 - val_acc: 0.7550\n",
            "Epoch 28/50\n",
            "89991/89991 [==============================] - 4s 39us/step - loss: 0.5326 - acc: 0.7612 - val_loss: 0.5354 - val_acc: 0.7565\n",
            "Epoch 29/50\n",
            "89991/89991 [==============================] - 4s 39us/step - loss: 0.5352 - acc: 0.7618 - val_loss: 0.5490 - val_acc: 0.7531\n",
            "Epoch 30/50\n",
            "89991/89991 [==============================] - 4s 39us/step - loss: 0.5358 - acc: 0.7613 - val_loss: 0.5494 - val_acc: 0.7481\n",
            "Epoch 31/50\n",
            "89991/89991 [==============================] - 4s 40us/step - loss: 0.5329 - acc: 0.7619 - val_loss: 0.5380 - val_acc: 0.7537\n",
            "Epoch 32/50\n",
            "89991/89991 [==============================] - 4s 40us/step - loss: 0.5414 - acc: 0.7623 - val_loss: 0.5418 - val_acc: 0.7473\n",
            "Epoch 33/50\n",
            "89991/89991 [==============================] - 4s 40us/step - loss: 0.5328 - acc: 0.7621 - val_loss: 0.5460 - val_acc: 0.7526\n",
            "Epoch 34/50\n",
            "89991/89991 [==============================] - 4s 40us/step - loss: 0.5312 - acc: 0.7616 - val_loss: 0.5401 - val_acc: 0.7535\n",
            "Epoch 35/50\n",
            "89991/89991 [==============================] - 4s 40us/step - loss: 0.5321 - acc: 0.7622 - val_loss: 0.5454 - val_acc: 0.7501\n",
            "Epoch 36/50\n",
            "89991/89991 [==============================] - 4s 39us/step - loss: 0.5399 - acc: 0.7626 - val_loss: 0.5418 - val_acc: 0.7505\n",
            "Epoch 37/50\n",
            "89991/89991 [==============================] - 4s 40us/step - loss: 0.5387 - acc: 0.7632 - val_loss: 0.5454 - val_acc: 0.7522\n",
            "Epoch 38/50\n",
            "89991/89991 [==============================] - 4s 40us/step - loss: 0.5441 - acc: 0.7624 - val_loss: 0.5582 - val_acc: 0.7484\n",
            "Epoch 39/50\n",
            "89991/89991 [==============================] - 4s 40us/step - loss: 0.5303 - acc: 0.7634 - val_loss: 0.5467 - val_acc: 0.7484\n",
            "Epoch 40/50\n",
            "89991/89991 [==============================] - 4s 40us/step - loss: 0.5374 - acc: 0.7619 - val_loss: 0.5473 - val_acc: 0.7539\n",
            "Epoch 41/50\n",
            "89991/89991 [==============================] - 4s 39us/step - loss: 0.5284 - acc: 0.7630 - val_loss: 0.5533 - val_acc: 0.7524\n",
            "Epoch 42/50\n",
            "89991/89991 [==============================] - 4s 39us/step - loss: 0.5322 - acc: 0.7628 - val_loss: 0.5427 - val_acc: 0.7555\n",
            "Epoch 43/50\n",
            "89991/89991 [==============================] - 4s 39us/step - loss: 0.5264 - acc: 0.7623 - val_loss: 0.5346 - val_acc: 0.7512\n",
            "Epoch 44/50\n",
            "89991/89991 [==============================] - 4s 39us/step - loss: 0.5340 - acc: 0.7635 - val_loss: 0.5674 - val_acc: 0.7480\n",
            "Epoch 45/50\n",
            "89991/89991 [==============================] - 4s 40us/step - loss: 0.5334 - acc: 0.7624 - val_loss: 0.5308 - val_acc: 0.7543\n",
            "Epoch 46/50\n",
            "89991/89991 [==============================] - 4s 39us/step - loss: 0.5385 - acc: 0.7620 - val_loss: 0.5417 - val_acc: 0.7562\n",
            "Epoch 47/50\n",
            "89991/89991 [==============================] - 4s 39us/step - loss: 0.5332 - acc: 0.7629 - val_loss: 0.5488 - val_acc: 0.7473\n",
            "Epoch 48/50\n",
            "89991/89991 [==============================] - 4s 39us/step - loss: 0.5306 - acc: 0.7624 - val_loss: 0.5450 - val_acc: 0.7509\n",
            "Epoch 49/50\n",
            "89991/89991 [==============================] - 4s 40us/step - loss: 0.5340 - acc: 0.7625 - val_loss: 0.5413 - val_acc: 0.7461\n",
            "Epoch 50/50\n",
            "89991/89991 [==============================] - 4s 40us/step - loss: 0.5328 - acc: 0.7630 - val_loss: 0.5425 - val_acc: 0.7537\n"
          ],
          "name": "stdout"
        },
        {
          "output_type": "execute_result",
          "data": {
            "text/plain": [
              "<keras.callbacks.History at 0x7fbce792ba58>"
            ]
          },
          "metadata": {
            "tags": []
          },
          "execution_count": 82
        }
      ]
    },
    {
      "cell_type": "code",
      "metadata": {
        "id": "BJfIsIEGpLnK",
        "colab_type": "code",
        "colab": {}
      },
      "source": [
        "import matplotlib.pyplot as plt\n",
        "import seaborn as sns\n",
        "sns.set_style('whitegrid')\n",
        "sns.set_palette('husl')"
      ],
      "execution_count": 0,
      "outputs": []
    },
    {
      "cell_type": "code",
      "metadata": {
        "id": "wpVspHkouFT0",
        "colab_type": "code",
        "colab": {
          "base_uri": "https://localhost:8080/",
          "height": 299
        },
        "outputId": "b9bb93ea-13fd-4d41-8662-7d4495e606a4"
      },
      "source": [
        "plt.figure(figsize=(12,10))\n",
        "pd.DataFrame(model.history.history).plot()"
      ],
      "execution_count": 97,
      "outputs": [
        {
          "output_type": "execute_result",
          "data": {
            "text/plain": [
              "<matplotlib.axes._subplots.AxesSubplot at 0x7fbbf81a1b00>"
            ]
          },
          "metadata": {
            "tags": []
          },
          "execution_count": 97
        },
        {
          "output_type": "display_data",
          "data": {
            "text/plain": [
              "<Figure size 864x720 with 0 Axes>"
            ]
          },
          "metadata": {
            "tags": []
          }
        },
        {
          "output_type": "display_data",
          "data": {
            "image/png": "[encoded data removed]",
            "text/plain": [
              "<Figure size 432x288 with 1 Axes>"
            ]
          },
          "metadata": {
            "tags": []
          }
        }
      ]
    },
    {
      "cell_type": "code",
      "metadata": {
        "id": "LY8xx-Xa4EVR",
        "colab_type": "code",
        "colab": {}
      },
      "source": [
        "y_pred=model.predict(X_test)"
      ],
      "execution_count": 0,
      "outputs": []
    },
    {
      "cell_type": "code",
      "metadata": {
        "id": "Gj61Fm95wQbE",
        "colab_type": "code",
        "colab": {}
      },
      "source": [
        "def sentiment(prob):\n",
        "  if prob>=0.5:\n",
        "    return 1\n",
        "  else:\n",
        "      return 0"
      ],
      "execution_count": 0,
      "outputs": []
    },
    {
      "cell_type": "code",
      "metadata": {
        "id": "u-LJhuDtwR2i",
        "colab_type": "code",
        "colab": {}
      },
      "source": [
        "def sentiment_pred(prob):\n",
        "  y_senti=[]\n",
        "  for i in range(len(prob)):\n",
        "    y_senti.append(sentiment(prob[i]))\n",
        "  return y_senti"
      ],
      "execution_count": 0,
      "outputs": []
    },
    {
      "cell_type": "code",
      "metadata": {
        "id": "QY9EblsGnv0P",
        "colab_type": "code",
        "colab": {}
      },
      "source": [
        "y_senti=sentiment_pred(y_pred)"
      ],
      "execution_count": 0,
      "outputs": []
    },
    {
      "cell_type": "code",
      "metadata": {
        "id": "peAqBvGjmoKl",
        "colab_type": "code",
        "colab": {}
      },
      "source": [
        "from sklearn.metrics import accuracy_score,classification_report"
      ],
      "execution_count": 0,
      "outputs": []
    },
    {
      "cell_type": "code",
      "metadata": {
        "id": "bOEr7rUjyaXa",
        "colab_type": "code",
        "outputId": "8deba2fd-75f2-4645-b233-96a8fa548a0b",
        "colab": {
          "base_uri": "https://localhost:8080/",
          "height": 34
        }
      },
      "source": [
        "accuracy_score(y_test,y_senti)"
      ],
      "execution_count": 89,
      "outputs": [
        {
          "output_type": "execute_result",
          "data": {
            "text/plain": [
              "0.7536753675367537"
            ]
          },
          "metadata": {
            "tags": []
          },
          "execution_count": 89
        }
      ]
    },
    {
      "cell_type": "code",
      "metadata": {
        "id": "Ndf9KYzVm7HD",
        "colab_type": "code",
        "outputId": "25ef442a-1781-40b1-8c73-6d2e6f5ab556",
        "colab": {
          "base_uri": "https://localhost:8080/",
          "height": 170
        }
      },
      "source": [
        "print(classification_report(y_test,y_senti))"
      ],
      "execution_count": 90,
      "outputs": [
        {
          "output_type": "stream",
          "text": [
            "              precision    recall  f1-score   support\n",
            "\n",
            "           0       0.71      0.73      0.72      4399\n",
            "           1       0.79      0.77      0.78      5600\n",
            "\n",
            "    accuracy                           0.75      9999\n",
            "   macro avg       0.75      0.75      0.75      9999\n",
            "weighted avg       0.75      0.75      0.75      9999\n",
            "\n"
          ],
          "name": "stdout"
        }
      ]
    },
    {
      "cell_type": "code",
      "metadata": {
        "id": "d5_VYliGClo5",
        "colab_type": "code",
        "colab": {}
      },
      "source": [
        ""
      ],
      "execution_count": 0,
      "outputs": []
    },
    {
      "cell_type": "markdown",
      "metadata": {
        "id": "JRdmf0hdo18B",
        "colab_type": "text"
      },
      "source": [
        "#Saving Model"
      ]
    },
    {
      "cell_type": "code",
      "metadata": {
        "id": "hb6zWDajnIVt",
        "colab_type": "code",
        "colab": {}
      },
      "source": [
        "import pickle"
      ],
      "execution_count": 0,
      "outputs": []
    },
    {
      "cell_type": "code",
      "metadata": {
        "id": "sfBg9JsBnEGu",
        "colab_type": "code",
        "colab": {}
      },
      "source": [
        "with open('model_tfidf.pickle','wb') as f:\n",
        "  pickle.dump(model,f)"
      ],
      "execution_count": 0,
      "outputs": []
    },
    {
      "cell_type": "code",
      "metadata": {
        "id": "Nvm4AYqqpD09",
        "colab_type": "code",
        "colab": {}
      },
      "source": [
        ""
      ],
      "execution_count": 0,
      "outputs": []
    }
  ]
}